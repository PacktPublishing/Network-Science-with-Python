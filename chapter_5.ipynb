{
 "cells": [
  {
   "cell_type": "code",
   "execution_count": 1,
   "id": "f7100612",
   "metadata": {},
   "outputs": [],
   "source": [
    "# keep this function handy for all network visualizations in all chapters\n",
    "\n",
    "def draw_graph(G, show_names=False, node_size=1, font_size=10, edge_width=0.5): \n",
    "\n",
    "    import numpy as np \n",
    "    \n",
    "    from IPython.display import SVG \n",
    "    from sknetwork.visualization import svg_graph \n",
    "    from sknetwork.data import Bunch \n",
    "    from sknetwork.ranking import PageRank \n",
    "\n",
    "    adjacency = nx.to_scipy_sparse_matrix(G, nodelist=None, dtype=None, weight='weight', format='csr') \n",
    "\n",
    "    names = np.array(list(G.nodes())) \n",
    "\n",
    "    graph = Bunch() \n",
    "    graph.adjacency = adjacency \n",
    "    graph.names = np.array(names) \n",
    "\n",
    "    pagerank = PageRank() \n",
    "\n",
    "    scores = pagerank.fit_transform(adjacency) \n",
    "\n",
    "    if show_names: \n",
    "        \n",
    "        image = svg_graph(graph.adjacency, font_size=font_size, node_size=node_size, names=graph.names, width=700, height=500, scores=scores, edge_width=edge_width) \n",
    "\n",
    "    else: \n",
    "\n",
    "        image = svg_graph(graph.adjacency, node_size=node_size, width=700, height=500, scores = scores, edge_width=edge_width) \n",
    "\n",
    "    return SVG(image) "
   ]
  },
  {
   "cell_type": "markdown",
   "id": "971fe274",
   "metadata": {},
   "source": [
    "# Newspaper3k"
   ]
  },
  {
   "cell_type": "code",
   "execution_count": 2,
   "id": "2c059de5",
   "metadata": {},
   "outputs": [],
   "source": [
    "import newspaper \n",
    "\n",
    "domain = 'https://www.goodnewsnetwork.org' \n",
    "\n",
    "paper = newspaper.build(domain, memoize_articles=False) \n",
    "\n",
    "urls = paper.article_urls() "
   ]
  },
  {
   "cell_type": "code",
   "execution_count": 3,
   "id": "318133e1",
   "metadata": {},
   "outputs": [
    {
     "data": {
      "text/plain": [
       "['https://www.goodnewsnetwork.org/category/news/',\n",
       " 'https://www.goodnewsnetwork.org/category/news/horoscopes/',\n",
       " 'https://www.goodnewsnetwork.org/category/news/usa/',\n",
       " 'https://www.goodnewsnetwork.org/category/news/world/',\n",
       " 'https://www.goodnewsnetwork.org/category/news/inspiring/',\n",
       " 'https://www.goodnewsnetwork.org/category/news/animals/',\n",
       " 'https://www.goodnewsnetwork.org/category/news/laughs/',\n",
       " 'https://www.goodnewsnetwork.org/category/news/earth/',\n",
       " 'https://www.goodnewsnetwork.org/category/news/heroes/',\n",
       " 'https://www.goodnewsnetwork.org/category/news/kids/',\n",
       " 'https://www.goodnewsnetwork.org/category/news/self-help/',\n",
       " 'https://www.goodnewsnetwork.org/category/news/founders-blog/',\n",
       " 'https://www.goodnewsnetwork.org/category/news/science/',\n",
       " 'https://www.goodnewsnetwork.org/category/news/health/',\n",
       " 'https://www.goodnewsnetwork.org/category/news/arts-leisure/',\n",
       " 'https://www.goodnewsnetwork.org/category/news/celebrities/',\n",
       " 'https://www.goodnewsnetwork.org/category/news/sports/',\n",
       " 'https://www.goodnewsnetwork.org/category/news/religion/',\n",
       " 'https://www.goodnewsnetwork.org/category/news/reviews/',\n",
       " 'https://www.goodnewsnetwork.org/category/news/at-home/',\n",
       " 'https://www.goodnewsnetwork.org/category/news/business/',\n",
       " 'https://www.goodnewsnetwork.org/category/news/top-videos/',\n",
       " 'https://www.goodnewsnetwork.org/our-new-good-news-app-for-android-and-iphone/',\n",
       " 'https://www.goodnewsnetwork.org/more/press/',\n",
       " 'https://www.goodnewsnetwork.org/formation-that-looks-like-grizzly-bear-spotted-on-mars-by-nasa/',\n",
       " 'https://www.goodnewsnetwork.org/birth-of-a-critically-endangered-przewalskis-horse-in-san-diego/',\n",
       " 'https://www.goodnewsnetwork.org/healthy-lifestyle-especially-nutritious-diet-seems-to-slow-memory-decline-in-older-chinese/',\n",
       " 'https://www.goodnewsnetwork.org/livin-good-currency-ep-29-carrie-rich-on-how-to-show-up-learn-and-listen-to-make-entrepreneurial-good-in-the-world/',\n",
       " 'https://www.goodnewsnetwork.org/livin-good-currency-ep-27-alex-amouyel-on-making-an-impact-life-audit/',\n",
       " 'https://www.goodnewsnetwork.org/livin-good-currency-ep-26-saga-elmohtasen-on-the-numbers-game-of-hollywood/',\n",
       " 'https://www.goodnewsnetwork.org/livin-good-currency-ep-25-gene-gurkoff-on-making-charity-as-easy-as-a-walk-in-the-park/',\n",
       " 'https://www.goodnewsnetwork.org/the-heartwarming-feel-good-book-we-all-need/',\n",
       " 'https://www.goodnewsnetwork.org/gopatch-drug-free-patches-good-gifts/',\n",
       " 'https://www.goodnewsnetwork.org/the-gnn-paperback-book-and-now-the-good-news/',\n",
       " 'https://www.goodnewsnetwork.org/puratae-product-nutrition-company-that-helps-others/',\n",
       " 'https://www.goodnewsnetwork.org/mapa-antiguo-de-la-tierra-te-deja-ver-su-evolucion/',\n",
       " 'https://www.goodnewsnetwork.org/enorme-en-anidacion-de-tortugasen-tailandia-y-florida/',\n",
       " 'https://www.goodnewsnetwork.org/video-de-placas-tectonicas-de-mil-millones-de-anos/',\n",
       " 'https://www.goodnewsnetwork.org/pinguino-papua-perseguido-por-orcas-se-subio-a-un-barco-turistico-en-la-antartida/',\n",
       " 'https://www.goodnewsnetwork.org/florida-toddler-is-best-friends-with-a-white-tree-frog/',\n",
       " 'https://www.goodnewsnetwork.org/over-50s-say-theyve-become-more-daring-trying-skiing-skydiving-marathons-and-even-getting-a-tattoo/',\n",
       " 'https://www.goodnewsnetwork.org/huge-meteorite-found-in-antarctica-one-of-the-biggest-ever-recovered/',\n",
       " 'https://www.goodnewsnetwork.org/horoscope-from-rob-brezsnys-free-will-astrology-1-28-2023/',\n",
       " 'https://www.goodnewsnetwork.org/6-memory-bears-sewn-with-love-and-grandpas-flannels-for-widows-grandchildren/',\n",
       " 'https://www.goodnewsnetwork.org/new-study-of-triassic-fossils-reveal-the-origins-of-living-amphibians-through-a-tiny-funky-worm/']"
      ]
     },
     "execution_count": 3,
     "metadata": {},
     "output_type": "execute_result"
    }
   ],
   "source": [
    "urls"
   ]
  },
  {
   "cell_type": "code",
   "execution_count": 4,
   "id": "a629c982",
   "metadata": {},
   "outputs": [],
   "source": [
    "urls = sorted([u for u in urls if 'category' not in u and len(u)>60]) "
   ]
  },
  {
   "cell_type": "code",
   "execution_count": 5,
   "id": "15ce2137",
   "metadata": {},
   "outputs": [
    {
     "data": {
      "text/plain": [
       "['https://www.goodnewsnetwork.org/6-memory-bears-sewn-with-love-and-grandpas-flannels-for-widows-grandchildren/',\n",
       " 'https://www.goodnewsnetwork.org/birth-of-a-critically-endangered-przewalskis-horse-in-san-diego/',\n",
       " 'https://www.goodnewsnetwork.org/enorme-en-anidacion-de-tortugasen-tailandia-y-florida/',\n",
       " 'https://www.goodnewsnetwork.org/florida-toddler-is-best-friends-with-a-white-tree-frog/',\n",
       " 'https://www.goodnewsnetwork.org/formation-that-looks-like-grizzly-bear-spotted-on-mars-by-nasa/',\n",
       " 'https://www.goodnewsnetwork.org/gopatch-drug-free-patches-good-gifts/',\n",
       " 'https://www.goodnewsnetwork.org/healthy-lifestyle-especially-nutritious-diet-seems-to-slow-memory-decline-in-older-chinese/',\n",
       " 'https://www.goodnewsnetwork.org/horoscope-from-rob-brezsnys-free-will-astrology-1-28-2023/',\n",
       " 'https://www.goodnewsnetwork.org/huge-meteorite-found-in-antarctica-one-of-the-biggest-ever-recovered/',\n",
       " 'https://www.goodnewsnetwork.org/livin-good-currency-ep-25-gene-gurkoff-on-making-charity-as-easy-as-a-walk-in-the-park/']"
      ]
     },
     "execution_count": 5,
     "metadata": {},
     "output_type": "execute_result"
    }
   ],
   "source": [
    "urls[0:10]"
   ]
  },
  {
   "cell_type": "code",
   "execution_count": 6,
   "id": "0f700a2e",
   "metadata": {},
   "outputs": [],
   "source": [
    "from newspaper import Article \n",
    "\n",
    "url = urls[5] \n",
    "\n",
    "article = Article(url) \n",
    "article.download() \n",
    "article.parse() \n",
    "article.nlp() "
   ]
  },
  {
   "cell_type": "code",
   "execution_count": 7,
   "id": "060d5939",
   "metadata": {},
   "outputs": [
    {
     "data": {
      "text/plain": [
       "'Holistic Patches Relieve Anxiety – Without Drugs'"
      ]
     },
     "execution_count": 7,
     "metadata": {},
     "output_type": "execute_result"
    }
   ],
   "source": [
    "title = article.title \n",
    "\n",
    "title "
   ]
  },
  {
   "cell_type": "code",
   "execution_count": 8,
   "id": "e10eb50a",
   "metadata": {},
   "outputs": [
    {
     "data": {
      "text/plain": [
       "'Description\\n\\nGoPatch developed “the world’s first homeopathic patch” that can provide relief from the debilitating symptoms of anxiety.\\n\\nSimply place this discreet, round patch over your navel to stimulate your body’s natural healing response. (Get more details, and read personal testimonials, in the GNN article here.)\\n\\nThe drug-free products, which have no known side effects, are safe for kids over 4-years-old. The patches are safe while taking other medications and guaranteed to work — or your'"
      ]
     },
     "execution_count": 8,
     "metadata": {},
     "output_type": "execute_result"
    }
   ],
   "source": [
    "text = article.text \n",
    "\n",
    "text[0:500] "
   ]
  },
  {
   "cell_type": "code",
   "execution_count": 9,
   "id": "d5774ec6",
   "metadata": {},
   "outputs": [
    {
     "data": {
      "text/plain": [
       "'DescriptionGoPatch developed “the world’s first homeopathic patch” that can provide relief from the debilitating symptoms of anxiety.\\nSimply place this discreet, round patch over your navel to stimulate your body’s natural healing response.\\nThe patches are safe while taking other medications and guaranteed to work — or your money back.\\nThey have a product for menstrual cramps, offering relief from period cramps, menstrual discomfort, and PMS—fast, or your money back.\\nBut 15 minutes later, I realized how the patch worked, and it worked fast.'"
      ]
     },
     "execution_count": 9,
     "metadata": {},
     "output_type": "execute_result"
    }
   ],
   "source": [
    "summary = article.summary \n",
    "\n",
    "summary "
   ]
  },
  {
   "cell_type": "code",
   "execution_count": 10,
   "id": "3660812f",
   "metadata": {},
   "outputs": [
    {
     "data": {
      "text/plain": [
       "'en'"
      ]
     },
     "execution_count": 10,
     "metadata": {},
     "output_type": "execute_result"
    }
   ],
   "source": [
    "language = article.meta_lang \n",
    "\n",
    "language "
   ]
  },
  {
   "cell_type": "code",
   "execution_count": 11,
   "id": "8e9f7581",
   "metadata": {},
   "outputs": [
    {
     "data": {
      "text/plain": [
       "['pain',\n",
       " 'patch',\n",
       " 'drugs',\n",
       " 'vertigo',\n",
       " 'menstrual',\n",
       " 'cramps',\n",
       " 'worked',\n",
       " 'relieve',\n",
       " 'gopatch',\n",
       " 'product',\n",
       " 'holistic',\n",
       " 'anxiety',\n",
       " 'work',\n",
       " 'relief',\n",
       " 'patches']"
      ]
     },
     "execution_count": 11,
     "metadata": {},
     "output_type": "execute_result"
    }
   ],
   "source": [
    "keywords = article.keywords \n",
    "\n",
    "keywords "
   ]
  },
  {
   "cell_type": "code",
   "execution_count": 12,
   "id": "8cc4539f",
   "metadata": {},
   "outputs": [
    {
     "data": {
      "text/plain": [
       "'https://www.goodnewsnetwork.org/wp-content/uploads/2022/02/Anxious-patch-GoPatch-submitted.jpg'"
      ]
     },
     "execution_count": 12,
     "metadata": {},
     "output_type": "execute_result"
    }
   ],
   "source": [
    "image = article.meta_img \n",
    "\n",
    "image "
   ]
  },
  {
   "cell_type": "code",
   "execution_count": 13,
   "id": "5938c07a",
   "metadata": {},
   "outputs": [],
   "source": [
    "from newspaper import Config \n",
    "\n",
    "config = Config() \n",
    "config.browser_user_agent = 'Mozilla/5.0 (Macintosh; Intel Mac OS X 12.0; rv:95.0) Gecko/20100101 Firefox/95.0' \n",
    "config.request_timeout = 3 "
   ]
  },
  {
   "cell_type": "code",
   "execution_count": 14,
   "id": "f39a571d",
   "metadata": {},
   "outputs": [],
   "source": [
    "import time \n",
    "\n",
    "time.sleep(1)"
   ]
  },
  {
   "cell_type": "code",
   "execution_count": null,
   "id": "0d1933d6",
   "metadata": {},
   "outputs": [],
   "source": []
  },
  {
   "cell_type": "code",
   "execution_count": 15,
   "id": "8d054419",
   "metadata": {},
   "outputs": [],
   "source": [
    "import spacy\n",
    "\n",
    "nlp = spacy.load(\"en_core_web_md\")\n",
    "\n",
    "def extract_entities(text): \n",
    "\n",
    "    doc = nlp(text) \n",
    "\n",
    "    sentences = list(doc.sents) \n",
    "\n",
    "    entities = [] \n",
    "\n",
    "    for sentence in sentences: \n",
    "\n",
    "        sentence_entities = [] \n",
    "\n",
    "        sent_doc = nlp(sentence.text) \n",
    "\n",
    "         \n",
    "\n",
    "        for ent in sent_doc.ents: \n",
    "\n",
    "            if ent.label_ in ['PERSON', 'ORG', 'GPE']: \n",
    "\n",
    "                entity = ent.text.strip() \n",
    "\n",
    "                if \"'s\" in entity: \n",
    "\n",
    "                    cutoff = entity.index(\"'s\") \n",
    "\n",
    "                    entity = entity[:cutoff] \n",
    "\n",
    "                if entity != '': \n",
    "\n",
    "                    sentence_entities.append(entity)   \n",
    "\n",
    "        sentence_entities = list(set(sentence_entities))       \n",
    "\n",
    "        if len(sentence_entities) > 1: \n",
    "\n",
    "            entities.append(sentence_entities) \n",
    "\n",
    "    return entities "
   ]
  },
  {
   "cell_type": "code",
   "execution_count": 16,
   "id": "dcf50e56",
   "metadata": {},
   "outputs": [
    {
     "data": {
      "text/plain": [
       "[['Good3', '• Use', 'GoPatch'],\n",
       " ['Heather Gallagher', 'GoPatch'],\n",
       " ['Health First Pharmacy', 'California', 'Windsor'],\n",
       " ['GNN', 'California']]"
      ]
     },
     "execution_count": 16,
     "metadata": {},
     "output_type": "execute_result"
    }
   ],
   "source": [
    "entities = extract_entities(text) \n",
    "\n",
    "entities "
   ]
  },
  {
   "cell_type": "code",
   "execution_count": 17,
   "id": "8862897b",
   "metadata": {},
   "outputs": [],
   "source": [
    "import pandas as pd\n",
    "\n",
    "def get_network_data(entities): \n",
    "\n",
    "    final_sources = [] \n",
    "    final_targets = [] \n",
    "\n",
    "    for row in entities: \n",
    "\n",
    "        source = row[0] \n",
    "        targets = row[1:] \n",
    "\n",
    "        for target in targets: \n",
    "\n",
    "            final_sources.append(source) \n",
    "            final_targets.append(target)   \n",
    "\n",
    "    df = pd.DataFrame({'source':final_sources, 'target':final_targets}) \n",
    "\n",
    "    return df "
   ]
  },
  {
   "cell_type": "code",
   "execution_count": 18,
   "id": "b571c108",
   "metadata": {},
   "outputs": [
    {
     "data": {
      "text/html": [
       "<div>\n",
       "<style scoped>\n",
       "    .dataframe tbody tr th:only-of-type {\n",
       "        vertical-align: middle;\n",
       "    }\n",
       "\n",
       "    .dataframe tbody tr th {\n",
       "        vertical-align: top;\n",
       "    }\n",
       "\n",
       "    .dataframe thead th {\n",
       "        text-align: right;\n",
       "    }\n",
       "</style>\n",
       "<table border=\"1\" class=\"dataframe\">\n",
       "  <thead>\n",
       "    <tr style=\"text-align: right;\">\n",
       "      <th></th>\n",
       "      <th>source</th>\n",
       "      <th>target</th>\n",
       "    </tr>\n",
       "  </thead>\n",
       "  <tbody>\n",
       "    <tr>\n",
       "      <th>0</th>\n",
       "      <td>Good3</td>\n",
       "      <td>• Use</td>\n",
       "    </tr>\n",
       "    <tr>\n",
       "      <th>1</th>\n",
       "      <td>Good3</td>\n",
       "      <td>GoPatch</td>\n",
       "    </tr>\n",
       "    <tr>\n",
       "      <th>2</th>\n",
       "      <td>Heather Gallagher</td>\n",
       "      <td>GoPatch</td>\n",
       "    </tr>\n",
       "    <tr>\n",
       "      <th>3</th>\n",
       "      <td>Health First Pharmacy</td>\n",
       "      <td>California</td>\n",
       "    </tr>\n",
       "    <tr>\n",
       "      <th>4</th>\n",
       "      <td>Health First Pharmacy</td>\n",
       "      <td>Windsor</td>\n",
       "    </tr>\n",
       "  </tbody>\n",
       "</table>\n",
       "</div>"
      ],
      "text/plain": [
       "                  source      target\n",
       "0                  Good3       • Use\n",
       "1                  Good3     GoPatch\n",
       "2      Heather Gallagher     GoPatch\n",
       "3  Health First Pharmacy  California\n",
       "4  Health First Pharmacy     Windsor"
      ]
     },
     "execution_count": 18,
     "metadata": {},
     "output_type": "execute_result"
    }
   ],
   "source": [
    "network_df = get_network_data(entities) \n",
    "\n",
    "network_df.head() "
   ]
  },
  {
   "cell_type": "code",
   "execution_count": 19,
   "id": "cb452b07",
   "metadata": {},
   "outputs": [],
   "source": [
    "import newspaper \n",
    "from newspaper import Article \n",
    "from tqdm import tqdm \n",
    "\n",
    "def get_story_df(domain): \n",
    "\n",
    "    paper = newspaper.build(domain, memoize_articles=False) \n",
    "\n",
    "    urls = paper.article_urls() \n",
    "\n",
    "    urls = sorted([u for u in urls if 'category' not in u and len(u)>60]) \n",
    "\n",
    "    titles = [] \n",
    "    texts = [] \n",
    "    languages = [] \n",
    "    keywords = [] \n",
    "\n",
    "    for url in tqdm(urls): \n",
    "\n",
    "        article = Article(url) \n",
    "        article.download() \n",
    "        article.parse() \n",
    "        article.nlp() \n",
    "        \n",
    "        titles.append(article.title) \n",
    "        texts.append(article.text) \n",
    "        languages.append(article.meta_lang) \n",
    "        keywords.append(article.keywords) \n",
    "\n",
    "    df = pd.DataFrame({'urls':urls, 'title':titles, 'text':texts, 'lang':languages, 'keywords':keywords}) \n",
    "\n",
    "    return df "
   ]
  },
  {
   "cell_type": "code",
   "execution_count": 20,
   "id": "9e415958",
   "metadata": {},
   "outputs": [
    {
     "name": "stderr",
     "output_type": "stream",
     "text": [
      "100%|██████████████████████████████████████████████████████████████████████████████████| 22/22 [00:15<00:00,  1.42it/s]\n"
     ]
    },
    {
     "data": {
      "text/html": [
       "<div>\n",
       "<style scoped>\n",
       "    .dataframe tbody tr th:only-of-type {\n",
       "        vertical-align: middle;\n",
       "    }\n",
       "\n",
       "    .dataframe tbody tr th {\n",
       "        vertical-align: top;\n",
       "    }\n",
       "\n",
       "    .dataframe thead th {\n",
       "        text-align: right;\n",
       "    }\n",
       "</style>\n",
       "<table border=\"1\" class=\"dataframe\">\n",
       "  <thead>\n",
       "    <tr style=\"text-align: right;\">\n",
       "      <th></th>\n",
       "      <th>urls</th>\n",
       "      <th>title</th>\n",
       "      <th>text</th>\n",
       "      <th>lang</th>\n",
       "      <th>keywords</th>\n",
       "    </tr>\n",
       "  </thead>\n",
       "  <tbody>\n",
       "    <tr>\n",
       "      <th>0</th>\n",
       "      <td>https://www.goodnewsnetwork.org/6-memory-bears...</td>\n",
       "      <td>6 ‘Memory Bears’ Sewn With Love and Grandpa’s ...</td>\n",
       "      <td>A hospice care volunteer who sews together ted...</td>\n",
       "      <td>en</td>\n",
       "      <td>[volunteer, flannels, mary, guitar, grandkids,...</td>\n",
       "    </tr>\n",
       "    <tr>\n",
       "      <th>1</th>\n",
       "      <td>https://www.goodnewsnetwork.org/birth-of-a-cri...</td>\n",
       "      <td>U.S. Zoo Celebrates Birth of Extremely Rare Pr...</td>\n",
       "      <td>The San Diego Zoo Safari Park announced the bi...</td>\n",
       "      <td>en</td>\n",
       "      <td>[extinct, foal, celebrates, przewalskis, wildl...</td>\n",
       "    </tr>\n",
       "    <tr>\n",
       "      <th>2</th>\n",
       "      <td>https://www.goodnewsnetwork.org/enorme-en-anid...</td>\n",
       "      <td>Las Playas han Visto un Incremento Enorme en A...</td>\n",
       "      <td>Desde peces volviendo a los canales de Venecia...</td>\n",
       "      <td>es</td>\n",
       "      <td>[turistas, las, restricciones, el, tailandia, ...</td>\n",
       "    </tr>\n",
       "    <tr>\n",
       "      <th>3</th>\n",
       "      <td>https://www.goodnewsnetwork.org/florida-toddle...</td>\n",
       "      <td>Toddler is Best Friends With a Frog: They Eat ...</td>\n",
       "      <td>Meet the toddler whose best friend is a pet fr...</td>\n",
       "      <td>en</td>\n",
       "      <td>[shes, best, white, sits, frog, watch, toddler...</td>\n",
       "    </tr>\n",
       "    <tr>\n",
       "      <th>4</th>\n",
       "      <td>https://www.goodnewsnetwork.org/formation-that...</td>\n",
       "      <td>A Formation That Looks Like a Grizzly Bear Spo...</td>\n",
       "      <td>Fiction and non-fiction writers alike have ima...</td>\n",
       "      <td>en</td>\n",
       "      <td>[planetthe, spotted, pattern, formation, grizz...</td>\n",
       "    </tr>\n",
       "  </tbody>\n",
       "</table>\n",
       "</div>"
      ],
      "text/plain": [
       "                                                urls  \\\n",
       "0  https://www.goodnewsnetwork.org/6-memory-bears...   \n",
       "1  https://www.goodnewsnetwork.org/birth-of-a-cri...   \n",
       "2  https://www.goodnewsnetwork.org/enorme-en-anid...   \n",
       "3  https://www.goodnewsnetwork.org/florida-toddle...   \n",
       "4  https://www.goodnewsnetwork.org/formation-that...   \n",
       "\n",
       "                                               title  \\\n",
       "0  6 ‘Memory Bears’ Sewn With Love and Grandpa’s ...   \n",
       "1  U.S. Zoo Celebrates Birth of Extremely Rare Pr...   \n",
       "2  Las Playas han Visto un Incremento Enorme en A...   \n",
       "3  Toddler is Best Friends With a Frog: They Eat ...   \n",
       "4  A Formation That Looks Like a Grizzly Bear Spo...   \n",
       "\n",
       "                                                text lang  \\\n",
       "0  A hospice care volunteer who sews together ted...   en   \n",
       "1  The San Diego Zoo Safari Park announced the bi...   en   \n",
       "2  Desde peces volviendo a los canales de Venecia...   es   \n",
       "3  Meet the toddler whose best friend is a pet fr...   en   \n",
       "4  Fiction and non-fiction writers alike have ima...   en   \n",
       "\n",
       "                                            keywords  \n",
       "0  [volunteer, flannels, mary, guitar, grandkids,...  \n",
       "1  [extinct, foal, celebrates, przewalskis, wildl...  \n",
       "2  [turistas, las, restricciones, el, tailandia, ...  \n",
       "3  [shes, best, white, sits, frog, watch, toddler...  \n",
       "4  [planetthe, spotted, pattern, formation, grizz...  "
      ]
     },
     "execution_count": 20,
     "metadata": {},
     "output_type": "execute_result"
    }
   ],
   "source": [
    "domain = 'https://www.goodnewsnetwork.org' \n",
    "\n",
    "df = get_story_df(domain) \n",
    "\n",
    "df.head() "
   ]
  },
  {
   "cell_type": "code",
   "execution_count": 26,
   "id": "5aeb219b",
   "metadata": {},
   "outputs": [
    {
     "data": {
      "image/svg+xml": [
       "<svg height=\"540\" width=\"974.0\" xmlns=\"http://www.w3.org/2000/svg\"><path d=\"M 20 254 21 226\" stroke=\"gray\" stroke-width=\"1\"/><path d=\"M 21 226 20 254\" stroke=\"gray\" stroke-width=\"1\"/><path d=\"M 717 358 720 330\" stroke=\"gray\" stroke-width=\"1\"/><path d=\"M 720 330 717 358\" stroke=\"gray\" stroke-width=\"1\"/><path d=\"M 430 20 430 47\" stroke=\"gray\" stroke-width=\"1\"/><path d=\"M 430 47 430 20\" stroke=\"gray\" stroke-width=\"1\"/><path d=\"M 304 492 301 520\" stroke=\"gray\" stroke-width=\"1\"/><path d=\"M 301 520 304 492\" stroke=\"gray\" stroke-width=\"1\"/><circle cx=\"20\" cy=\"254\" r=\"4.0\" style=\"fill:rgb(219, 220, 222);stroke:black;stroke-width:1.0\"/><circle cx=\"21\" cy=\"226\" r=\"4.0\" style=\"fill:rgb(219, 220, 222);stroke:black;stroke-width:1.0\"/><circle cx=\"717\" cy=\"358\" r=\"4.0\" style=\"fill:rgb(219, 220, 222);stroke:black;stroke-width:1.0\"/><circle cx=\"720\" cy=\"330\" r=\"4.0\" style=\"fill:rgb(219, 220, 222);stroke:black;stroke-width:1.0\"/><circle cx=\"430\" cy=\"20\" r=\"4.0\" style=\"fill:rgb(219, 220, 222);stroke:black;stroke-width:1.0\"/><circle cx=\"430\" cy=\"47\" r=\"4.0\" style=\"fill:rgb(219, 220, 222);stroke:black;stroke-width:1.0\"/><circle cx=\"304\" cy=\"492\" r=\"4.0\" style=\"fill:rgb(219, 220, 222);stroke:black;stroke-width:1.0\"/><circle cx=\"301\" cy=\"520\" r=\"4.0\" style=\"fill:rgb(219, 220, 222);stroke:black;stroke-width:1.0\"/><text font-size=\"12\" x=\"27\" y=\"258\">Desde</text><text font-size=\"12\" x=\"28\" y=\"230\">de Londres</text><text font-size=\"12\" x=\"724\" y=\"362\">más grandes</text><text font-size=\"12\" x=\"727\" y=\"334\">Son la especie de tortugas</text><text font-size=\"12\" x=\"437\" y=\"24\">Guardian</text><text font-size=\"12\" x=\"437\" y=\"51\">del centro de Biología Marina de Phuket</text><text font-size=\"12\" x=\"311\" y=\"496\">WPEC-TV de West Palm Beach</text><text font-size=\"12\" x=\"308\" y=\"524\">Sarah Hirsch al</text></svg>"
      ],
      "text/plain": [
       "<IPython.core.display.SVG object>"
      ]
     },
     "execution_count": 26,
     "metadata": {},
     "output_type": "execute_result"
    }
   ],
   "source": [
    "import networkx as nx\n",
    "\n",
    "text = df['text'][2] # change this number if story is mangled and get an error\n",
    "\n",
    "entities = extract_entities(text) \n",
    "\n",
    "network_df = get_network_data(entities) \n",
    "\n",
    "G = nx.from_pandas_edgelist(network_df) \n",
    "\n",
    "draw_graph(G, show_names=True, node_size=4, edge_width=1, font_size=12) "
   ]
  },
  {
   "cell_type": "code",
   "execution_count": 27,
   "id": "b1dfaa39",
   "metadata": {},
   "outputs": [
    {
     "data": {
      "image/svg+xml": [
       "<svg height=\"540\" width=\"932.0\" xmlns=\"http://www.w3.org/2000/svg\"><path d=\"M 283 485 290 520\" stroke=\"gray\" stroke-width=\"1\"/><path d=\"M 283 485 276 450\" stroke=\"gray\" stroke-width=\"1\"/><path d=\"M 290 520 283 485\" stroke=\"gray\" stroke-width=\"1\"/><path d=\"M 276 450 283 485\" stroke=\"gray\" stroke-width=\"1\"/><path d=\"M 206 231 153 250\" stroke=\"gray\" stroke-width=\"1\"/><path d=\"M 206 231 254 214\" stroke=\"gray\" stroke-width=\"1\"/><path d=\"M 153 250 206 231\" stroke=\"gray\" stroke-width=\"1\"/><path d=\"M 153 250 105 268\" stroke=\"gray\" stroke-width=\"1\"/><path d=\"M 57 20 20 35\" stroke=\"gray\" stroke-width=\"1\"/><path d=\"M 20 35 57 20\" stroke=\"gray\" stroke-width=\"1\"/><path d=\"M 105 268 153 250\" stroke=\"gray\" stroke-width=\"1\"/><path d=\"M 720 299 718 330\" stroke=\"gray\" stroke-width=\"1\"/><path d=\"M 718 330 720 299\" stroke=\"gray\" stroke-width=\"1\"/><path d=\"M 254 214 206 231\" stroke=\"gray\" stroke-width=\"1\"/><circle cx=\"283\" cy=\"485\" r=\"4.0\" style=\"fill:rgb(179, 3, 38);stroke:black;stroke-width:1.0\"/><circle cx=\"290\" cy=\"520\" r=\"4.0\" style=\"fill:rgb(109, 144, 241);stroke:black;stroke-width:1.0\"/><circle cx=\"276\" cy=\"450\" r=\"4.0\" style=\"fill:rgb(109, 144, 241);stroke:black;stroke-width:1.0\"/><circle cx=\"206\" cy=\"231\" r=\"4.0\" style=\"fill:rgb(217, 88, 71);stroke:black;stroke-width:1.0\"/><circle cx=\"153\" cy=\"250\" r=\"4.0\" style=\"fill:rgb(217, 88, 71);stroke:black;stroke-width:1.0\"/><circle cx=\"57\" cy=\"20\" r=\"4.0\" style=\"fill:rgb(205, 217, 236);stroke:black;stroke-width:1.0\"/><circle cx=\"20\" cy=\"35\" r=\"4.0\" style=\"fill:rgb(205, 217, 236);stroke:black;stroke-width:1.0\"/><circle cx=\"105\" cy=\"268\" r=\"4.0\" style=\"fill:rgb(58, 76, 192);stroke:black;stroke-width:1.0\"/><circle cx=\"720\" cy=\"299\" r=\"4.0\" style=\"fill:rgb(205, 217, 236);stroke:black;stroke-width:1.0\"/><circle cx=\"718\" cy=\"330\" r=\"4.0\" style=\"fill:rgb(205, 217, 236);stroke:black;stroke-width:1.0\"/><circle cx=\"254\" cy=\"214\" r=\"4.0\" style=\"fill:rgb(58, 76, 192);stroke:black;stroke-width:1.0\"/><text font-size=\"12\" x=\"290\" y=\"489\">Juliana Allon</text><text font-size=\"12\" x=\"297\" y=\"524\">Florida</text><text font-size=\"12\" x=\"283\" y=\"454\">Panama City</text><text font-size=\"12\" x=\"213\" y=\"235\">George</text><text font-size=\"12\" x=\"160\" y=\"254\">Juliana</text><text font-size=\"12\" x=\"64\" y=\"24\">Australia</text><text font-size=\"12\" x=\"27\" y=\"39\">New Zealand</text><text font-size=\"12\" x=\"112\" y=\"272\">Brandie</text><text font-size=\"12\" x=\"727\" y=\"303\">Sizes</text><text font-size=\"12\" x=\"725\" y=\"334\">K Instagram Followers Reminds Us</text><text font-size=\"12\" x=\"261\" y=\"218\">’d</text></svg>"
      ],
      "text/plain": [
       "<IPython.core.display.SVG object>"
      ]
     },
     "execution_count": 27,
     "metadata": {},
     "output_type": "execute_result"
    }
   ],
   "source": [
    "text = df['text'][3] \n",
    "\n",
    "entities = extract_entities(text) \n",
    "\n",
    "network_df = get_network_data(entities) \n",
    "\n",
    "G = nx.from_pandas_edgelist(network_df) \n",
    "\n",
    "draw_graph(G, show_names=True, node_size=4, edge_width=1, font_size=12) "
   ]
  },
  {
   "cell_type": "markdown",
   "id": "8d54a58e",
   "metadata": {},
   "source": [
    "# Twitter\n",
    "\n",
    "You are going to have to add your bearer token for authentication, so please follow along with the book. "
   ]
  }
 ],
 "metadata": {
  "kernelspec": {
   "display_name": "Python 3",
   "language": "python",
   "name": "python3"
  },
  "language_info": {
   "codemirror_mode": {
    "name": "ipython",
    "version": 3
   },
   "file_extension": ".py",
   "mimetype": "text/x-python",
   "name": "python",
   "nbconvert_exporter": "python",
   "pygments_lexer": "ipython3",
   "version": "3.7.13"
  }
 },
 "nbformat": 4,
 "nbformat_minor": 5
}
