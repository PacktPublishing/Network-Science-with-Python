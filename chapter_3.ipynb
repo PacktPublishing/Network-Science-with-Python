{
 "cells": [
  {
   "cell_type": "markdown",
   "id": "33c41029",
   "metadata": {},
   "source": [
    "# Pandas Dataframe of Iris Dataset (Figure 3.2)"
   ]
  },
  {
   "cell_type": "code",
   "execution_count": 1,
   "id": "03c29a88",
   "metadata": {},
   "outputs": [
    {
     "data": {
      "text/html": [
       "<div>\n",
       "<style scoped>\n",
       "    .dataframe tbody tr th:only-of-type {\n",
       "        vertical-align: middle;\n",
       "    }\n",
       "\n",
       "    .dataframe tbody tr th {\n",
       "        vertical-align: top;\n",
       "    }\n",
       "\n",
       "    .dataframe thead th {\n",
       "        text-align: right;\n",
       "    }\n",
       "</style>\n",
       "<table border=\"1\" class=\"dataframe\">\n",
       "  <thead>\n",
       "    <tr style=\"text-align: right;\">\n",
       "      <th></th>\n",
       "      <th>sepal length (cm)</th>\n",
       "      <th>sepal width (cm)</th>\n",
       "      <th>petal length (cm)</th>\n",
       "      <th>petal width (cm)</th>\n",
       "    </tr>\n",
       "  </thead>\n",
       "  <tbody>\n",
       "    <tr>\n",
       "      <th>0</th>\n",
       "      <td>5.1</td>\n",
       "      <td>3.5</td>\n",
       "      <td>1.4</td>\n",
       "      <td>0.2</td>\n",
       "    </tr>\n",
       "    <tr>\n",
       "      <th>1</th>\n",
       "      <td>4.9</td>\n",
       "      <td>3.0</td>\n",
       "      <td>1.4</td>\n",
       "      <td>0.2</td>\n",
       "    </tr>\n",
       "    <tr>\n",
       "      <th>2</th>\n",
       "      <td>4.7</td>\n",
       "      <td>3.2</td>\n",
       "      <td>1.3</td>\n",
       "      <td>0.2</td>\n",
       "    </tr>\n",
       "    <tr>\n",
       "      <th>3</th>\n",
       "      <td>4.6</td>\n",
       "      <td>3.1</td>\n",
       "      <td>1.5</td>\n",
       "      <td>0.2</td>\n",
       "    </tr>\n",
       "    <tr>\n",
       "      <th>4</th>\n",
       "      <td>5.0</td>\n",
       "      <td>3.6</td>\n",
       "      <td>1.4</td>\n",
       "      <td>0.2</td>\n",
       "    </tr>\n",
       "  </tbody>\n",
       "</table>\n",
       "</div>"
      ],
      "text/plain": [
       "   sepal length (cm)  sepal width (cm)  petal length (cm)  petal width (cm)\n",
       "0                5.1               3.5                1.4               0.2\n",
       "1                4.9               3.0                1.4               0.2\n",
       "2                4.7               3.2                1.3               0.2\n",
       "3                4.6               3.1                1.5               0.2\n",
       "4                5.0               3.6                1.4               0.2"
      ]
     },
     "execution_count": 1,
     "metadata": {},
     "output_type": "execute_result"
    }
   ],
   "source": [
    "import pandas as pd\n",
    "from sklearn import datasets \n",
    "\n",
    "iris = datasets.load_iris() \n",
    "\n",
    "df = pd.DataFrame(iris['data'], columns=iris['feature_names']) \n",
    "\n",
    "df.head() "
   ]
  },
  {
   "cell_type": "markdown",
   "id": "c25598d2",
   "metadata": {},
   "source": [
    "# Petal Width Histogram (Figure 3.3)"
   ]
  },
  {
   "cell_type": "code",
   "execution_count": 2,
   "id": "90787503",
   "metadata": {},
   "outputs": [
    {
     "data": {
      "text/plain": [
       "<AxesSubplot:ylabel='Frequency'>"
      ]
     },
     "execution_count": 2,
     "metadata": {},
     "output_type": "execute_result"
    },
    {
     "data": {
      "image/png": "[encoded data removed]",
      "text/plain": [
       "<Figure size 432x288 with 1 Axes>"
      ]
     },
     "metadata": {
      "needs_background": "light"
     },
     "output_type": "display_data"
    }
   ],
   "source": [
    "df['petal width (cm)'].plot.hist() "
   ]
  },
  {
   "cell_type": "markdown",
   "id": "e43fcdd7",
   "metadata": {},
   "source": [
    "# Data Visualization > Matplotlib > Starter Functionality"
   ]
  },
  {
   "cell_type": "code",
   "execution_count": 3,
   "id": "93f2d5ed",
   "metadata": {},
   "outputs": [
    {
     "data": {
      "image/png": "[encoded data removed]",
      "text/plain": [
       "<Figure size 576x432 with 1 Axes>"
      ]
     },
     "metadata": {
      "needs_background": "light"
     },
     "output_type": "display_data"
    }
   ],
   "source": [
    "import matplotlib.pyplot as plt  \n",
    "\n",
    "df['petal width (cm)'].value_counts().plot.barh(figsize=(8,6)).invert_yaxis()"
   ]
  },
  {
   "cell_type": "markdown",
   "id": "4e792554",
   "metadata": {},
   "source": [
    "# Data Visualization > Seaborn > Starter Functionality"
   ]
  },
  {
   "cell_type": "code",
   "execution_count": 4,
   "id": "cf13a0ab",
   "metadata": {},
   "outputs": [
    {
     "data": {
      "text/plain": [
       "<AxesSubplot:xlabel='petal width (cm)', ylabel='Count'>"
      ]
     },
     "execution_count": 4,
     "metadata": {},
     "output_type": "execute_result"
    },
    {
     "data": {
      "image/png": "[encoded data removed]",
      "text/plain": [
       "<Figure size 432x288 with 1 Axes>"
      ]
     },
     "metadata": {
      "needs_background": "light"
     },
     "output_type": "display_data"
    }
   ],
   "source": [
    "import seaborn as sns \n",
    "\n",
    "sns.histplot(df['petal width (cm)'], kde=True) "
   ]
  },
  {
   "cell_type": "markdown",
   "id": "0d3389cf",
   "metadata": {},
   "source": [
    "# NLP > spaCy > Starter Functionality"
   ]
  },
  {
   "cell_type": "code",
   "execution_count": 5,
   "id": "735b8743",
   "metadata": {},
   "outputs": [
    {
     "name": "stdout",
     "output_type": "stream",
     "text": [
      "David Knickerbocker PERSON\n",
      "today DATE\n",
      "September 4, 2022 DATE\n"
     ]
    }
   ],
   "source": [
    "import spacy \n",
    "\n",
    "nlp = spacy.load(\"en_core_web_sm\") \n",
    "\n",
    "doc = nlp(\"David Knickerbocker wrote this book, and today is September 4, 2022.\") \n",
    "\n",
    "for ent in doc.ents: \n",
    "\n",
    "    print(ent.text, ent.label_) "
   ]
  },
  {
   "cell_type": "markdown",
   "id": "5a5ae212",
   "metadata": {},
   "source": [
    "# Network Analysis > NetworkX > Starter Functionality"
   ]
  },
  {
   "cell_type": "code",
   "execution_count": 6,
   "id": "a533155c",
   "metadata": {},
   "outputs": [
    {
     "data": {
      "text/plain": [
       "['Anzelma',\n",
       " 'Babet',\n",
       " 'Bahorel',\n",
       " 'Bamatabois',\n",
       " 'BaronessT',\n",
       " 'Blacheville',\n",
       " 'Bossuet',\n",
       " 'Boulatruelle',\n",
       " 'Brevet',\n",
       " 'Brujon']"
      ]
     },
     "execution_count": 6,
     "metadata": {},
     "output_type": "execute_result"
    }
   ],
   "source": [
    "import networkx as nx \n",
    "\n",
    "G = nx.les_miserables_graph() \n",
    "\n",
    "sorted(G.nodes)[0:10] "
   ]
  }
 ],
 "metadata": {
  "kernelspec": {
   "display_name": "Python 3",
   "language": "python",
   "name": "python3"
  },
  "language_info": {
   "codemirror_mode": {
    "name": "ipython",
    "version": 3
   },
   "file_extension": ".py",
   "mimetype": "text/x-python",
   "name": "python",
   "nbconvert_exporter": "python",
   "pygments_lexer": "ipython3",
   "version": "3.7.13"
  }
 },
 "nbformat": 4,
 "nbformat_minor": 5
}
