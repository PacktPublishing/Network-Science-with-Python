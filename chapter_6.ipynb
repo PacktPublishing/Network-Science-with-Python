{
 "cells": [
  {
   "cell_type": "code",
   "execution_count": 1,
   "id": "079c927e",
   "metadata": {},
   "outputs": [],
   "source": [
    "# keep this function handy for all network visualizations in all chapters\n",
    "\n",
    "def draw_graph(G, show_names=False, node_size=1, font_size=10, edge_width=0.5): \n",
    "\n",
    "    import numpy as np\n",
    "    import networkx as nx\n",
    "    \n",
    "    from IPython.display import SVG \n",
    "    from sknetwork.visualization import svg_graph \n",
    "    from sknetwork.data import Bunch \n",
    "    from sknetwork.ranking import PageRank \n",
    "\n",
    "    adjacency = nx.to_scipy_sparse_matrix(G, nodelist=None, dtype=None, weight='weight', format='csr') \n",
    "\n",
    "    names = np.array(list(G.nodes())) \n",
    "\n",
    "    graph = Bunch() \n",
    "    graph.adjacency = adjacency \n",
    "    graph.names = np.array(names) \n",
    "\n",
    "    pagerank = PageRank() \n",
    "\n",
    "    scores = pagerank.fit_transform(adjacency) \n",
    "\n",
    "    if show_names: \n",
    "        \n",
    "        image = svg_graph(graph.adjacency, font_size=font_size, node_size=node_size, names=graph.names, width=700, height=500, scores=scores, edge_width=edge_width) \n",
    "\n",
    "    else: \n",
    "\n",
    "        image = svg_graph(graph.adjacency, node_size=node_size, width=700, height=500, scores = scores, edge_width=edge_width) \n",
    "\n",
    "    return SVG(image) "
   ]
  },
  {
   "cell_type": "markdown",
   "id": "eb327dd3",
   "metadata": {},
   "source": [
    "# creating a graph from an edgelist"
   ]
  },
  {
   "cell_type": "code",
   "execution_count": 2,
   "id": "b1f0295a",
   "metadata": {},
   "outputs": [],
   "source": [
    "import pandas as pd \n",
    "import networkx as nx "
   ]
  },
  {
   "cell_type": "code",
   "execution_count": 3,
   "id": "971301c7",
   "metadata": {},
   "outputs": [
    {
     "data": {
      "text/html": [
       "<div>\n",
       "<style scoped>\n",
       "    .dataframe tbody tr th:only-of-type {\n",
       "        vertical-align: middle;\n",
       "    }\n",
       "\n",
       "    .dataframe tbody tr th {\n",
       "        vertical-align: top;\n",
       "    }\n",
       "\n",
       "    .dataframe thead th {\n",
       "        text-align: right;\n",
       "    }\n",
       "</style>\n",
       "<table border=\"1\" class=\"dataframe\">\n",
       "  <thead>\n",
       "    <tr style=\"text-align: right;\">\n",
       "      <th></th>\n",
       "      <th>source</th>\n",
       "      <th>target</th>\n",
       "    </tr>\n",
       "  </thead>\n",
       "  <tbody>\n",
       "    <tr>\n",
       "      <th>0</th>\n",
       "      <td>Rabbit</td>\n",
       "      <td>Alice</td>\n",
       "    </tr>\n",
       "    <tr>\n",
       "      <th>1</th>\n",
       "      <td>Longitude</td>\n",
       "      <td>Alice</td>\n",
       "    </tr>\n",
       "    <tr>\n",
       "      <th>2</th>\n",
       "      <td>New Zealand</td>\n",
       "      <td>Ma'am</td>\n",
       "    </tr>\n",
       "    <tr>\n",
       "      <th>3</th>\n",
       "      <td>New Zealand</td>\n",
       "      <td>Australia</td>\n",
       "    </tr>\n",
       "    <tr>\n",
       "      <th>4</th>\n",
       "      <td>Fender</td>\n",
       "      <td>Alice</td>\n",
       "    </tr>\n",
       "  </tbody>\n",
       "</table>\n",
       "</div>"
      ],
      "text/plain": [
       "        source     target\n",
       "0       Rabbit      Alice\n",
       "1    Longitude      Alice\n",
       "2  New Zealand      Ma'am\n",
       "3  New Zealand  Australia\n",
       "4       Fender      Alice"
      ]
     },
     "execution_count": 3,
     "metadata": {},
     "output_type": "execute_result"
    }
   ],
   "source": [
    "data = 'https://raw.githubusercontent.com/itsgorain/datasets/main/networks/alice/edgelist_alice_original.csv' \n",
    "\n",
    "network_df = pd.read_csv(data) \n",
    "\n",
    "network_df.head() "
   ]
  },
  {
   "cell_type": "markdown",
   "id": "eaa07236",
   "metadata": {},
   "source": [
    "# creating different types of graphs"
   ]
  },
  {
   "cell_type": "code",
   "execution_count": 4,
   "id": "ae07769b",
   "metadata": {},
   "outputs": [
    {
     "data": {
      "text/plain": [
       "<networkx.classes.graph.Graph at 0x233106f80c8>"
      ]
     },
     "execution_count": 4,
     "metadata": {},
     "output_type": "execute_result"
    }
   ],
   "source": [
    "G = nx.from_pandas_edgelist(network_df) \n",
    "G"
   ]
  },
  {
   "cell_type": "code",
   "execution_count": 5,
   "id": "374a856a",
   "metadata": {},
   "outputs": [
    {
     "data": {
      "text/plain": [
       "<networkx.classes.digraph.DiGraph at 0x2331070f1c8>"
      ]
     },
     "execution_count": 5,
     "metadata": {},
     "output_type": "execute_result"
    }
   ],
   "source": [
    "G = nx.from_pandas_edgelist(network_df, create_using=nx.DiGraph) \n",
    "G"
   ]
  },
  {
   "cell_type": "code",
   "execution_count": 6,
   "id": "9d02bd0e",
   "metadata": {},
   "outputs": [
    {
     "data": {
      "text/plain": [
       "<networkx.classes.multigraph.MultiGraph at 0x2331070f248>"
      ]
     },
     "execution_count": 6,
     "metadata": {},
     "output_type": "execute_result"
    }
   ],
   "source": [
    "G = nx.from_pandas_edgelist(network_df, create_using=nx.MultiGraph) \n",
    "G"
   ]
  },
  {
   "cell_type": "code",
   "execution_count": 7,
   "id": "a1d60167",
   "metadata": {},
   "outputs": [
    {
     "data": {
      "text/plain": [
       "<networkx.classes.multidigraph.MultiDiGraph at 0x2331070fcc8>"
      ]
     },
     "execution_count": 7,
     "metadata": {},
     "output_type": "execute_result"
    }
   ],
   "source": [
    "G = nx.from_pandas_edgelist(network_df, create_using=nx.MultiDiGraph) \n",
    "G"
   ]
  },
  {
   "cell_type": "markdown",
   "id": "729973e4",
   "metadata": {},
   "source": [
    "# summarizing graphs"
   ]
  },
  {
   "cell_type": "code",
   "execution_count": 8,
   "id": "9292f802",
   "metadata": {},
   "outputs": [],
   "source": [
    "G = nx.from_pandas_edgelist(network_df) "
   ]
  },
  {
   "cell_type": "code",
   "execution_count": 9,
   "id": "4c02bb7c",
   "metadata": {},
   "outputs": [
    {
     "name": "stdout",
     "output_type": "stream",
     "text": [
      "Graph with 68 nodes and 68 edges\n"
     ]
    }
   ],
   "source": [
    "print(nx.info(G)) "
   ]
  },
  {
   "cell_type": "markdown",
   "id": "f8e08f06",
   "metadata": {},
   "source": [
    "# listing nodes"
   ]
  },
  {
   "cell_type": "code",
   "execution_count": 10,
   "id": "19298361",
   "metadata": {},
   "outputs": [
    {
     "data": {
      "text/plain": [
       "NodeView(('Rabbit', 'Alice', 'Longitude', 'New Zealand', \"Ma'am\", 'Australia', 'Fender', 'Ada', 'Mabel', 'Paris', 'Rome', 'London', 'Improve', 'Nile', 'William the Conqueror', 'Mouse', 'Lory', 'Eaglet', 'Northumbria', 'Edwin', 'Morcar', 'Stigand', 'Mercia', 'Canterbury', 'â\\x80\\x98it', 'William', 'Edgar Atheling', \"â\\x80\\x98I'll\", 'Said', 'Crab', 'Dinah', 'the White Rabbit', 'Bill', 'The Rabbit Sends', 'Mary Ann', 'Pat', 'Caterpillar', 'CHAPTER V.', 'William_', 'Pigeon', 'Fish-Footman', 'Duchess', 'Cheshire', 'Hare', 'Dormouse', 'Hatter', 'Time', 'Tillie', 'Elsie', 'Lacie', 'Treacle', 'Kings', 'Queens', 'Cat', 'Cheshire Cat', 'Somebody', 'Mystery', 'Seaography', 'Lobster Quadrille', 'France', 'England', 'â\\x80\\x98Keep', 'garden_.', 'Hm', 'Soup', 'Beautiful', 'Gryphon', 'Lizard'))"
      ]
     },
     "execution_count": 10,
     "metadata": {},
     "output_type": "execute_result"
    }
   ],
   "source": [
    "G.nodes"
   ]
  },
  {
   "cell_type": "code",
   "execution_count": 11,
   "id": "abc76230",
   "metadata": {},
   "outputs": [],
   "source": [
    "def show_nodes(G): \n",
    "\n",
    "    nodes = sorted(list(G.nodes())) \n",
    "\n",
    "    return ', '.join(nodes) "
   ]
  },
  {
   "cell_type": "code",
   "execution_count": 12,
   "id": "dbf0f9ec",
   "metadata": {},
   "outputs": [
    {
     "data": {
      "text/plain": [
       "\"Ada, Alice, Australia, Beautiful, Bill, CHAPTER V., Canterbury, Cat, Caterpillar, Cheshire, Cheshire Cat, Crab, Dinah, Dormouse, Duchess, Eaglet, Edgar Atheling, Edwin, Elsie, England, Fender, Fish-Footman, France, Gryphon, Hare, Hatter, Hm, Improve, Kings, Lacie, Lizard, Lobster Quadrille, London, Longitude, Lory, Ma'am, Mabel, Mary Ann, Mercia, Morcar, Mouse, Mystery, New Zealand, Nile, Northumbria, Paris, Pat, Pigeon, Queens, Rabbit, Rome, Said, Seaography, Somebody, Soup, Stigand, The Rabbit Sends, Tillie, Time, Treacle, William, William the Conqueror, William_, garden_., the White Rabbit, â\\x80\\x98I'll, â\\x80\\x98Keep, â\\x80\\x98it\""
      ]
     },
     "execution_count": 12,
     "metadata": {},
     "output_type": "execute_result"
    }
   ],
   "source": [
    "show_nodes(G)"
   ]
  },
  {
   "cell_type": "markdown",
   "id": "5cc1e8e3",
   "metadata": {},
   "source": [
    "# listing edges"
   ]
  },
  {
   "cell_type": "code",
   "execution_count": 13,
   "id": "d4d25940",
   "metadata": {},
   "outputs": [
    {
     "data": {
      "text/plain": [
       "EdgeView([('Rabbit', 'Alice'), ('Rabbit', 'Mary Ann'), ('Rabbit', 'Pat'), ('Rabbit', 'Dinah'), ('Alice', 'Longitude'), ('Alice', 'Fender'), ('Alice', 'Mabel'), ('Alice', 'William the Conqueror'), ('Alice', 'Mouse'), ('Alice', 'Lory'), ('Alice', 'Mary Ann'), ('Alice', 'Dinah'), ('Alice', 'Bill'), ('Alice', 'Caterpillar'), ('Alice', 'Pigeon'), ('Alice', 'Fish-Footman'), ('Alice', 'Duchess'), ('Alice', 'Hare'), ('Alice', 'Dormouse'), ('Alice', 'Hatter'), ('Alice', 'Kings'), ('Alice', 'Cat'), ('Alice', 'Cheshire Cat'), ('Alice', 'Somebody'), ('Alice', 'Lobster Quadrille'), ('Alice', 'â\\x80\\x98Keep'), ('Alice', 'garden_.'), ('Alice', 'Hm'), ('Alice', 'Soup'), ('Alice', 'the White Rabbit'), ('New Zealand', \"Ma'am\"), ('New Zealand', 'Australia'), ('Ada', 'Mabel'), ('Paris', 'Rome'), ('Paris', 'London'), ('Improve', 'Nile'), ('Mouse', 'â\\x80\\x98it'), ('Mouse', 'William'), ('Lory', 'Eaglet'), ('Lory', 'Crab'), ('Lory', 'Dinah'), ('Northumbria', 'Edwin'), ('Northumbria', 'Morcar'), ('Morcar', 'Stigand'), ('Morcar', 'Mercia'), ('Morcar', 'Canterbury'), ('William', 'Edgar Atheling'), (\"â\\x80\\x98I'll\", 'Said'), ('the White Rabbit', 'Bill'), ('the White Rabbit', 'The Rabbit Sends'), ('Caterpillar', 'CHAPTER V.'), ('Caterpillar', 'William_'), ('Duchess', 'Cheshire'), ('Duchess', 'Cat'), ('Duchess', 'Lizard'), ('Hare', 'Hatter'), ('Hare', 'Lizard'), ('Dormouse', 'Hatter'), ('Dormouse', 'Tillie'), ('Dormouse', 'Elsie'), ('Dormouse', 'Lacie'), ('Dormouse', 'Treacle'), ('Hatter', 'Time'), ('Kings', 'Queens'), ('Mystery', 'Seaography'), ('France', 'England'), ('Soup', 'Beautiful'), ('Soup', 'Gryphon')])"
      ]
     },
     "execution_count": 13,
     "metadata": {},
     "output_type": "execute_result"
    }
   ],
   "source": [
    "G.edges"
   ]
  },
  {
   "cell_type": "markdown",
   "id": "3df4216c",
   "metadata": {},
   "source": [
    "# removing nodes"
   ]
  },
  {
   "cell_type": "code",
   "execution_count": 14,
   "id": "47a602e1",
   "metadata": {},
   "outputs": [],
   "source": [
    "G.remove_node('â\\x80\\x98it')"
   ]
  },
  {
   "cell_type": "code",
   "execution_count": 15,
   "id": "931b8c1f",
   "metadata": {},
   "outputs": [],
   "source": [
    "drop_nodes = ['Beautiful', 'CHAPTER V.', 'Hm', 'Improve', 'Longitude', 'Ma\\'am', 'Mystery', 'Said',  \n",
    "              'Seaography', 'Somebody', 'Soup', 'Time', 'garden_.',  'â\\x80\\x98I\\'ll', 'â\\x80\\x98Keep'] \n",
    "\n",
    "G.remove_nodes_from(drop_nodes) "
   ]
  },
  {
   "cell_type": "code",
   "execution_count": 16,
   "id": "44273cc1",
   "metadata": {},
   "outputs": [
    {
     "data": {
      "text/plain": [
       "'Ada, Alice, Australia, Bill, Canterbury, Cat, Caterpillar, Cheshire, Cheshire Cat, Crab, Dinah, Dormouse, Duchess, Eaglet, Edgar Atheling, Edwin, Elsie, England, Fender, Fish-Footman, France, Gryphon, Hare, Hatter, Kings, Lacie, Lizard, Lobster Quadrille, London, Lory, Mabel, Mary Ann, Mercia, Morcar, Mouse, New Zealand, Nile, Northumbria, Paris, Pat, Pigeon, Queens, Rabbit, Rome, Stigand, The Rabbit Sends, Tillie, Treacle, William, William the Conqueror, William_, the White Rabbit'"
      ]
     },
     "execution_count": 16,
     "metadata": {},
     "output_type": "execute_result"
    }
   ],
   "source": [
    "show_nodes(G) "
   ]
  },
  {
   "cell_type": "markdown",
   "id": "cd88827e",
   "metadata": {},
   "source": [
    "# quick visual inspection"
   ]
  },
  {
   "cell_type": "code",
   "execution_count": 17,
   "id": "aa42685b",
   "metadata": {},
   "outputs": [
    {
     "data": {
      "image/svg+xml": [
       "<svg height=\"540\" width=\"845.0\" xmlns=\"http://www.w3.org/2000/svg\"><path d=\"M 383 234 303 250\" stroke=\"gray\" stroke-width=\"1\"/><path d=\"M 383 234 333 216\" stroke=\"gray\" stroke-width=\"1\"/><path d=\"M 383 234 370 258\" stroke=\"gray\" stroke-width=\"1\"/><path d=\"M 383 234 452 219\" stroke=\"gray\" stroke-width=\"1\"/><path d=\"M 303 250 383 234\" stroke=\"gray\" stroke-width=\"1\"/><path d=\"M 303 250 342 256\" stroke=\"gray\" stroke-width=\"1\"/><path d=\"M 303 250 274 206\" stroke=\"gray\" stroke-width=\"1\"/><path d=\"M 303 250 328 291\" stroke=\"gray\" stroke-width=\"1\"/><path d=\"M 303 250 412 267\" stroke=\"gray\" stroke-width=\"1\"/><path d=\"M 303 250 311 185\" stroke=\"gray\" stroke-width=\"1\"/><path d=\"M 303 250 333 216\" stroke=\"gray\" stroke-width=\"1\"/><path d=\"M 303 250 235 210\" stroke=\"gray\" stroke-width=\"1\"/><path d=\"M 303 250 249 228\" stroke=\"gray\" stroke-width=\"1\"/><path d=\"M 303 250 370 258\" stroke=\"gray\" stroke-width=\"1\"/><path d=\"M 303 250 368 218\" stroke=\"gray\" stroke-width=\"1\"/><path d=\"M 303 250 355 240\" stroke=\"gray\" stroke-width=\"1\"/><path d=\"M 303 250 353 282\" stroke=\"gray\" stroke-width=\"1\"/><path d=\"M 303 250 260 304\" stroke=\"gray\" stroke-width=\"1\"/><path d=\"M 303 250 234 281\" stroke=\"gray\" stroke-width=\"1\"/><path d=\"M 303 250 188 296\" stroke=\"gray\" stroke-width=\"1\"/><path d=\"M 303 250 246 280\" stroke=\"gray\" stroke-width=\"1\"/><path d=\"M 303 250 354 196\" stroke=\"gray\" stroke-width=\"1\"/><path d=\"M 303 250 278 283\" stroke=\"gray\" stroke-width=\"1\"/><path d=\"M 303 250 255 247\" stroke=\"gray\" stroke-width=\"1\"/><path d=\"M 303 250 309 277\" stroke=\"gray\" stroke-width=\"1\"/><path d=\"M 185 24 217 20\" stroke=\"gray\" stroke-width=\"1\"/><path d=\"M 217 20 185 24\" stroke=\"gray\" stroke-width=\"1\"/><path d=\"M 342 256 303 250\" stroke=\"gray\" stroke-width=\"1\"/><path d=\"M 251 172 274 206\" stroke=\"gray\" stroke-width=\"1\"/><path d=\"M 274 206 303 250\" stroke=\"gray\" stroke-width=\"1\"/><path d=\"M 274 206 251 172\" stroke=\"gray\" stroke-width=\"1\"/><path d=\"M 26 179 20 204\" stroke=\"gray\" stroke-width=\"1\"/><path d=\"M 26 179 33 153\" stroke=\"gray\" stroke-width=\"1\"/><path d=\"M 20 204 26 179\" stroke=\"gray\" stroke-width=\"1\"/><path d=\"M 33 153 26 179\" stroke=\"gray\" stroke-width=\"1\"/><path d=\"M 328 291 303 250\" stroke=\"gray\" stroke-width=\"1\"/><path d=\"M 412 267 303 250\" stroke=\"gray\" stroke-width=\"1\"/><path d=\"M 412 267 498 275\" stroke=\"gray\" stroke-width=\"1\"/><path d=\"M 311 185 303 250\" stroke=\"gray\" stroke-width=\"1\"/><path d=\"M 311 185 336 143\" stroke=\"gray\" stroke-width=\"1\"/><path d=\"M 311 185 283 145\" stroke=\"gray\" stroke-width=\"1\"/><path d=\"M 311 185 333 216\" stroke=\"gray\" stroke-width=\"1\"/><path d=\"M 336 143 311 185\" stroke=\"gray\" stroke-width=\"1\"/><path d=\"M 210 119 166 150\" stroke=\"gray\" stroke-width=\"1\"/><path d=\"M 210 119 267 86\" stroke=\"gray\" stroke-width=\"1\"/><path d=\"M 166 150 210 119\" stroke=\"gray\" stroke-width=\"1\"/><path d=\"M 267 86 210 119\" stroke=\"gray\" stroke-width=\"1\"/><path d=\"M 267 86 315 64\" stroke=\"gray\" stroke-width=\"1\"/><path d=\"M 267 86 313 82\" stroke=\"gray\" stroke-width=\"1\"/><path d=\"M 267 86 246 63\" stroke=\"gray\" stroke-width=\"1\"/><path d=\"M 315 64 267 86\" stroke=\"gray\" stroke-width=\"1\"/><path d=\"M 313 82 267 86\" stroke=\"gray\" stroke-width=\"1\"/><path d=\"M 246 63 267 86\" stroke=\"gray\" stroke-width=\"1\"/><path d=\"M 498 275 412 267\" stroke=\"gray\" stroke-width=\"1\"/><path d=\"M 498 275 558 274\" stroke=\"gray\" stroke-width=\"1\"/><path d=\"M 558 274 498 275\" stroke=\"gray\" stroke-width=\"1\"/><path d=\"M 283 145 311 185\" stroke=\"gray\" stroke-width=\"1\"/><path d=\"M 333 216 383 234\" stroke=\"gray\" stroke-width=\"1\"/><path d=\"M 333 216 303 250\" stroke=\"gray\" stroke-width=\"1\"/><path d=\"M 333 216 311 185\" stroke=\"gray\" stroke-width=\"1\"/><path d=\"M 235 210 303 250\" stroke=\"gray\" stroke-width=\"1\"/><path d=\"M 235 210 249 228\" stroke=\"gray\" stroke-width=\"1\"/><path d=\"M 235 210 191 176\" stroke=\"gray\" stroke-width=\"1\"/><path d=\"M 249 228 303 250\" stroke=\"gray\" stroke-width=\"1\"/><path d=\"M 249 228 235 210\" stroke=\"gray\" stroke-width=\"1\"/><path d=\"M 191 176 235 210\" stroke=\"gray\" stroke-width=\"1\"/><path d=\"M 370 258 383 234\" stroke=\"gray\" stroke-width=\"1\"/><path d=\"M 370 258 303 250\" stroke=\"gray\" stroke-width=\"1\"/><path d=\"M 452 219 383 234\" stroke=\"gray\" stroke-width=\"1\"/><path d=\"M 368 218 303 250\" stroke=\"gray\" stroke-width=\"1\"/><path d=\"M 368 218 419 197\" stroke=\"gray\" stroke-width=\"1\"/><path d=\"M 419 197 368 218\" stroke=\"gray\" stroke-width=\"1\"/><path d=\"M 355 240 303 250\" stroke=\"gray\" stroke-width=\"1\"/><path d=\"M 353 282 303 250\" stroke=\"gray\" stroke-width=\"1\"/><path d=\"M 260 304 303 250\" stroke=\"gray\" stroke-width=\"1\"/><path d=\"M 260 304 231 345\" stroke=\"gray\" stroke-width=\"1\"/><path d=\"M 260 304 278 283\" stroke=\"gray\" stroke-width=\"1\"/><path d=\"M 260 304 220 315\" stroke=\"gray\" stroke-width=\"1\"/><path d=\"M 231 345 260 304\" stroke=\"gray\" stroke-width=\"1\"/><path d=\"M 234 281 303 250\" stroke=\"gray\" stroke-width=\"1\"/><path d=\"M 234 281 246 280\" stroke=\"gray\" stroke-width=\"1\"/><path d=\"M 234 281 220 315\" stroke=\"gray\" stroke-width=\"1\"/><path d=\"M 188 296 303 250\" stroke=\"gray\" stroke-width=\"1\"/><path d=\"M 188 296 246 280\" stroke=\"gray\" stroke-width=\"1\"/><path d=\"M 188 296 158 338\" stroke=\"gray\" stroke-width=\"1\"/><path d=\"M 188 296 119 294\" stroke=\"gray\" stroke-width=\"1\"/><path d=\"M 188 296 122 311\" stroke=\"gray\" stroke-width=\"1\"/><path d=\"M 188 296 130 327\" stroke=\"gray\" stroke-width=\"1\"/><path d=\"M 246 280 303 250\" stroke=\"gray\" stroke-width=\"1\"/><path d=\"M 246 280 234 281\" stroke=\"gray\" stroke-width=\"1\"/><path d=\"M 246 280 188 296\" stroke=\"gray\" stroke-width=\"1\"/><path d=\"M 158 338 188 296\" stroke=\"gray\" stroke-width=\"1\"/><path d=\"M 119 294 188 296\" stroke=\"gray\" stroke-width=\"1\"/><path d=\"M 122 311 188 296\" stroke=\"gray\" stroke-width=\"1\"/><path d=\"M 130 327 188 296\" stroke=\"gray\" stroke-width=\"1\"/><path d=\"M 354 196 303 250\" stroke=\"gray\" stroke-width=\"1\"/><path d=\"M 354 196 394 157\" stroke=\"gray\" stroke-width=\"1\"/><path d=\"M 394 157 354 196\" stroke=\"gray\" stroke-width=\"1\"/><path d=\"M 278 283 303 250\" stroke=\"gray\" stroke-width=\"1\"/><path d=\"M 278 283 260 304\" stroke=\"gray\" stroke-width=\"1\"/><path d=\"M 255 247 303 250\" stroke=\"gray\" stroke-width=\"1\"/><path d=\"M 309 277 303 250\" stroke=\"gray\" stroke-width=\"1\"/><path d=\"M 503 93 532 100\" stroke=\"gray\" stroke-width=\"1\"/><path d=\"M 532 100 503 93\" stroke=\"gray\" stroke-width=\"1\"/><path d=\"M 220 315 260 304\" stroke=\"gray\" stroke-width=\"1\"/><path d=\"M 220 315 234 281\" stroke=\"gray\" stroke-width=\"1\"/><circle cx=\"383\" cy=\"234\" r=\"5.0\" style=\"fill:rgb(103, 136, 237);stroke:black;stroke-width:1.0\"/><circle cx=\"303\" cy=\"250\" r=\"5.0\" style=\"fill:rgb(179, 3, 38);stroke:black;stroke-width:1.0\"/><circle cx=\"185\" cy=\"24\" r=\"5.0\" style=\"fill:rgb(80, 107, 218);stroke:black;stroke-width:1.0\"/><circle cx=\"217\" cy=\"20\" r=\"5.0\" style=\"fill:rgb(80, 107, 218);stroke:black;stroke-width:1.0\"/><circle cx=\"342\" cy=\"256\" r=\"5.0\" style=\"fill:rgb(58, 76, 192);stroke:black;stroke-width:1.0\"/><circle cx=\"251\" cy=\"172\" r=\"5.0\" style=\"fill:rgb(60, 79, 195);stroke:black;stroke-width:1.0\"/><circle cx=\"274\" cy=\"206\" r=\"5.0\" style=\"fill:rgb(76, 102, 214);stroke:black;stroke-width:1.0\"/><circle cx=\"26\" cy=\"179\" r=\"5.0\" style=\"fill:rgb(96, 128, 232);stroke:black;stroke-width:1.0\"/><circle cx=\"20\" cy=\"204\" r=\"5.0\" style=\"fill:rgb(70, 93, 207);stroke:black;stroke-width:1.0\"/><circle cx=\"33\" cy=\"153\" r=\"5.0\" style=\"fill:rgb(70, 93, 207);stroke:black;stroke-width:1.0\"/><circle cx=\"338\" cy=\"356\" r=\"5.0\" style=\"fill:rgb(80, 107, 218);stroke:black;stroke-width:1.0\"/><circle cx=\"328\" cy=\"291\" r=\"5.0\" style=\"fill:rgb(58, 76, 192);stroke:black;stroke-width:1.0\"/><circle cx=\"412\" cy=\"267\" r=\"5.0\" style=\"fill:rgb(76, 102, 214);stroke:black;stroke-width:1.0\"/><circle cx=\"311\" cy=\"185\" r=\"5.0\" style=\"fill:rgb(105, 139, 239);stroke:black;stroke-width:1.0\"/><circle cx=\"336\" cy=\"143\" r=\"5.0\" style=\"fill:rgb(58, 76, 192);stroke:black;stroke-width:1.0\"/><circle cx=\"210\" cy=\"119\" r=\"5.0\" style=\"fill:rgb(88, 118, 226);stroke:black;stroke-width:1.0\"/><circle cx=\"166\" cy=\"150\" r=\"5.0\" style=\"fill:rgb(64, 84, 199);stroke:black;stroke-width:1.0\"/><circle cx=\"267\" cy=\"86\" r=\"5.0\" style=\"fill:rgb(130, 165, 251);stroke:black;stroke-width:1.0\"/><circle cx=\"315\" cy=\"64\" r=\"5.0\" style=\"fill:rgb(64, 84, 199);stroke:black;stroke-width:1.0\"/><circle cx=\"313\" cy=\"82\" r=\"5.0\" style=\"fill:rgb(64, 84, 199);stroke:black;stroke-width:1.0\"/><circle cx=\"246\" cy=\"63\" r=\"5.0\" style=\"fill:rgb(64, 84, 199);stroke:black;stroke-width:1.0\"/><circle cx=\"498\" cy=\"275\" r=\"5.0\" style=\"fill:rgb(80, 107, 218);stroke:black;stroke-width:1.0\"/><circle cx=\"558\" cy=\"274\" r=\"5.0\" style=\"fill:rgb(60, 79, 195);stroke:black;stroke-width:1.0\"/><circle cx=\"283\" cy=\"145\" r=\"5.0\" style=\"fill:rgb(58, 76, 192);stroke:black;stroke-width:1.0\"/><circle cx=\"333\" cy=\"216\" r=\"5.0\" style=\"fill:rgb(86, 115, 224);stroke:black;stroke-width:1.0\"/><circle cx=\"235\" cy=\"210\" r=\"5.0\" style=\"fill:rgb(88, 118, 226);stroke:black;stroke-width:1.0\"/><circle cx=\"249\" cy=\"228\" r=\"5.0\" style=\"fill:rgb(70, 93, 207);stroke:black;stroke-width:1.0\"/><circle cx=\"191\" cy=\"176\" r=\"5.0\" style=\"fill:rgb(58, 76, 192);stroke:black;stroke-width:1.0\"/><circle cx=\"370\" cy=\"258\" r=\"5.0\" style=\"fill:rgb(70, 93, 207);stroke:black;stroke-width:1.0\"/><circle cx=\"452\" cy=\"219\" r=\"5.0\" style=\"fill:rgb(58, 76, 192);stroke:black;stroke-width:1.0\"/><circle cx=\"368\" cy=\"218\" r=\"5.0\" style=\"fill:rgb(76, 102, 214);stroke:black;stroke-width:1.0\"/><circle cx=\"419\" cy=\"197\" r=\"5.0\" style=\"fill:rgb(60, 79, 195);stroke:black;stroke-width:1.0\"/><circle cx=\"355\" cy=\"240\" r=\"5.0\" style=\"fill:rgb(58, 76, 192);stroke:black;stroke-width:1.0\"/><circle cx=\"353\" cy=\"282\" r=\"5.0\" style=\"fill:rgb(58, 76, 192);stroke:black;stroke-width:1.0\"/><circle cx=\"260\" cy=\"304\" r=\"5.0\" style=\"fill:rgb(103, 136, 237);stroke:black;stroke-width:1.0\"/><circle cx=\"231\" cy=\"345\" r=\"5.0\" style=\"fill:rgb(58, 76, 192);stroke:black;stroke-width:1.0\"/><circle cx=\"234\" cy=\"281\" r=\"5.0\" style=\"fill:rgb(82, 110, 220);stroke:black;stroke-width:1.0\"/><circle cx=\"188\" cy=\"296\" r=\"5.0\" style=\"fill:rgb(145, 179, 254);stroke:black;stroke-width:1.0\"/><circle cx=\"246\" cy=\"280\" r=\"5.0\" style=\"fill:rgb(86, 115, 224);stroke:black;stroke-width:1.0\"/><circle cx=\"158\" cy=\"338\" r=\"5.0\" style=\"fill:rgb(58, 76, 192);stroke:black;stroke-width:1.0\"/><circle cx=\"119\" cy=\"294\" r=\"5.0\" style=\"fill:rgb(58, 76, 192);stroke:black;stroke-width:1.0\"/><circle cx=\"122\" cy=\"311\" r=\"5.0\" style=\"fill:rgb(58, 76, 192);stroke:black;stroke-width:1.0\"/><circle cx=\"130\" cy=\"327\" r=\"5.0\" style=\"fill:rgb(58, 76, 192);stroke:black;stroke-width:1.0\"/><circle cx=\"354\" cy=\"196\" r=\"5.0\" style=\"fill:rgb(76, 102, 214);stroke:black;stroke-width:1.0\"/><circle cx=\"394\" cy=\"157\" r=\"5.0\" style=\"fill:rgb(60, 79, 195);stroke:black;stroke-width:1.0\"/><circle cx=\"278\" cy=\"283\" r=\"5.0\" style=\"fill:rgb(70, 93, 207);stroke:black;stroke-width:1.0\"/><circle cx=\"255\" cy=\"247\" r=\"5.0\" style=\"fill:rgb(58, 76, 192);stroke:black;stroke-width:1.0\"/><circle cx=\"309\" cy=\"277\" r=\"5.0\" style=\"fill:rgb(58, 76, 192);stroke:black;stroke-width:1.0\"/><circle cx=\"503\" cy=\"93\" r=\"5.0\" style=\"fill:rgb(80, 107, 218);stroke:black;stroke-width:1.0\"/><circle cx=\"532\" cy=\"100\" r=\"5.0\" style=\"fill:rgb(80, 107, 218);stroke:black;stroke-width:1.0\"/><circle cx=\"720\" cy=\"520\" r=\"5.0\" style=\"fill:rgb(80, 107, 218);stroke:black;stroke-width:1.0\"/><circle cx=\"220\" cy=\"315\" r=\"5.0\" style=\"fill:rgb(70, 93, 207);stroke:black;stroke-width:1.0\"/><text font-size=\"10\" x=\"391\" y=\"239\">Rabbit</text><text font-size=\"10\" x=\"311\" y=\"255\">Alice</text><text font-size=\"10\" x=\"193\" y=\"29\">New Zealand</text><text font-size=\"10\" x=\"225\" y=\"25\">Australia</text><text font-size=\"10\" x=\"350\" y=\"261\">Fender</text><text font-size=\"10\" x=\"259\" y=\"177\">Ada</text><text font-size=\"10\" x=\"282\" y=\"211\">Mabel</text><text font-size=\"10\" x=\"34\" y=\"184\">Paris</text><text font-size=\"10\" x=\"28\" y=\"209\">Rome</text><text font-size=\"10\" x=\"41\" y=\"158\">London</text><text font-size=\"10\" x=\"346\" y=\"361\">Nile</text><text font-size=\"10\" x=\"336\" y=\"296\">William the Conqueror</text><text font-size=\"10\" x=\"420\" y=\"272\">Mouse</text><text font-size=\"10\" x=\"319\" y=\"190\">Lory</text><text font-size=\"10\" x=\"344\" y=\"148\">Eaglet</text><text font-size=\"10\" x=\"218\" y=\"124\">Northumbria</text><text font-size=\"10\" x=\"174\" y=\"155\">Edwin</text><text font-size=\"10\" x=\"275\" y=\"91\">Morcar</text><text font-size=\"10\" x=\"323\" y=\"69\">Stigand</text><text font-size=\"10\" x=\"321\" y=\"87\">Mercia</text><text font-size=\"10\" x=\"254\" y=\"68\">Canterbury</text><text font-size=\"10\" x=\"506\" y=\"280\">William</text><text font-size=\"10\" x=\"566\" y=\"279\">Edgar Atheling</text><text font-size=\"10\" x=\"291\" y=\"150\">Crab</text><text font-size=\"10\" x=\"341\" y=\"221\">Dinah</text><text font-size=\"10\" x=\"243\" y=\"215\">the White Rabbit</text><text font-size=\"10\" x=\"257\" y=\"233\">Bill</text><text font-size=\"10\" x=\"199\" y=\"181\">The Rabbit Sends</text><text font-size=\"10\" x=\"378\" y=\"263\">Mary Ann</text><text font-size=\"10\" x=\"460\" y=\"224\">Pat</text><text font-size=\"10\" x=\"376\" y=\"223\">Caterpillar</text><text font-size=\"10\" x=\"427\" y=\"202\">William_</text><text font-size=\"10\" x=\"363\" y=\"245\">Pigeon</text><text font-size=\"10\" x=\"361\" y=\"287\">Fish-Footman</text><text font-size=\"10\" x=\"268\" y=\"309\">Duchess</text><text font-size=\"10\" x=\"239\" y=\"350\">Cheshire</text><text font-size=\"10\" x=\"242\" y=\"286\">Hare</text><text font-size=\"10\" x=\"196\" y=\"301\">Dormouse</text><text font-size=\"10\" x=\"254\" y=\"285\">Hatter</text><text font-size=\"10\" x=\"166\" y=\"343\">Tillie</text><text font-size=\"10\" x=\"127\" y=\"299\">Elsie</text><text font-size=\"10\" x=\"130\" y=\"316\">Lacie</text><text font-size=\"10\" x=\"138\" y=\"332\">Treacle</text><text font-size=\"10\" x=\"362\" y=\"201\">Kings</text><text font-size=\"10\" x=\"402\" y=\"162\">Queens</text><text font-size=\"10\" x=\"286\" y=\"288\">Cat</text><text font-size=\"10\" x=\"263\" y=\"252\">Cheshire Cat</text><text font-size=\"10\" x=\"317\" y=\"282\">Lobster Quadrille</text><text font-size=\"10\" x=\"511\" y=\"98\">France</text><text font-size=\"10\" x=\"540\" y=\"105\">England</text><text font-size=\"10\" x=\"728\" y=\"525\">Gryphon</text><text font-size=\"10\" x=\"228\" y=\"320\">Lizard</text></svg>"
      ],
      "text/plain": [
       "<IPython.core.display.SVG object>"
      ]
     },
     "execution_count": 17,
     "metadata": {},
     "output_type": "execute_result"
    }
   ],
   "source": [
    "draw_graph(G, show_names=True, node_size=5, edge_width=1) "
   ]
  },
  {
   "cell_type": "code",
   "execution_count": 18,
   "id": "8fefe253",
   "metadata": {},
   "outputs": [],
   "source": [
    "drop_nodes = ['New Zealand', 'Australia', 'France', 'England', 'London', 'Paris', 'Rome', 'Nile',  \n",
    "              'William_', 'Treacle', 'Fender', 'Canterbury', 'Edwin', 'Mercia', 'Morcar',  \n",
    "              'Northumbria', 'Stigand'] \n",
    "\n",
    "G.remove_nodes_from(drop_nodes) "
   ]
  },
  {
   "cell_type": "code",
   "execution_count": 19,
   "id": "9f73b0ac",
   "metadata": {},
   "outputs": [
    {
     "data": {
      "image/svg+xml": [
       "<svg height=\"540\" width=\"845.0\" xmlns=\"http://www.w3.org/2000/svg\"><path d=\"M 417 68 373 118\" stroke=\"gray\" stroke-width=\"1\"/><path d=\"M 417 68 388 99\" stroke=\"gray\" stroke-width=\"1\"/><path d=\"M 417 68 443 90\" stroke=\"gray\" stroke-width=\"1\"/><path d=\"M 417 68 465 24\" stroke=\"gray\" stroke-width=\"1\"/><path d=\"M 373 118 417 68\" stroke=\"gray\" stroke-width=\"1\"/><path d=\"M 373 118 162 99\" stroke=\"gray\" stroke-width=\"1\"/><path d=\"M 373 118 534 126\" stroke=\"gray\" stroke-width=\"1\"/><path d=\"M 373 118 319 188\" stroke=\"gray\" stroke-width=\"1\"/><path d=\"M 373 118 358 135\" stroke=\"gray\" stroke-width=\"1\"/><path d=\"M 373 118 388 99\" stroke=\"gray\" stroke-width=\"1\"/><path d=\"M 373 118 579 100\" stroke=\"gray\" stroke-width=\"1\"/><path d=\"M 373 118 508 114\" stroke=\"gray\" stroke-width=\"1\"/><path d=\"M 373 118 443 90\" stroke=\"gray\" stroke-width=\"1\"/><path d=\"M 373 118 257 82\" stroke=\"gray\" stroke-width=\"1\"/><path d=\"M 373 118 265 113\" stroke=\"gray\" stroke-width=\"1\"/><path d=\"M 373 118 459 77\" stroke=\"gray\" stroke-width=\"1\"/><path d=\"M 373 118 204 161\" stroke=\"gray\" stroke-width=\"1\"/><path d=\"M 373 118 316 164\" stroke=\"gray\" stroke-width=\"1\"/><path d=\"M 373 118 536 164\" stroke=\"gray\" stroke-width=\"1\"/><path d=\"M 373 118 425 157\" stroke=\"gray\" stroke-width=\"1\"/><path d=\"M 373 118 308 60\" stroke=\"gray\" stroke-width=\"1\"/><path d=\"M 373 118 257 146\" stroke=\"gray\" stroke-width=\"1\"/><path d=\"M 373 118 510 92\" stroke=\"gray\" stroke-width=\"1\"/><path d=\"M 373 118 219 124\" stroke=\"gray\" stroke-width=\"1\"/><path d=\"M 20 87 162 99\" stroke=\"gray\" stroke-width=\"1\"/><path d=\"M 162 99 373 118\" stroke=\"gray\" stroke-width=\"1\"/><path d=\"M 162 99 20 87\" stroke=\"gray\" stroke-width=\"1\"/><path d=\"M 534 126 373 118\" stroke=\"gray\" stroke-width=\"1\"/><path d=\"M 319 188 373 118\" stroke=\"gray\" stroke-width=\"1\"/><path d=\"M 319 188 264 239\" stroke=\"gray\" stroke-width=\"1\"/><path d=\"M 358 135 373 118\" stroke=\"gray\" stroke-width=\"1\"/><path d=\"M 358 135 402 181\" stroke=\"gray\" stroke-width=\"1\"/><path d=\"M 358 135 277 101\" stroke=\"gray\" stroke-width=\"1\"/><path d=\"M 358 135 388 99\" stroke=\"gray\" stroke-width=\"1\"/><path d=\"M 402 181 358 135\" stroke=\"gray\" stroke-width=\"1\"/><path d=\"M 264 239 319 188\" stroke=\"gray\" stroke-width=\"1\"/><path d=\"M 264 239 207 273\" stroke=\"gray\" stroke-width=\"1\"/><path d=\"M 207 273 264 239\" stroke=\"gray\" stroke-width=\"1\"/><path d=\"M 277 101 358 135\" stroke=\"gray\" stroke-width=\"1\"/><path d=\"M 388 99 417 68\" stroke=\"gray\" stroke-width=\"1\"/><path d=\"M 388 99 373 118\" stroke=\"gray\" stroke-width=\"1\"/><path d=\"M 388 99 358 135\" stroke=\"gray\" stroke-width=\"1\"/><path d=\"M 579 100 373 118\" stroke=\"gray\" stroke-width=\"1\"/><path d=\"M 579 100 508 114\" stroke=\"gray\" stroke-width=\"1\"/><path d=\"M 579 100 720 81\" stroke=\"gray\" stroke-width=\"1\"/><path d=\"M 508 114 373 118\" stroke=\"gray\" stroke-width=\"1\"/><path d=\"M 508 114 579 100\" stroke=\"gray\" stroke-width=\"1\"/><path d=\"M 720 81 579 100\" stroke=\"gray\" stroke-width=\"1\"/><path d=\"M 443 90 417 68\" stroke=\"gray\" stroke-width=\"1\"/><path d=\"M 443 90 373 118\" stroke=\"gray\" stroke-width=\"1\"/><path d=\"M 465 24 417 68\" stroke=\"gray\" stroke-width=\"1\"/><path d=\"M 257 82 373 118\" stroke=\"gray\" stroke-width=\"1\"/><path d=\"M 265 113 373 118\" stroke=\"gray\" stroke-width=\"1\"/><path d=\"M 459 77 373 118\" stroke=\"gray\" stroke-width=\"1\"/><path d=\"M 204 161 373 118\" stroke=\"gray\" stroke-width=\"1\"/><path d=\"M 204 161 73 187\" stroke=\"gray\" stroke-width=\"1\"/><path d=\"M 204 161 257 146\" stroke=\"gray\" stroke-width=\"1\"/><path d=\"M 204 161 204 189\" stroke=\"gray\" stroke-width=\"1\"/><path d=\"M 73 187 204 161\" stroke=\"gray\" stroke-width=\"1\"/><path d=\"M 316 164 373 118\" stroke=\"gray\" stroke-width=\"1\"/><path d=\"M 316 164 425 157\" stroke=\"gray\" stroke-width=\"1\"/><path d=\"M 316 164 204 189\" stroke=\"gray\" stroke-width=\"1\"/><path d=\"M 536 164 373 118\" stroke=\"gray\" stroke-width=\"1\"/><path d=\"M 536 164 425 157\" stroke=\"gray\" stroke-width=\"1\"/><path d=\"M 536 164 565 153\" stroke=\"gray\" stroke-width=\"1\"/><path d=\"M 536 164 680 176\" stroke=\"gray\" stroke-width=\"1\"/><path d=\"M 536 164 635 195\" stroke=\"gray\" stroke-width=\"1\"/><path d=\"M 425 157 373 118\" stroke=\"gray\" stroke-width=\"1\"/><path d=\"M 425 157 316 164\" stroke=\"gray\" stroke-width=\"1\"/><path d=\"M 425 157 536 164\" stroke=\"gray\" stroke-width=\"1\"/><path d=\"M 565 153 536 164\" stroke=\"gray\" stroke-width=\"1\"/><path d=\"M 680 176 536 164\" stroke=\"gray\" stroke-width=\"1\"/><path d=\"M 635 195 536 164\" stroke=\"gray\" stroke-width=\"1\"/><path d=\"M 308 60 373 118\" stroke=\"gray\" stroke-width=\"1\"/><path d=\"M 308 60 268 20\" stroke=\"gray\" stroke-width=\"1\"/><path d=\"M 268 20 308 60\" stroke=\"gray\" stroke-width=\"1\"/><path d=\"M 257 146 373 118\" stroke=\"gray\" stroke-width=\"1\"/><path d=\"M 257 146 204 161\" stroke=\"gray\" stroke-width=\"1\"/><path d=\"M 510 92 373 118\" stroke=\"gray\" stroke-width=\"1\"/><path d=\"M 219 124 373 118\" stroke=\"gray\" stroke-width=\"1\"/><path d=\"M 204 189 204 161\" stroke=\"gray\" stroke-width=\"1\"/><path d=\"M 204 189 316 164\" stroke=\"gray\" stroke-width=\"1\"/><circle cx=\"417\" cy=\"68\" r=\"5.0\" style=\"fill:rgb(105, 139, 239);stroke:black;stroke-width:1.0\"/><circle cx=\"373\" cy=\"118\" r=\"5.0\" style=\"fill:rgb(179, 3, 38);stroke:black;stroke-width:1.0\"/><circle cx=\"20\" cy=\"87\" r=\"5.0\" style=\"fill:rgb(60, 79, 195);stroke:black;stroke-width:1.0\"/><circle cx=\"162\" cy=\"99\" r=\"5.0\" style=\"fill:rgb(76, 102, 214);stroke:black;stroke-width:1.0\"/><circle cx=\"534\" cy=\"126\" r=\"5.0\" style=\"fill:rgb(58, 76, 192);stroke:black;stroke-width:1.0\"/><circle cx=\"319\" cy=\"188\" r=\"5.0\" style=\"fill:rgb(76, 102, 214);stroke:black;stroke-width:1.0\"/><circle cx=\"358\" cy=\"135\" r=\"5.0\" style=\"fill:rgb(109, 144, 241);stroke:black;stroke-width:1.0\"/><circle cx=\"402\" cy=\"181\" r=\"5.0\" style=\"fill:rgb(58, 76, 192);stroke:black;stroke-width:1.0\"/><circle cx=\"264\" cy=\"239\" r=\"5.0\" style=\"fill:rgb(80, 107, 218);stroke:black;stroke-width:1.0\"/><circle cx=\"207\" cy=\"273\" r=\"5.0\" style=\"fill:rgb(64, 84, 199);stroke:black;stroke-width:1.0\"/><circle cx=\"277\" cy=\"101\" r=\"5.0\" style=\"fill:rgb(58, 76, 192);stroke:black;stroke-width:1.0\"/><circle cx=\"388\" cy=\"99\" r=\"5.0\" style=\"fill:rgb(86, 115, 224);stroke:black;stroke-width:1.0\"/><circle cx=\"579\" cy=\"100\" r=\"5.0\" style=\"fill:rgb(92, 123, 229);stroke:black;stroke-width:1.0\"/><circle cx=\"508\" cy=\"114\" r=\"5.0\" style=\"fill:rgb(72, 96, 209);stroke:black;stroke-width:1.0\"/><circle cx=\"720\" cy=\"81\" r=\"5.0\" style=\"fill:rgb(58, 76, 192);stroke:black;stroke-width:1.0\"/><circle cx=\"443\" cy=\"90\" r=\"5.0\" style=\"fill:rgb(70, 93, 207);stroke:black;stroke-width:1.0\"/><circle cx=\"465\" cy=\"24\" r=\"5.0\" style=\"fill:rgb(58, 76, 192);stroke:black;stroke-width:1.0\"/><circle cx=\"257\" cy=\"82\" r=\"5.0\" style=\"fill:rgb(58, 76, 192);stroke:black;stroke-width:1.0\"/><circle cx=\"265\" cy=\"113\" r=\"5.0\" style=\"fill:rgb(58, 76, 192);stroke:black;stroke-width:1.0\"/><circle cx=\"459\" cy=\"77\" r=\"5.0\" style=\"fill:rgb(58, 76, 192);stroke:black;stroke-width:1.0\"/><circle cx=\"204\" cy=\"161\" r=\"5.0\" style=\"fill:rgb(105, 139, 239);stroke:black;stroke-width:1.0\"/><circle cx=\"73\" cy=\"187\" r=\"5.0\" style=\"fill:rgb(58, 76, 192);stroke:black;stroke-width:1.0\"/><circle cx=\"316\" cy=\"164\" r=\"5.0\" style=\"fill:rgb(86, 115, 224);stroke:black;stroke-width:1.0\"/><circle cx=\"536\" cy=\"164\" r=\"5.0\" style=\"fill:rgb(130, 165, 251);stroke:black;stroke-width:1.0\"/><circle cx=\"425\" cy=\"157\" r=\"5.0\" style=\"fill:rgb(86, 115, 224);stroke:black;stroke-width:1.0\"/><circle cx=\"565\" cy=\"153\" r=\"5.0\" style=\"fill:rgb(58, 76, 192);stroke:black;stroke-width:1.0\"/><circle cx=\"680\" cy=\"176\" r=\"5.0\" style=\"fill:rgb(58, 76, 192);stroke:black;stroke-width:1.0\"/><circle cx=\"635\" cy=\"195\" r=\"5.0\" style=\"fill:rgb(58, 76, 192);stroke:black;stroke-width:1.0\"/><circle cx=\"308\" cy=\"60\" r=\"5.0\" style=\"fill:rgb(76, 102, 214);stroke:black;stroke-width:1.0\"/><circle cx=\"268\" cy=\"20\" r=\"5.0\" style=\"fill:rgb(60, 79, 195);stroke:black;stroke-width:1.0\"/><circle cx=\"257\" cy=\"146\" r=\"5.0\" style=\"fill:rgb(70, 93, 207);stroke:black;stroke-width:1.0\"/><circle cx=\"510\" cy=\"92\" r=\"5.0\" style=\"fill:rgb(58, 76, 192);stroke:black;stroke-width:1.0\"/><circle cx=\"219\" cy=\"124\" r=\"5.0\" style=\"fill:rgb(58, 76, 192);stroke:black;stroke-width:1.0\"/><circle cx=\"370\" cy=\"520\" r=\"5.0\" style=\"fill:rgb(80, 107, 218);stroke:black;stroke-width:1.0\"/><circle cx=\"204\" cy=\"189\" r=\"5.0\" style=\"fill:rgb(70, 93, 207);stroke:black;stroke-width:1.0\"/><text font-size=\"10\" x=\"425\" y=\"73\">Rabbit</text><text font-size=\"10\" x=\"381\" y=\"123\">Alice</text><text font-size=\"10\" x=\"28\" y=\"92\">Ada</text><text font-size=\"10\" x=\"170\" y=\"104\">Mabel</text><text font-size=\"10\" x=\"542\" y=\"131\">William the Conqueror</text><text font-size=\"10\" x=\"327\" y=\"193\">Mouse</text><text font-size=\"10\" x=\"366\" y=\"140\">Lory</text><text font-size=\"10\" x=\"410\" y=\"186\">Eaglet</text><text font-size=\"10\" x=\"272\" y=\"244\">William</text><text font-size=\"10\" x=\"215\" y=\"278\">Edgar Atheling</text><text font-size=\"10\" x=\"285\" y=\"106\">Crab</text><text font-size=\"10\" x=\"396\" y=\"104\">Dinah</text><text font-size=\"10\" x=\"587\" y=\"105\">the White Rabbit</text><text font-size=\"10\" x=\"516\" y=\"119\">Bill</text><text font-size=\"10\" x=\"728\" y=\"86\">The Rabbit Sends</text><text font-size=\"10\" x=\"451\" y=\"95\">Mary Ann</text><text font-size=\"10\" x=\"473\" y=\"29\">Pat</text><text font-size=\"10\" x=\"265\" y=\"87\">Caterpillar</text><text font-size=\"10\" x=\"273\" y=\"118\">Pigeon</text><text font-size=\"10\" x=\"467\" y=\"82\">Fish-Footman</text><text font-size=\"10\" x=\"212\" y=\"166\">Duchess</text><text font-size=\"10\" x=\"81\" y=\"192\">Cheshire</text><text font-size=\"10\" x=\"324\" y=\"169\">Hare</text><text font-size=\"10\" x=\"544\" y=\"169\">Dormouse</text><text font-size=\"10\" x=\"433\" y=\"162\">Hatter</text><text font-size=\"10\" x=\"573\" y=\"158\">Tillie</text><text font-size=\"10\" x=\"688\" y=\"181\">Elsie</text><text font-size=\"10\" x=\"643\" y=\"200\">Lacie</text><text font-size=\"10\" x=\"316\" y=\"65\">Kings</text><text font-size=\"10\" x=\"276\" y=\"25\">Queens</text><text font-size=\"10\" x=\"265\" y=\"151\">Cat</text><text font-size=\"10\" x=\"518\" y=\"97\">Cheshire Cat</text><text font-size=\"10\" x=\"227\" y=\"129\">Lobster Quadrille</text><text font-size=\"10\" x=\"378\" y=\"525\">Gryphon</text><text font-size=\"10\" x=\"212\" y=\"194\">Lizard</text></svg>"
      ],
      "text/plain": [
       "<IPython.core.display.SVG object>"
      ]
     },
     "execution_count": 19,
     "metadata": {},
     "output_type": "execute_result"
    }
   ],
   "source": [
    "draw_graph(G, show_names=True, node_size=5, edge_width=1) "
   ]
  },
  {
   "cell_type": "markdown",
   "id": "c36a3c4b",
   "metadata": {},
   "source": [
    "# search text for node mentions"
   ]
  },
  {
   "cell_type": "code",
   "execution_count": 20,
   "id": "d8af8d42",
   "metadata": {},
   "outputs": [],
   "source": [
    "import requests\n",
    "\n",
    "def get_data(): \n",
    "\n",
    "    url = 'https://www.gutenberg.org/files/11/11-0.txt' \n",
    "    text = requests.get(url).text \n",
    "\n",
    "    # strip header junk \n",
    "    cutoff = text.index('Alice was beginning') \n",
    "    text = text[cutoff:] \n",
    "\n",
    "    # strip footer junk \n",
    "    cutoff = text.rindex('THE END') \n",
    "    text = text[:cutoff] \n",
    "\n",
    "    # pre-processing to clean the text \n",
    "    text = text.replace('\\r', ' ').replace('\\n', ' ') \n",
    "    text = text.replace('â\\x80\\x99', '\\'').replace('â\\x80\\x9c', '\"').replace('â\\x80\\x9d', '\"\"').replace('â\\x80\\x94', ' ') \n",
    "\n",
    "    return text"
   ]
  },
  {
   "cell_type": "code",
   "execution_count": 21,
   "id": "e5cf86df",
   "metadata": {},
   "outputs": [],
   "source": [
    "from nltk.tokenize import sent_tokenize \n",
    "\n",
    "def search_text(text, search_string): \n",
    "\n",
    "    sentences = sent_tokenize(text) \n",
    "\n",
    "    for sentence in sentences: \n",
    "\n",
    "        if search_string in sentence.lower(): \n",
    "\n",
    "            print(sentence) \n",
    "            print() "
   ]
  },
  {
   "cell_type": "code",
   "execution_count": 22,
   "id": "fa33d8cf",
   "metadata": {},
   "outputs": [
    {
     "name": "stdout",
     "output_type": "stream",
     "text": [
      "An invitation from the  Queen to play croquet.\"\"\n",
      "\n",
      "The Frog-Footman repeated, in the same solemn  tone, only changing the order of the words a little, \"From the Queen.\n",
      "\n",
      "\"I must go and get ready to play  croquet with the Queen,\"\" and she hurried out of the room.\n",
      "\n",
      "\"Do you play croquet with the  Queen to-day?\"\"\n",
      "\n",
      "\"We  quarrelled last March just before _he_ went mad, you know \"\" (pointing  with his tea spoon at the March Hare,) \" it was at the great concert  given by the Queen of Hearts, and I had to sing    âTwinkle, twinkle, little bat!\n",
      "\n",
      "\"Well, I'd hardly finished the first verse,\"\" said the Hatter, \"when the  Queen jumped up and bawled out, âHe's murdering the time!\n",
      "\n",
      "The Queen's Croquet-Ground      A large rose-tree stood near the entrance of the garden: the roses  growing on it were white, but there were three gardeners at it, busily  painting them red.\n",
      "\n",
      "\"I heard the Queen say only  yesterday you deserved to be beheaded!\"\"\n",
      "\n",
      "Two began in a low  voice, \"Why the fact is, you see, Miss, this here ought to have been a  _red_ rose-tree, and we put a white one in by mistake; and if the Queen  was to find it out, we should all have our heads cut off, you know.\n",
      "\n",
      "So  you see, Miss, we're doing our best, afore she comes, to \"\" At this  moment Five, who had been anxiously looking across the garden, called  out \"The Queen!\n",
      "\n",
      "The Queen!\"\"\n",
      "\n",
      "There was a sound of many footsteps,  and Alice looked round, eager to see the Queen.\n",
      "\n",
      "Next came the guests, mostly Kings and Queens,  and among them Alice recognised the White Rabbit: it was talking in a  hurried nervous manner, smiling at everything that was said, and went  by without noticing her.\n",
      "\n",
      "Then followed the Knave of Hearts, carrying  the King's crown on a crimson velvet cushion; and, last of all this  grand procession, came THE KING AND QUEEN OF HEARTS.\n",
      "\n",
      "When the procession came opposite to Alice, they all stopped and looked  at her, and the Queen said severely \"Who is this?\"\"\n",
      "\n",
      "said the Queen, tossing her head impatiently; and, turning to  Alice, she went on, \"What's your name, child?\"\"\n",
      "\n",
      "\"And who are _these?_\"\" said the Queen, pointing to the three gardeners  who were lying round the rose-tree; for, you see, as they were lying on  their faces, and the pattern on their backs was the same as the rest of  the pack, she could not tell whether they were gardeners, or soldiers,  or courtiers, or three of her own children.\n",
      "\n",
      "The Queen turned crimson with fury, and, after glaring at her for a  moment like a wild beast, screamed \"Off with her head!\n",
      "\n",
      "said Alice, very loudly and decidedly, and the Queen was  silent.\n",
      "\n",
      "The Queen turned angrily away from him, and said to the Knave \"Turn  them over!\"\"\n",
      "\n",
      "said the Queen, in a shrill, loud voice, and the three  gardeners instantly jumped up, and began bowing to the King, the Queen,  the royal children, and everybody else.\n",
      "\n",
      "screamed the Queen.\n",
      "\n",
      "said the Queen, who had meanwhile been examining the roses.\n",
      "\n",
      "shouted the Queen.\n",
      "\n",
      "shouted the Queen.\n",
      "\n",
      "roared the Queen, and Alice joined the procession,  wondering very much what would happen next.\n",
      "\n",
      "\"She boxed the Queen's ears \"\" the Rabbit began.\n",
      "\n",
      "\"The Queen will hear you!\n",
      "\n",
      "You see, she came rather late, and the  Queen said \"\"    \"Get to your places!\"\"\n",
      "\n",
      "shouted the Queen in a voice of thunder, and  people began running about in all directions, tumbling up against each  other; however, they got settled down in a minute or two, and the game  began.\n",
      "\n",
      "The players all played at once without waiting for turns, quarrelling  all the while, and fighting for the hedgehogs; and in a very short time  the Queen was in a furious passion, and went stamping about, and  shouting \"Off with his head!\"\"\n",
      "\n",
      "Alice began to feel very uneasy: to be sure, she had not as yet had any  dispute with the Queen, but she knew that it might happen any minute,  \"and then,\"\" thought she, \"what would become of me?\n",
      "\n",
      "\"I don't think they play at all fairly,\"\" Alice began, in rather a  complaining tone, \"and they all quarrel so dreadfully one can't hear  oneself speak and they don't seem to have any rules in particular; at  least, if there are, nobody attends to them and you've no idea how  confusing it is all the things being alive; for instance, there's the  arch I've got to go through next walking about at the other end of the  ground and I should have croqueted the Queen's hedgehog just now, only  it ran away when it saw mine coming!\"\"\n",
      "\n",
      "\"How do you like the Queen?\"\"\n",
      "\n",
      "\"Not at all,\"\" said Alice: \"she's so extremely \"\" Just then she noticed  that the Queen was close behind her, listening: so she went on,  \" likely to win, that it's hardly worth while finishing the game.\"\"\n",
      "\n",
      "The Queen smiled and passed on.\n",
      "\n",
      "\"Well, it must be removed,\"\" said the King very decidedly, and he called  the Queen, who was passing at the moment, \"My dear!\n",
      "\n",
      "The Queen had only one way of settling all difficulties, great or  small.\n",
      "\n",
      "Alice thought she might as well go back, and see how the game was going  on, as she heard the Queen's voice in the distance, screaming with  passion.\n",
      "\n",
      "When she got back to the Cheshire Cat, she was surprised to find quite  a large crowd collected round it: there was a dispute going on between  the executioner, the King, and the Queen, who were all talking at once,  while all the rest were quite silent, and looked very uncomfortable.\n",
      "\n",
      "The Queen's argument was, that if something wasn't done about it in  less than no time she'd have everybody executed, all round.\n",
      "\n",
      "\"She's in prison,\"\" the Queen said to the executioner: \"fetch her here.\"\"\n",
      "\n",
      "Alice looked up, and there stood the  Queen in front of them, with her arms folded, frowning like a  thunderstorm.\n",
      "\n",
      "\"Now, I give you fair warning,\"\" shouted the Queen, stamping on the  ground as she spoke; \"either you or your head must be off, and that in  about half no time!\n",
      "\n",
      "\"Let's go on with the game,\"\" the Queen said to Alice; and Alice was too  much frightened to say a word, but slowly followed her back to the  croquet-ground.\n",
      "\n",
      "The other guests had taken advantage of the Queen's absence, and were  resting in the shade: however, the moment they saw her, they hurried  back to the game, the Queen merely remarking that a moment's delay  would cost them their lives.\n",
      "\n",
      "All the time they were playing the Queen never left off quarrelling  with the other players, and shouting \"Off with his head!\"\"\n",
      "\n",
      "Those whom she sentenced were taken into custody by the  soldiers, who of course had to leave off being arches to do this, so  that by the end of half an hour or so there were no arches left, and  all the players, except the King, the Queen, and Alice, were in custody  and under sentence of execution.\n",
      "\n",
      "Then the Queen left off, quite out of breath, and said to Alice, \"Have  you seen the Mock Turtle yet?\"\"\n",
      "\n",
      "\"It's the thing Mock Turtle Soup is made from,\"\" said the Queen.\n",
      "\n",
      "\"Come on, then,\"\" said the Queen, \"and he shall tell you his history,\"\"    As they walked off together, Alice heard the King say in a low voice,  to the company generally, \"You are all pardoned.\"\"\n",
      "\n",
      "she said to herself, for she had felt quite unhappy at the  number of executions the Queen had ordered.\n",
      "\n",
      "said the Queen, \"and take this young lady to see the Mock  Turtle, and to hear his history.\n",
      "\n",
      "Alice did not quite like the look of the creature,  but on the whole she thought it would be quite as safe to stay with it  as to go after that savage Queen: so she waited.\n",
      "\n",
      "The Gryphon sat up and rubbed its eyes: then it watched the Queen till  she was out of sight: then it chuckled.\n",
      "\n",
      "The King and Queen of Hearts were seated on their throne when they  arrived, with a great crowd assembled about them all sorts of little  birds and beasts, as well as the whole pack of cards: the Knave was  standing before them, in chains, with a soldier on each side to guard  him; and near the King was the White Rabbit, with a trumpet in one  hand, and a scroll of parchment in the other.\n",
      "\n",
      "On this the White Rabbit blew three blasts on the trumpet, and then  unrolled the parchment scroll, and read as follows:     \"The Queen of Hearts, she made some tarts,      All on a summer day:  The Knave of Hearts, he stole those tarts,      And took them quite away!\"\"\n",
      "\n",
      "Here the Queen put on her spectacles, and began staring at the Hatter,  who turned pale and fidgeted.\n",
      "\n",
      "This did not seem to encourage the witness at all: he kept shifting  from one foot to the other, looking uneasily at the Queen, and in his  confusion he bit a large piece out of his teacup instead of the  bread-and-butter.\n",
      "\n",
      "All this time the Queen had never left off staring at the Hatter, and,  just as the Dormouse crossed the court, she said to one of the officers  of the court, \"Bring me the list of the singers in the last concert!\"\"\n",
      "\n",
      "\"I'd rather finish my tea,\"\" said the Hatter, with an anxious look at  the Queen, who was reading the list of singers.\n",
      "\n",
      "and just take his head off outside,\"\" the Queen added to one of the  officers: but the Hatter was out of sight before the officer could get  to the door.\n",
      "\n",
      "\"Collar that Dormouse,\"\" the Queen shrieked out.\n",
      "\n",
      "And he added in an undertone to the Queen, \"Really, my  dear, _you_ must cross-examine the next witness.\n",
      "\n",
      "\"Nearly two miles high,\"\" added the Queen.\n",
      "\n",
      "said the Queen.\n",
      "\n",
      "\"That _proves_ his guilt,\"\" said the Queen.\n",
      "\n",
      "he said to the Queen.\n",
      "\n",
      "said the Queen furiously, throwing an inkstand at the Lizard  as she spoke.\n",
      "\n",
      "said the Queen.\n",
      "\n",
      "said the Queen, turning purple.\n",
      "\n",
      "the Queen shouted at the top of her voice.\n",
      "\n",
      "The long grass rustled at her feet as the White Rabbit hurried by the  frightened Mouse splashed his way through the neighbouring pool she  could hear the rattle of the teacups as the March Hare and his friends  shared their never-ending meal, and the shrill voice of the Queen  ordering off her unfortunate guests to execution once more the pig-baby  was sneezing on the Duchess's knee, while plates and dishes crashed  around it once more the shriek of the Gryphon, the squeaking of the  Lizard's slate-pencil, and the choking of the suppressed guinea-pigs,  filled the air, mixed up with the distant sobs of the miserable Mock  Turtle.\n",
      "\n",
      "So she sat on, with closed eyes, and half believed herself in  Wonderland, though she knew she had but to open them again, and all  would change to dull reality the grass would be only rustling in the  wind, and the pool rippling to the waving of the reeds the rattling  teacups would change to tinkling sheep-bells, and the Queen's shrill  cries to the voice of the shepherd boy and the sneeze of the baby, the  shriek of the Gryphon, and all the other queer noises, would change  (she knew) to the confused clamour of the busy farm-yard while the  lowing of the cattle in the distance would take the place of the Mock  Turtle's heavy sobs.\n",
      "\n"
     ]
    }
   ],
   "source": [
    "text = get_data()\n",
    "\n",
    "search_text(text, 'queen')"
   ]
  },
  {
   "cell_type": "markdown",
   "id": "a30ea3bd",
   "metadata": {},
   "source": [
    "# adding nodes"
   ]
  },
  {
   "cell_type": "code",
   "execution_count": 23,
   "id": "4d05eacb",
   "metadata": {},
   "outputs": [],
   "source": [
    "G.add_node('Queen of Hearts') "
   ]
  },
  {
   "cell_type": "code",
   "execution_count": 24,
   "id": "5fa06a33",
   "metadata": {},
   "outputs": [],
   "source": [
    "add_nodes = ['Queen of Hearts', 'Frog-Footman', 'March Hare', 'Mad Hatter', 'Card Gardener #1', 'Card Gardener #2',  \n",
    "             'Card Gardener #3', 'King of Hearts', 'Knave of Hearts', 'Mock Turtle'] \n",
    "\n",
    "G.add_nodes_from(add_nodes) "
   ]
  },
  {
   "cell_type": "code",
   "execution_count": 25,
   "id": "44ca5eba",
   "metadata": {},
   "outputs": [
    {
     "data": {
      "image/svg+xml": [
       "<svg height=\"540\" width=\"845.0\" xmlns=\"http://www.w3.org/2000/svg\"><path d=\"M 383 393 346 376\" stroke=\"gray\" stroke-width=\"1\"/><path d=\"M 383 393 382 412\" stroke=\"gray\" stroke-width=\"1\"/><path d=\"M 383 393 357 397\" stroke=\"gray\" stroke-width=\"1\"/><path d=\"M 383 393 416 374\" stroke=\"gray\" stroke-width=\"1\"/><path d=\"M 346 376 383 393\" stroke=\"gray\" stroke-width=\"1\"/><path d=\"M 346 376 402 339\" stroke=\"gray\" stroke-width=\"1\"/><path d=\"M 346 376 363 330\" stroke=\"gray\" stroke-width=\"1\"/><path d=\"M 346 376 371 358\" stroke=\"gray\" stroke-width=\"1\"/><path d=\"M 346 376 408 422\" stroke=\"gray\" stroke-width=\"1\"/><path d=\"M 346 376 382 412\" stroke=\"gray\" stroke-width=\"1\"/><path d=\"M 346 376 285 367\" stroke=\"gray\" stroke-width=\"1\"/><path d=\"M 346 376 310 386\" stroke=\"gray\" stroke-width=\"1\"/><path d=\"M 346 376 357 397\" stroke=\"gray\" stroke-width=\"1\"/><path d=\"M 346 376 335 427\" stroke=\"gray\" stroke-width=\"1\"/><path d=\"M 346 376 309 410\" stroke=\"gray\" stroke-width=\"1\"/><path d=\"M 346 376 321 332\" stroke=\"gray\" stroke-width=\"1\"/><path d=\"M 346 376 290 391\" stroke=\"gray\" stroke-width=\"1\"/><path d=\"M 346 376 324 351\" stroke=\"gray\" stroke-width=\"1\"/><path d=\"M 346 376 334 294\" stroke=\"gray\" stroke-width=\"1\"/><path d=\"M 346 376 338 327\" stroke=\"gray\" stroke-width=\"1\"/><path d=\"M 346 376 405 388\" stroke=\"gray\" stroke-width=\"1\"/><path d=\"M 346 376 309 364\" stroke=\"gray\" stroke-width=\"1\"/><path d=\"M 346 376 321 421\" stroke=\"gray\" stroke-width=\"1\"/><path d=\"M 346 376 350 431\" stroke=\"gray\" stroke-width=\"1\"/><path d=\"M 444 317 402 339\" stroke=\"gray\" stroke-width=\"1\"/><path d=\"M 402 339 346 376\" stroke=\"gray\" stroke-width=\"1\"/><path d=\"M 402 339 444 317\" stroke=\"gray\" stroke-width=\"1\"/><path d=\"M 363 330 346 376\" stroke=\"gray\" stroke-width=\"1\"/><path d=\"M 371 358 346 376\" stroke=\"gray\" stroke-width=\"1\"/><path d=\"M 371 358 375 390\" stroke=\"gray\" stroke-width=\"1\"/><path d=\"M 408 422 346 376\" stroke=\"gray\" stroke-width=\"1\"/><path d=\"M 408 422 437 461\" stroke=\"gray\" stroke-width=\"1\"/><path d=\"M 408 422 454 430\" stroke=\"gray\" stroke-width=\"1\"/><path d=\"M 408 422 382 412\" stroke=\"gray\" stroke-width=\"1\"/><path d=\"M 437 461 408 422\" stroke=\"gray\" stroke-width=\"1\"/><path d=\"M 375 390 371 358\" stroke=\"gray\" stroke-width=\"1\"/><path d=\"M 375 390 376 437\" stroke=\"gray\" stroke-width=\"1\"/><path d=\"M 376 437 375 390\" stroke=\"gray\" stroke-width=\"1\"/><path d=\"M 454 430 408 422\" stroke=\"gray\" stroke-width=\"1\"/><path d=\"M 382 412 383 393\" stroke=\"gray\" stroke-width=\"1\"/><path d=\"M 382 412 346 376\" stroke=\"gray\" stroke-width=\"1\"/><path d=\"M 382 412 408 422\" stroke=\"gray\" stroke-width=\"1\"/><path d=\"M 285 367 346 376\" stroke=\"gray\" stroke-width=\"1\"/><path d=\"M 285 367 310 386\" stroke=\"gray\" stroke-width=\"1\"/><path d=\"M 285 367 242 357\" stroke=\"gray\" stroke-width=\"1\"/><path d=\"M 310 386 346 376\" stroke=\"gray\" stroke-width=\"1\"/><path d=\"M 310 386 285 367\" stroke=\"gray\" stroke-width=\"1\"/><path d=\"M 242 357 285 367\" stroke=\"gray\" stroke-width=\"1\"/><path d=\"M 357 397 383 393\" stroke=\"gray\" stroke-width=\"1\"/><path d=\"M 357 397 346 376\" stroke=\"gray\" stroke-width=\"1\"/><path d=\"M 416 374 383 393\" stroke=\"gray\" stroke-width=\"1\"/><path d=\"M 335 427 346 376\" stroke=\"gray\" stroke-width=\"1\"/><path d=\"M 309 410 346 376\" stroke=\"gray\" stroke-width=\"1\"/><path d=\"M 321 332 346 376\" stroke=\"gray\" stroke-width=\"1\"/><path d=\"M 290 391 346 376\" stroke=\"gray\" stroke-width=\"1\"/><path d=\"M 290 391 251 415\" stroke=\"gray\" stroke-width=\"1\"/><path d=\"M 290 391 309 364\" stroke=\"gray\" stroke-width=\"1\"/><path d=\"M 290 391 294 368\" stroke=\"gray\" stroke-width=\"1\"/><path d=\"M 251 415 290 391\" stroke=\"gray\" stroke-width=\"1\"/><path d=\"M 324 351 346 376\" stroke=\"gray\" stroke-width=\"1\"/><path d=\"M 324 351 338 327\" stroke=\"gray\" stroke-width=\"1\"/><path d=\"M 324 351 294 368\" stroke=\"gray\" stroke-width=\"1\"/><path d=\"M 334 294 346 376\" stroke=\"gray\" stroke-width=\"1\"/><path d=\"M 334 294 338 327\" stroke=\"gray\" stroke-width=\"1\"/><path d=\"M 334 294 355 253\" stroke=\"gray\" stroke-width=\"1\"/><path d=\"M 334 294 300 266\" stroke=\"gray\" stroke-width=\"1\"/><path d=\"M 334 294 329 245\" stroke=\"gray\" stroke-width=\"1\"/><path d=\"M 338 327 346 376\" stroke=\"gray\" stroke-width=\"1\"/><path d=\"M 338 327 324 351\" stroke=\"gray\" stroke-width=\"1\"/><path d=\"M 338 327 334 294\" stroke=\"gray\" stroke-width=\"1\"/><path d=\"M 355 253 334 294\" stroke=\"gray\" stroke-width=\"1\"/><path d=\"M 300 266 334 294\" stroke=\"gray\" stroke-width=\"1\"/><path d=\"M 329 245 334 294\" stroke=\"gray\" stroke-width=\"1\"/><path d=\"M 405 388 346 376\" stroke=\"gray\" stroke-width=\"1\"/><path d=\"M 405 388 447 393\" stroke=\"gray\" stroke-width=\"1\"/><path d=\"M 447 393 405 388\" stroke=\"gray\" stroke-width=\"1\"/><path d=\"M 309 364 346 376\" stroke=\"gray\" stroke-width=\"1\"/><path d=\"M 309 364 290 391\" stroke=\"gray\" stroke-width=\"1\"/><path d=\"M 321 421 346 376\" stroke=\"gray\" stroke-width=\"1\"/><path d=\"M 350 431 346 376\" stroke=\"gray\" stroke-width=\"1\"/><path d=\"M 294 368 290 391\" stroke=\"gray\" stroke-width=\"1\"/><path d=\"M 294 368 324 351\" stroke=\"gray\" stroke-width=\"1\"/><circle cx=\"383\" cy=\"393\" r=\"5.0\" style=\"fill:rgb(105, 139, 239);stroke:black;stroke-width:1.0\"/><circle cx=\"346\" cy=\"376\" r=\"5.0\" style=\"fill:rgb(179, 3, 38);stroke:black;stroke-width:1.0\"/><circle cx=\"444\" cy=\"317\" r=\"5.0\" style=\"fill:rgb(60, 79, 195);stroke:black;stroke-width:1.0\"/><circle cx=\"402\" cy=\"339\" r=\"5.0\" style=\"fill:rgb(76, 102, 214);stroke:black;stroke-width:1.0\"/><circle cx=\"363\" cy=\"330\" r=\"5.0\" style=\"fill:rgb(58, 76, 192);stroke:black;stroke-width:1.0\"/><circle cx=\"371\" cy=\"358\" r=\"5.0\" style=\"fill:rgb(76, 102, 214);stroke:black;stroke-width:1.0\"/><circle cx=\"408\" cy=\"422\" r=\"5.0\" style=\"fill:rgb(109, 144, 241);stroke:black;stroke-width:1.0\"/><circle cx=\"437\" cy=\"461\" r=\"5.0\" style=\"fill:rgb(58, 76, 192);stroke:black;stroke-width:1.0\"/><circle cx=\"375\" cy=\"390\" r=\"5.0\" style=\"fill:rgb(82, 110, 220);stroke:black;stroke-width:1.0\"/><circle cx=\"376\" cy=\"437\" r=\"5.0\" style=\"fill:rgb(64, 84, 199);stroke:black;stroke-width:1.0\"/><circle cx=\"454\" cy=\"430\" r=\"5.0\" style=\"fill:rgb(58, 76, 192);stroke:black;stroke-width:1.0\"/><circle cx=\"382\" cy=\"412\" r=\"5.0\" style=\"fill:rgb(86, 115, 224);stroke:black;stroke-width:1.0\"/><circle cx=\"285\" cy=\"367\" r=\"5.0\" style=\"fill:rgb(92, 123, 229);stroke:black;stroke-width:1.0\"/><circle cx=\"310\" cy=\"386\" r=\"5.0\" style=\"fill:rgb(72, 96, 209);stroke:black;stroke-width:1.0\"/><circle cx=\"242\" cy=\"357\" r=\"5.0\" style=\"fill:rgb(58, 76, 192);stroke:black;stroke-width:1.0\"/><circle cx=\"357\" cy=\"397\" r=\"5.0\" style=\"fill:rgb(70, 93, 207);stroke:black;stroke-width:1.0\"/><circle cx=\"416\" cy=\"374\" r=\"5.0\" style=\"fill:rgb(58, 76, 192);stroke:black;stroke-width:1.0\"/><circle cx=\"335\" cy=\"427\" r=\"5.0\" style=\"fill:rgb(58, 76, 192);stroke:black;stroke-width:1.0\"/><circle cx=\"309\" cy=\"410\" r=\"5.0\" style=\"fill:rgb(58, 76, 192);stroke:black;stroke-width:1.0\"/><circle cx=\"321\" cy=\"332\" r=\"5.0\" style=\"fill:rgb(58, 76, 192);stroke:black;stroke-width:1.0\"/><circle cx=\"290\" cy=\"391\" r=\"5.0\" style=\"fill:rgb(105, 139, 239);stroke:black;stroke-width:1.0\"/><circle cx=\"251\" cy=\"415\" r=\"5.0\" style=\"fill:rgb(58, 76, 192);stroke:black;stroke-width:1.0\"/><circle cx=\"324\" cy=\"351\" r=\"5.0\" style=\"fill:rgb(86, 115, 224);stroke:black;stroke-width:1.0\"/><circle cx=\"334\" cy=\"294\" r=\"5.0\" style=\"fill:rgb(130, 165, 251);stroke:black;stroke-width:1.0\"/><circle cx=\"338\" cy=\"327\" r=\"5.0\" style=\"fill:rgb(86, 115, 224);stroke:black;stroke-width:1.0\"/><circle cx=\"355\" cy=\"253\" r=\"5.0\" style=\"fill:rgb(58, 76, 192);stroke:black;stroke-width:1.0\"/><circle cx=\"300\" cy=\"266\" r=\"5.0\" style=\"fill:rgb(58, 76, 192);stroke:black;stroke-width:1.0\"/><circle cx=\"329\" cy=\"245\" r=\"5.0\" style=\"fill:rgb(58, 76, 192);stroke:black;stroke-width:1.0\"/><circle cx=\"405\" cy=\"388\" r=\"5.0\" style=\"fill:rgb(76, 102, 214);stroke:black;stroke-width:1.0\"/><circle cx=\"447\" cy=\"393\" r=\"5.0\" style=\"fill:rgb(60, 79, 195);stroke:black;stroke-width:1.0\"/><circle cx=\"309\" cy=\"364\" r=\"5.0\" style=\"fill:rgb(70, 93, 207);stroke:black;stroke-width:1.0\"/><circle cx=\"321\" cy=\"421\" r=\"5.0\" style=\"fill:rgb(58, 76, 192);stroke:black;stroke-width:1.0\"/><circle cx=\"350\" cy=\"431\" r=\"5.0\" style=\"fill:rgb(58, 76, 192);stroke:black;stroke-width:1.0\"/><circle cx=\"720\" cy=\"86\" r=\"5.0\" style=\"fill:rgb(80, 107, 218);stroke:black;stroke-width:1.0\"/><circle cx=\"294\" cy=\"368\" r=\"5.0\" style=\"fill:rgb(70, 93, 207);stroke:black;stroke-width:1.0\"/><circle cx=\"191\" cy=\"507\" r=\"5.0\" style=\"fill:rgb(80, 107, 218);stroke:black;stroke-width:1.0\"/><circle cx=\"367\" cy=\"38\" r=\"5.0\" style=\"fill:rgb(80, 107, 218);stroke:black;stroke-width:1.0\"/><circle cx=\"243\" cy=\"298\" r=\"5.0\" style=\"fill:rgb(80, 107, 218);stroke:black;stroke-width:1.0\"/><circle cx=\"413\" cy=\"20\" r=\"5.0\" style=\"fill:rgb(80, 107, 218);stroke:black;stroke-width:1.0\"/><circle cx=\"20\" cy=\"233\" r=\"5.0\" style=\"fill:rgb(80, 107, 218);stroke:black;stroke-width:1.0\"/><circle cx=\"403\" cy=\"520\" r=\"5.0\" style=\"fill:rgb(80, 107, 218);stroke:black;stroke-width:1.0\"/><circle cx=\"450\" cy=\"262\" r=\"5.0\" style=\"fill:rgb(80, 107, 218);stroke:black;stroke-width:1.0\"/><circle cx=\"619\" cy=\"414\" r=\"5.0\" style=\"fill:rgb(80, 107, 218);stroke:black;stroke-width:1.0\"/><circle cx=\"528\" cy=\"342\" r=\"5.0\" style=\"fill:rgb(80, 107, 218);stroke:black;stroke-width:1.0\"/><circle cx=\"140\" cy=\"83\" r=\"5.0\" style=\"fill:rgb(80, 107, 218);stroke:black;stroke-width:1.0\"/><text font-size=\"10\" x=\"391\" y=\"398\">Rabbit</text><text font-size=\"10\" x=\"354\" y=\"381\">Alice</text><text font-size=\"10\" x=\"452\" y=\"322\">Ada</text><text font-size=\"10\" x=\"410\" y=\"344\">Mabel</text><text font-size=\"10\" x=\"371\" y=\"335\">William the Conqueror</text><text font-size=\"10\" x=\"379\" y=\"363\">Mouse</text><text font-size=\"10\" x=\"416\" y=\"427\">Lory</text><text font-size=\"10\" x=\"445\" y=\"466\">Eaglet</text><text font-size=\"10\" x=\"383\" y=\"395\">William</text><text font-size=\"10\" x=\"384\" y=\"442\">Edgar Atheling</text><text font-size=\"10\" x=\"462\" y=\"435\">Crab</text><text font-size=\"10\" x=\"390\" y=\"417\">Dinah</text><text font-size=\"10\" x=\"293\" y=\"372\">the White Rabbit</text><text font-size=\"10\" x=\"318\" y=\"391\">Bill</text><text font-size=\"10\" x=\"250\" y=\"362\">The Rabbit Sends</text><text font-size=\"10\" x=\"365\" y=\"402\">Mary Ann</text><text font-size=\"10\" x=\"424\" y=\"379\">Pat</text><text font-size=\"10\" x=\"343\" y=\"432\">Caterpillar</text><text font-size=\"10\" x=\"317\" y=\"415\">Pigeon</text><text font-size=\"10\" x=\"329\" y=\"337\">Fish-Footman</text><text font-size=\"10\" x=\"298\" y=\"396\">Duchess</text><text font-size=\"10\" x=\"259\" y=\"420\">Cheshire</text><text font-size=\"10\" x=\"332\" y=\"356\">Hare</text><text font-size=\"10\" x=\"342\" y=\"299\">Dormouse</text><text font-size=\"10\" x=\"346\" y=\"332\">Hatter</text><text font-size=\"10\" x=\"363\" y=\"258\">Tillie</text><text font-size=\"10\" x=\"308\" y=\"271\">Elsie</text><text font-size=\"10\" x=\"337\" y=\"250\">Lacie</text><text font-size=\"10\" x=\"413\" y=\"393\">Kings</text><text font-size=\"10\" x=\"455\" y=\"398\">Queens</text><text font-size=\"10\" x=\"317\" y=\"369\">Cat</text><text font-size=\"10\" x=\"329\" y=\"426\">Cheshire Cat</text><text font-size=\"10\" x=\"358\" y=\"436\">Lobster Quadrille</text><text font-size=\"10\" x=\"728\" y=\"91\">Gryphon</text><text font-size=\"10\" x=\"302\" y=\"373\">Lizard</text><text font-size=\"10\" x=\"199\" y=\"512\">Queen of Hearts</text><text font-size=\"10\" x=\"375\" y=\"43\">Frog-Footman</text><text font-size=\"10\" x=\"251\" y=\"303\">March Hare</text><text font-size=\"10\" x=\"421\" y=\"25\">Mad Hatter</text><text font-size=\"10\" x=\"28\" y=\"238\">Card Gardener #1</text><text font-size=\"10\" x=\"411\" y=\"525\">Card Gardener #2</text><text font-size=\"10\" x=\"458\" y=\"267\">Card Gardener #3</text><text font-size=\"10\" x=\"627\" y=\"419\">King of Hearts</text><text font-size=\"10\" x=\"536\" y=\"347\">Knave of Hearts</text><text font-size=\"10\" x=\"148\" y=\"88\">Mock Turtle</text></svg>"
      ],
      "text/plain": [
       "<IPython.core.display.SVG object>"
      ]
     },
     "execution_count": 25,
     "metadata": {},
     "output_type": "execute_result"
    }
   ],
   "source": [
    "draw_graph(G, show_names=True, node_size=5, edge_width=1) "
   ]
  },
  {
   "cell_type": "markdown",
   "id": "9a35d967",
   "metadata": {},
   "source": [
    "# adding edges"
   ]
  },
  {
   "cell_type": "code",
   "execution_count": 26,
   "id": "e4d7f9f1",
   "metadata": {},
   "outputs": [],
   "source": [
    "G.add_edge('Frog-Footman', 'Queen of Hearts') "
   ]
  },
  {
   "cell_type": "code",
   "execution_count": 27,
   "id": "4f0c09f7",
   "metadata": {},
   "outputs": [],
   "source": [
    "add_edges = [('Alice', 'Mock Turtle'), ('King of Hearts', 'Alice'), ('King of Hearts', 'Card Gardener #1'),  \n",
    "             ('King of Hearts', 'Card Gardener #2'), ('King of Hearts', 'Card Gardener #3'),  \n",
    "             ('King of Hearts', 'Dormouse'), ('King of Hearts', 'Frog-Footman'), ('King of Hearts', 'Kings'),  \n",
    "             ('King of Hearts', 'Lizard'), ('King of Hearts', 'Mad Hatter'), ('King of Hearts', 'March Hare'),  \n",
    "             ('King of Hearts', 'Mock Turtle'), ('King of Hearts', 'Queen of Hearts'), ('King of Hearts', 'Queens'),  \n",
    "             ('King of Hearts', 'White Rabbit'), ('Knave of Hearts', 'King of Hearts'),  \n",
    "             ('Knave of Hearts', 'Queen of Hearts'), \n",
    "             ('Queen of Hearts', 'Alice'), ('Queen of Hearts', 'Card Gardener #1'),  \n",
    "             ('Queen of Hearts', 'Card Gardener #2'), ('Queen of Hearts', 'Card Gardener #3'),  \n",
    "             ('Queen of Hearts', 'Dormouse'), ('Queen of Hearts', 'Frog-Footman'), ('Queen of Hearts', 'Kings'),  \n",
    "             ('Queen of Hearts', 'Lizard'), ('Queen of Hearts', 'Mad Hatter'), ('Queen of Hearts', 'March Hare'),  \n",
    "             ('Queen of Hearts', 'Mock Turtle'), ('Queen of Hearts', 'Queens'), ('Queen of Hearts', 'White Rabbit')] \n",
    "\n",
    "G.add_edges_from(add_edges) "
   ]
  },
  {
   "cell_type": "code",
   "execution_count": 28,
   "id": "799ab3e2",
   "metadata": {},
   "outputs": [
    {
     "data": {
      "image/svg+xml": [
       "<svg height=\"540\" width=\"845.0\" xmlns=\"http://www.w3.org/2000/svg\"><path d=\"M 243 307 238 197\" stroke=\"gray\" stroke-width=\"1\"/><path d=\"M 243 307 195 246\" stroke=\"gray\" stroke-width=\"1\"/><path d=\"M 243 307 245 281\" stroke=\"gray\" stroke-width=\"1\"/><path d=\"M 243 307 271 394\" stroke=\"gray\" stroke-width=\"1\"/><path d=\"M 238 197 243 307\" stroke=\"gray\" stroke-width=\"1\"/><path d=\"M 238 197 196 321\" stroke=\"gray\" stroke-width=\"1\"/><path d=\"M 238 197 209 117\" stroke=\"gray\" stroke-width=\"1\"/><path d=\"M 238 197 155 111\" stroke=\"gray\" stroke-width=\"1\"/><path d=\"M 238 197 148 173\" stroke=\"gray\" stroke-width=\"1\"/><path d=\"M 238 197 195 246\" stroke=\"gray\" stroke-width=\"1\"/><path d=\"M 238 197 333 272\" stroke=\"gray\" stroke-width=\"1\"/><path d=\"M 238 197 302 261\" stroke=\"gray\" stroke-width=\"1\"/><path d=\"M 238 197 245 281\" stroke=\"gray\" stroke-width=\"1\"/><path d=\"M 238 197 218 247\" stroke=\"gray\" stroke-width=\"1\"/><path d=\"M 238 197 187 274\" stroke=\"gray\" stroke-width=\"1\"/><path d=\"M 238 197 162 214\" stroke=\"gray\" stroke-width=\"1\"/><path d=\"M 238 197 321 94\" stroke=\"gray\" stroke-width=\"1\"/><path d=\"M 238 197 258 119\" stroke=\"gray\" stroke-width=\"1\"/><path d=\"M 238 197 197 104\" stroke=\"gray\" stroke-width=\"1\"/><path d=\"M 238 197 212 140\" stroke=\"gray\" stroke-width=\"1\"/><path d=\"M 238 197 253 147\" stroke=\"gray\" stroke-width=\"1\"/><path d=\"M 238 197 281 103\" stroke=\"gray\" stroke-width=\"1\"/><path d=\"M 238 197 308 231\" stroke=\"gray\" stroke-width=\"1\"/><path d=\"M 238 197 166 243\" stroke=\"gray\" stroke-width=\"1\"/><path d=\"M 238 197 285 144\" stroke=\"gray\" stroke-width=\"1\"/><path d=\"M 238 197 288 136\" stroke=\"gray\" stroke-width=\"1\"/><path d=\"M 238 197 302 170\" stroke=\"gray\" stroke-width=\"1\"/><path d=\"M 169 406 196 321\" stroke=\"gray\" stroke-width=\"1\"/><path d=\"M 196 321 238 197\" stroke=\"gray\" stroke-width=\"1\"/><path d=\"M 196 321 169 406\" stroke=\"gray\" stroke-width=\"1\"/><path d=\"M 209 117 238 197\" stroke=\"gray\" stroke-width=\"1\"/><path d=\"M 155 111 238 197\" stroke=\"gray\" stroke-width=\"1\"/><path d=\"M 155 111 78 62\" stroke=\"gray\" stroke-width=\"1\"/><path d=\"M 148 173 238 197\" stroke=\"gray\" stroke-width=\"1\"/><path d=\"M 148 173 113 103\" stroke=\"gray\" stroke-width=\"1\"/><path d=\"M 148 173 79 133\" stroke=\"gray\" stroke-width=\"1\"/><path d=\"M 148 173 195 246\" stroke=\"gray\" stroke-width=\"1\"/><path d=\"M 113 103 148 173\" stroke=\"gray\" stroke-width=\"1\"/><path d=\"M 78 62 155 111\" stroke=\"gray\" stroke-width=\"1\"/><path d=\"M 78 62 20 66\" stroke=\"gray\" stroke-width=\"1\"/><path d=\"M 20 66 78 62\" stroke=\"gray\" stroke-width=\"1\"/><path d=\"M 79 133 148 173\" stroke=\"gray\" stroke-width=\"1\"/><path d=\"M 195 246 243 307\" stroke=\"gray\" stroke-width=\"1\"/><path d=\"M 195 246 238 197\" stroke=\"gray\" stroke-width=\"1\"/><path d=\"M 195 246 148 173\" stroke=\"gray\" stroke-width=\"1\"/><path d=\"M 333 272 238 197\" stroke=\"gray\" stroke-width=\"1\"/><path d=\"M 333 272 302 261\" stroke=\"gray\" stroke-width=\"1\"/><path d=\"M 333 272 402 318\" stroke=\"gray\" stroke-width=\"1\"/><path d=\"M 302 261 238 197\" stroke=\"gray\" stroke-width=\"1\"/><path d=\"M 302 261 333 272\" stroke=\"gray\" stroke-width=\"1\"/><path d=\"M 402 318 333 272\" stroke=\"gray\" stroke-width=\"1\"/><path d=\"M 245 281 243 307\" stroke=\"gray\" stroke-width=\"1\"/><path d=\"M 245 281 238 197\" stroke=\"gray\" stroke-width=\"1\"/><path d=\"M 271 394 243 307\" stroke=\"gray\" stroke-width=\"1\"/><path d=\"M 218 247 238 197\" stroke=\"gray\" stroke-width=\"1\"/><path d=\"M 187 274 238 197\" stroke=\"gray\" stroke-width=\"1\"/><path d=\"M 162 214 238 197\" stroke=\"gray\" stroke-width=\"1\"/><path d=\"M 321 94 238 197\" stroke=\"gray\" stroke-width=\"1\"/><path d=\"M 321 94 384 31\" stroke=\"gray\" stroke-width=\"1\"/><path d=\"M 321 94 281 103\" stroke=\"gray\" stroke-width=\"1\"/><path d=\"M 321 94 304 85\" stroke=\"gray\" stroke-width=\"1\"/><path d=\"M 384 31 321 94\" stroke=\"gray\" stroke-width=\"1\"/><path d=\"M 258 119 238 197\" stroke=\"gray\" stroke-width=\"1\"/><path d=\"M 258 119 212 140\" stroke=\"gray\" stroke-width=\"1\"/><path d=\"M 258 119 304 85\" stroke=\"gray\" stroke-width=\"1\"/><path d=\"M 197 104 238 197\" stroke=\"gray\" stroke-width=\"1\"/><path d=\"M 197 104 212 140\" stroke=\"gray\" stroke-width=\"1\"/><path d=\"M 197 104 161 20\" stroke=\"gray\" stroke-width=\"1\"/><path d=\"M 197 104 115 126\" stroke=\"gray\" stroke-width=\"1\"/><path d=\"M 197 104 135 37\" stroke=\"gray\" stroke-width=\"1\"/><path d=\"M 197 104 285 144\" stroke=\"gray\" stroke-width=\"1\"/><path d=\"M 197 104 288 136\" stroke=\"gray\" stroke-width=\"1\"/><path d=\"M 212 140 238 197\" stroke=\"gray\" stroke-width=\"1\"/><path d=\"M 212 140 258 119\" stroke=\"gray\" stroke-width=\"1\"/><path d=\"M 212 140 197 104\" stroke=\"gray\" stroke-width=\"1\"/><path d=\"M 161 20 197 104\" stroke=\"gray\" stroke-width=\"1\"/><path d=\"M 115 126 197 104\" stroke=\"gray\" stroke-width=\"1\"/><path d=\"M 135 37 197 104\" stroke=\"gray\" stroke-width=\"1\"/><path d=\"M 253 147 238 197\" stroke=\"gray\" stroke-width=\"1\"/><path d=\"M 253 147 249 104\" stroke=\"gray\" stroke-width=\"1\"/><path d=\"M 253 147 285 144\" stroke=\"gray\" stroke-width=\"1\"/><path d=\"M 253 147 288 136\" stroke=\"gray\" stroke-width=\"1\"/><path d=\"M 249 104 253 147\" stroke=\"gray\" stroke-width=\"1\"/><path d=\"M 249 104 285 144\" stroke=\"gray\" stroke-width=\"1\"/><path d=\"M 249 104 288 136\" stroke=\"gray\" stroke-width=\"1\"/><path d=\"M 281 103 238 197\" stroke=\"gray\" stroke-width=\"1\"/><path d=\"M 281 103 321 94\" stroke=\"gray\" stroke-width=\"1\"/><path d=\"M 308 231 238 197\" stroke=\"gray\" stroke-width=\"1\"/><path d=\"M 166 243 238 197\" stroke=\"gray\" stroke-width=\"1\"/><path d=\"M 304 85 321 94\" stroke=\"gray\" stroke-width=\"1\"/><path d=\"M 304 85 258 119\" stroke=\"gray\" stroke-width=\"1\"/><path d=\"M 304 85 285 144\" stroke=\"gray\" stroke-width=\"1\"/><path d=\"M 304 85 288 136\" stroke=\"gray\" stroke-width=\"1\"/><path d=\"M 285 144 238 197\" stroke=\"gray\" stroke-width=\"1\"/><path d=\"M 285 144 197 104\" stroke=\"gray\" stroke-width=\"1\"/><path d=\"M 285 144 253 147\" stroke=\"gray\" stroke-width=\"1\"/><path d=\"M 285 144 249 104\" stroke=\"gray\" stroke-width=\"1\"/><path d=\"M 285 144 304 85\" stroke=\"gray\" stroke-width=\"1\"/><path d=\"M 285 144 352 136\" stroke=\"gray\" stroke-width=\"1\"/><path d=\"M 285 144 338 179\" stroke=\"gray\" stroke-width=\"1\"/><path d=\"M 285 144 273 71\" stroke=\"gray\" stroke-width=\"1\"/><path d=\"M 285 144 341 111\" stroke=\"gray\" stroke-width=\"1\"/><path d=\"M 285 144 285 188\" stroke=\"gray\" stroke-width=\"1\"/><path d=\"M 285 144 342 154\" stroke=\"gray\" stroke-width=\"1\"/><path d=\"M 285 144 288 136\" stroke=\"gray\" stroke-width=\"1\"/><path d=\"M 285 144 298 203\" stroke=\"gray\" stroke-width=\"1\"/><path d=\"M 285 144 302 170\" stroke=\"gray\" stroke-width=\"1\"/><path d=\"M 285 144 240 162\" stroke=\"gray\" stroke-width=\"1\"/><path d=\"M 352 136 285 144\" stroke=\"gray\" stroke-width=\"1\"/><path d=\"M 352 136 288 136\" stroke=\"gray\" stroke-width=\"1\"/><path d=\"M 338 179 285 144\" stroke=\"gray\" stroke-width=\"1\"/><path d=\"M 338 179 288 136\" stroke=\"gray\" stroke-width=\"1\"/><path d=\"M 273 71 285 144\" stroke=\"gray\" stroke-width=\"1\"/><path d=\"M 273 71 288 136\" stroke=\"gray\" stroke-width=\"1\"/><path d=\"M 341 111 285 144\" stroke=\"gray\" stroke-width=\"1\"/><path d=\"M 341 111 288 136\" stroke=\"gray\" stroke-width=\"1\"/><path d=\"M 285 188 285 144\" stroke=\"gray\" stroke-width=\"1\"/><path d=\"M 285 188 288 136\" stroke=\"gray\" stroke-width=\"1\"/><path d=\"M 342 154 285 144\" stroke=\"gray\" stroke-width=\"1\"/><path d=\"M 342 154 288 136\" stroke=\"gray\" stroke-width=\"1\"/><path d=\"M 288 136 238 197\" stroke=\"gray\" stroke-width=\"1\"/><path d=\"M 288 136 197 104\" stroke=\"gray\" stroke-width=\"1\"/><path d=\"M 288 136 253 147\" stroke=\"gray\" stroke-width=\"1\"/><path d=\"M 288 136 249 104\" stroke=\"gray\" stroke-width=\"1\"/><path d=\"M 288 136 304 85\" stroke=\"gray\" stroke-width=\"1\"/><path d=\"M 288 136 285 144\" stroke=\"gray\" stroke-width=\"1\"/><path d=\"M 288 136 352 136\" stroke=\"gray\" stroke-width=\"1\"/><path d=\"M 288 136 338 179\" stroke=\"gray\" stroke-width=\"1\"/><path d=\"M 288 136 273 71\" stroke=\"gray\" stroke-width=\"1\"/><path d=\"M 288 136 341 111\" stroke=\"gray\" stroke-width=\"1\"/><path d=\"M 288 136 285 188\" stroke=\"gray\" stroke-width=\"1\"/><path d=\"M 288 136 342 154\" stroke=\"gray\" stroke-width=\"1\"/><path d=\"M 288 136 298 203\" stroke=\"gray\" stroke-width=\"1\"/><path d=\"M 288 136 302 170\" stroke=\"gray\" stroke-width=\"1\"/><path d=\"M 288 136 240 162\" stroke=\"gray\" stroke-width=\"1\"/><path d=\"M 298 203 285 144\" stroke=\"gray\" stroke-width=\"1\"/><path d=\"M 298 203 288 136\" stroke=\"gray\" stroke-width=\"1\"/><path d=\"M 302 170 238 197\" stroke=\"gray\" stroke-width=\"1\"/><path d=\"M 302 170 285 144\" stroke=\"gray\" stroke-width=\"1\"/><path d=\"M 302 170 288 136\" stroke=\"gray\" stroke-width=\"1\"/><path d=\"M 240 162 285 144\" stroke=\"gray\" stroke-width=\"1\"/><path d=\"M 240 162 288 136\" stroke=\"gray\" stroke-width=\"1\"/><circle cx=\"243\" cy=\"307\" r=\"5.0\" style=\"fill:rgb(103, 136, 237);stroke:black;stroke-width:1.0\"/><circle cx=\"238\" cy=\"197\" r=\"5.0\" style=\"fill:rgb(179, 3, 38);stroke:black;stroke-width:1.0\"/><circle cx=\"169\" cy=\"406\" r=\"5.0\" style=\"fill:rgb(60, 79, 195);stroke:black;stroke-width:1.0\"/><circle cx=\"196\" cy=\"321\" r=\"5.0\" style=\"fill:rgb(76, 102, 214);stroke:black;stroke-width:1.0\"/><circle cx=\"209\" cy=\"117\" r=\"5.0\" style=\"fill:rgb(58, 76, 192);stroke:black;stroke-width:1.0\"/><circle cx=\"155\" cy=\"111\" r=\"5.0\" style=\"fill:rgb(76, 102, 214);stroke:black;stroke-width:1.0\"/><circle cx=\"148\" cy=\"173\" r=\"5.0\" style=\"fill:rgb(109, 144, 241);stroke:black;stroke-width:1.0\"/><circle cx=\"113\" cy=\"103\" r=\"5.0\" style=\"fill:rgb(58, 76, 192);stroke:black;stroke-width:1.0\"/><circle cx=\"78\" cy=\"62\" r=\"5.0\" style=\"fill:rgb(82, 110, 220);stroke:black;stroke-width:1.0\"/><circle cx=\"20\" cy=\"66\" r=\"5.0\" style=\"fill:rgb(64, 84, 199);stroke:black;stroke-width:1.0\"/><circle cx=\"79\" cy=\"133\" r=\"5.0\" style=\"fill:rgb(58, 76, 192);stroke:black;stroke-width:1.0\"/><circle cx=\"195\" cy=\"246\" r=\"5.0\" style=\"fill:rgb(86, 115, 224);stroke:black;stroke-width:1.0\"/><circle cx=\"333\" cy=\"272\" r=\"5.0\" style=\"fill:rgb(88, 118, 226);stroke:black;stroke-width:1.0\"/><circle cx=\"302\" cy=\"261\" r=\"5.0\" style=\"fill:rgb(70, 93, 207);stroke:black;stroke-width:1.0\"/><circle cx=\"402\" cy=\"318\" r=\"5.0\" style=\"fill:rgb(58, 76, 192);stroke:black;stroke-width:1.0\"/><circle cx=\"245\" cy=\"281\" r=\"5.0\" style=\"fill:rgb(70, 93, 207);stroke:black;stroke-width:1.0\"/><circle cx=\"271\" cy=\"394\" r=\"5.0\" style=\"fill:rgb(58, 76, 192);stroke:black;stroke-width:1.0\"/><circle cx=\"218\" cy=\"247\" r=\"5.0\" style=\"fill:rgb(58, 76, 192);stroke:black;stroke-width:1.0\"/><circle cx=\"187\" cy=\"274\" r=\"5.0\" style=\"fill:rgb(58, 76, 192);stroke:black;stroke-width:1.0\"/><circle cx=\"162\" cy=\"214\" r=\"5.0\" style=\"fill:rgb(58, 76, 192);stroke:black;stroke-width:1.0\"/><circle cx=\"321\" cy=\"94\" r=\"5.0\" style=\"fill:rgb(99, 131, 234);stroke:black;stroke-width:1.0\"/><circle cx=\"384\" cy=\"31\" r=\"5.0\" style=\"fill:rgb(58, 76, 192);stroke:black;stroke-width:1.0\"/><circle cx=\"258\" cy=\"119\" r=\"5.0\" style=\"fill:rgb(80, 107, 218);stroke:black;stroke-width:1.0\"/><circle cx=\"197\" cy=\"104\" r=\"5.0\" style=\"fill:rgb(145, 179, 254);stroke:black;stroke-width:1.0\"/><circle cx=\"212\" cy=\"140\" r=\"5.0\" style=\"fill:rgb(80, 107, 218);stroke:black;stroke-width:1.0\"/><circle cx=\"161\" cy=\"20\" r=\"5.0\" style=\"fill:rgb(58, 76, 192);stroke:black;stroke-width:1.0\"/><circle cx=\"115\" cy=\"126\" r=\"5.0\" style=\"fill:rgb(58, 76, 192);stroke:black;stroke-width:1.0\"/><circle cx=\"135\" cy=\"37\" r=\"5.0\" style=\"fill:rgb(58, 76, 192);stroke:black;stroke-width:1.0\"/><circle cx=\"253\" cy=\"147\" r=\"5.0\" style=\"fill:rgb(86, 115, 224);stroke:black;stroke-width:1.0\"/><circle cx=\"249\" cy=\"104\" r=\"5.0\" style=\"fill:rgb(72, 96, 209);stroke:black;stroke-width:1.0\"/><circle cx=\"281\" cy=\"103\" r=\"5.0\" style=\"fill:rgb(70, 93, 207);stroke:black;stroke-width:1.0\"/><circle cx=\"308\" cy=\"231\" r=\"5.0\" style=\"fill:rgb(58, 76, 192);stroke:black;stroke-width:1.0\"/><circle cx=\"166\" cy=\"243\" r=\"5.0\" style=\"fill:rgb(58, 76, 192);stroke:black;stroke-width:1.0\"/><circle cx=\"720\" cy=\"520\" r=\"5.0\" style=\"fill:rgb(82, 110, 220);stroke:black;stroke-width:1.0\"/><circle cx=\"304\" cy=\"85\" r=\"5.0\" style=\"fill:rgb(88, 118, 226);stroke:black;stroke-width:1.0\"/><circle cx=\"285\" cy=\"144\" r=\"5.0\" style=\"fill:rgb(219, 220, 222);stroke:black;stroke-width:1.0\"/><circle cx=\"352\" cy=\"136\" r=\"5.0\" style=\"fill:rgb(64, 84, 199);stroke:black;stroke-width:1.0\"/><circle cx=\"338\" cy=\"179\" r=\"5.0\" style=\"fill:rgb(64, 84, 199);stroke:black;stroke-width:1.0\"/><circle cx=\"273\" cy=\"71\" r=\"5.0\" style=\"fill:rgb(64, 84, 199);stroke:black;stroke-width:1.0\"/><circle cx=\"341\" cy=\"111\" r=\"5.0\" style=\"fill:rgb(64, 84, 199);stroke:black;stroke-width:1.0\"/><circle cx=\"285\" cy=\"188\" r=\"5.0\" style=\"fill:rgb(64, 84, 199);stroke:black;stroke-width:1.0\"/><circle cx=\"342\" cy=\"154\" r=\"5.0\" style=\"fill:rgb(64, 84, 199);stroke:black;stroke-width:1.0\"/><circle cx=\"288\" cy=\"136\" r=\"5.0\" style=\"fill:rgb(219, 220, 222);stroke:black;stroke-width:1.0\"/><circle cx=\"298\" cy=\"203\" r=\"5.0\" style=\"fill:rgb(64, 84, 199);stroke:black;stroke-width:1.0\"/><circle cx=\"302\" cy=\"170\" r=\"5.0\" style=\"fill:rgb(76, 102, 214);stroke:black;stroke-width:1.0\"/><circle cx=\"240\" cy=\"162\" r=\"5.0\" style=\"fill:rgb(64, 84, 199);stroke:black;stroke-width:1.0\"/><text font-size=\"10\" x=\"251\" y=\"312\">Rabbit</text><text font-size=\"10\" x=\"246\" y=\"202\">Alice</text><text font-size=\"10\" x=\"177\" y=\"411\">Ada</text><text font-size=\"10\" x=\"204\" y=\"326\">Mabel</text><text font-size=\"10\" x=\"217\" y=\"122\">William the Conqueror</text><text font-size=\"10\" x=\"163\" y=\"116\">Mouse</text><text font-size=\"10\" x=\"156\" y=\"178\">Lory</text><text font-size=\"10\" x=\"121\" y=\"108\">Eaglet</text><text font-size=\"10\" x=\"86\" y=\"67\">William</text><text font-size=\"10\" x=\"28\" y=\"71\">Edgar Atheling</text><text font-size=\"10\" x=\"87\" y=\"138\">Crab</text><text font-size=\"10\" x=\"203\" y=\"251\">Dinah</text><text font-size=\"10\" x=\"341\" y=\"277\">the White Rabbit</text><text font-size=\"10\" x=\"310\" y=\"266\">Bill</text><text font-size=\"10\" x=\"410\" y=\"323\">The Rabbit Sends</text><text font-size=\"10\" x=\"253\" y=\"286\">Mary Ann</text><text font-size=\"10\" x=\"279\" y=\"399\">Pat</text><text font-size=\"10\" x=\"226\" y=\"252\">Caterpillar</text><text font-size=\"10\" x=\"195\" y=\"279\">Pigeon</text><text font-size=\"10\" x=\"170\" y=\"219\">Fish-Footman</text><text font-size=\"10\" x=\"329\" y=\"99\">Duchess</text><text font-size=\"10\" x=\"392\" y=\"36\">Cheshire</text><text font-size=\"10\" x=\"266\" y=\"124\">Hare</text><text font-size=\"10\" x=\"205\" y=\"109\">Dormouse</text><text font-size=\"10\" x=\"220\" y=\"145\">Hatter</text><text font-size=\"10\" x=\"169\" y=\"25\">Tillie</text><text font-size=\"10\" x=\"123\" y=\"131\">Elsie</text><text font-size=\"10\" x=\"143\" y=\"42\">Lacie</text><text font-size=\"10\" x=\"261\" y=\"152\">Kings</text><text font-size=\"10\" x=\"257\" y=\"109\">Queens</text><text font-size=\"10\" x=\"289\" y=\"108\">Cat</text><text font-size=\"10\" x=\"316\" y=\"236\">Cheshire Cat</text><text font-size=\"10\" x=\"174\" y=\"248\">Lobster Quadrille</text><text font-size=\"10\" x=\"728\" y=\"525\">Gryphon</text><text font-size=\"10\" x=\"312\" y=\"90\">Lizard</text><text font-size=\"10\" x=\"293\" y=\"149\">Queen of Hearts</text><text font-size=\"10\" x=\"360\" y=\"141\">Frog-Footman</text><text font-size=\"10\" x=\"346\" y=\"184\">March Hare</text><text font-size=\"10\" x=\"281\" y=\"76\">Mad Hatter</text><text font-size=\"10\" x=\"349\" y=\"116\">Card Gardener #1</text><text font-size=\"10\" x=\"293\" y=\"193\">Card Gardener #2</text><text font-size=\"10\" x=\"350\" y=\"159\">Card Gardener #3</text><text font-size=\"10\" x=\"296\" y=\"141\">King of Hearts</text><text font-size=\"10\" x=\"306\" y=\"208\">Knave of Hearts</text><text font-size=\"10\" x=\"310\" y=\"175\">Mock Turtle</text><text font-size=\"10\" x=\"248\" y=\"167\">White Rabbit</text></svg>"
      ],
      "text/plain": [
       "<IPython.core.display.SVG object>"
      ]
     },
     "execution_count": 28,
     "metadata": {},
     "output_type": "execute_result"
    }
   ],
   "source": [
    "draw_graph(G, show_names=True, node_size=5, edge_width=1) "
   ]
  },
  {
   "cell_type": "code",
   "execution_count": 29,
   "id": "715fd787",
   "metadata": {},
   "outputs": [
    {
     "name": "stdout",
     "output_type": "stream",
     "text": [
      "They very soon came upon a Gryphon, lying fast asleep in the sun.\n",
      "\n",
      "(If  you don't know what a Gryphon is, look at the picture.)\n",
      "\n",
      "I must go back and see after some  executions I have ordered;\"\" and she walked off, leaving Alice alone  with the Gryphon.\n",
      "\n",
      "The Gryphon sat up and rubbed its eyes: then it watched the Queen till  she was out of sight: then it chuckled.\n",
      "\n",
      "said the Gryphon,  half to itself, half to Alice.\n",
      "\n",
      "\"Why, _she_,\"\" said the Gryphon.\n",
      "\n",
      "she asked the Gryphon, and the  Gryphon answered, very nearly in the same words as before, \"It's all  his fancy, that: he hasn't got no sorrow, you know.\n",
      "\n",
      "\"This here young lady,\"\" said the Gryphon, \"she wants for to know your  history, she do.\"\"\n",
      "\n",
      "from the Gryphon, and the constant  heavy sobbing of the Mock Turtle.\n",
      "\n",
      "\"You ought to be ashamed of yourself for asking such a simple  question,\"\" added the Gryphon; and then they both sat silent and looked  at poor Alice, who felt ready to sink into the earth.\n",
      "\n",
      "At last the  Gryphon said to the Mock Turtle, \"Drive on, old fellow!\n",
      "\n",
      "added the Gryphon, before Alice could speak again.\n",
      "\n",
      "The Gryphon lifted up both its paws in surprise.\n",
      "\n",
      "\"Well, then,\"\" the Gryphon went on, \"if you don't know what to uglify  is, you _are_ a simpleton.\"\"\n",
      "\n",
      "And the Gryphon never learnt it.\"\"\n",
      "\n",
      "\"Hadn't time,\"\" said the Gryphon: \"I went to the Classics master,  though.\n",
      "\n",
      "\"So he did, so he did,\"\" said the Gryphon, sighing in his turn; and both  creatures hid their faces in their paws.\n",
      "\n",
      "\"That's the reason they're called lessons,\"\" the Gryphon remarked:  \"because they lessen from day to day.\"\"\n",
      "\n",
      "\"That's enough about lessons,\"\" the Gryphon interrupted in a very  decided tone: \"tell her something about the games now.\"\"\n",
      "\n",
      "\"Same as if he had a bone in his throat,\"\"  said the Gryphon: and it set to work shaking him and punching him in  the back.\n",
      "\n",
      "\"Why,\"\" said the Gryphon, \"you first form into a line along the  sea-shore \"\"    \"Two lines!\"\"\n",
      "\n",
      "\"Seals, turtles, salmon, and so on;  then, when you've cleared all the jelly-fish out of the way \"\"    \"_That_ generally takes some time,\"\" interrupted the Gryphon.    \"\n",
      "\n",
      "cried the Gryphon.\n",
      "\n",
      "\"Of course,\"\" the Mock Turtle said: \"advance twice, set to partners \"\"    \" change lobsters, and retire in same order,\"\" continued the Gryphon.\n",
      "\n",
      "shouted the Gryphon, with a bound into the air.    \"\n",
      "\n",
      "screamed the Gryphon.\n",
      "\n",
      "yelled the Gryphon at the top of its voice.\n",
      "\n",
      "said the Mock Turtle to the  Gryphon.\n",
      "\n",
      "\"Oh, _you_ sing,\"\" said the Gryphon.\n",
      "\n",
      "\"Tell her about the reason and all that,\"\" he said to the Gryphon.\n",
      "\n",
      "\"The reason is,\"\" said the Gryphon, \"that they _would_ go with the  lobsters to the dance.\n",
      "\n",
      "\"I can tell you more than that, if you like,\"\" said the Gryphon.\n",
      "\n",
      "\"_It does the boots and shoes_,\"\" the Gryphon replied very solemnly.\n",
      "\n",
      "said the Gryphon.\n",
      "\n",
      "\"Boots and shoes under the sea,\"\" the Gryphon went on in a deep voice,  \"are done with a whiting.\n",
      "\n",
      "\"Soles and eels, of course,\"\" the Gryphon replied rather impatiently:  \"any shrimp could have told you that.\"\"\n",
      "\n",
      "And  the Gryphon added \"Come, let's hear some of _your_ adventures.\"\"\n",
      "\n",
      "The adventures first,\"\" said the Gryphon in an impatient tone:  \"explanations take such a dreadful time.\"\"\n",
      "\n",
      "\"It's all about as curious as it can be,\"\" said the Gryphon.\n",
      "\n",
      "He looked at the Gryphon as if he thought it had some kind of  authority over Alice.\n",
      "\n",
      "\"Stand up and repeat â'_Tis the voice of the sluggard_,'\"\" said the  Gryphon.\n",
      "\n",
      "\"That's different from what _I_ used to say when I was a child,\"\" said  the Gryphon.\n",
      "\n",
      "\"She can't explain it,\"\" said the Gryphon hastily.\n",
      "\n",
      "\"Go on with the next verse,\"\" the Gryphon repeated impatiently: \"it  begins â_I passed by his garden_.'\"\"\n",
      "\n",
      "\"Yes, I think you'd better leave off,\"\" said the Gryphon: and Alice was  only too glad to do so.\n",
      "\n",
      "the Gryphon  went on.\n",
      "\n",
      "\"Oh, a song, please, if the Mock Turtle would be so kind,\"\" Alice  replied, so eagerly that the Gryphon said, in a rather offended tone,  \"Hm!\n",
      "\n",
      "cried the Gryphon, and the Mock Turtle had just begun  to repeat it, when a cry of \"The trial's beginning!\"\"\n",
      "\n",
      "cried the Gryphon, and, taking Alice by the hand, it hurried  off, without waiting for the end of the song.\n",
      "\n",
      "Alice panted as she ran; but the Gryphon only  answered \"Come on!\"\"\n",
      "\n",
      "Alice whispered to the Gryphon.\n",
      "\n",
      "\"They're putting down their names,\"\" the Gryphon whispered in reply,  \"for fear they should forget them before the end of the trial.\"\"\n",
      "\n",
      "The long grass rustled at her feet as the White Rabbit hurried by the  frightened Mouse splashed his way through the neighbouring pool she  could hear the rattle of the teacups as the March Hare and his friends  shared their never-ending meal, and the shrill voice of the Queen  ordering off her unfortunate guests to execution once more the pig-baby  was sneezing on the Duchess's knee, while plates and dishes crashed  around it once more the shriek of the Gryphon, the squeaking of the  Lizard's slate-pencil, and the choking of the suppressed guinea-pigs,  filled the air, mixed up with the distant sobs of the miserable Mock  Turtle.\n",
      "\n",
      "So she sat on, with closed eyes, and half believed herself in  Wonderland, though she knew she had but to open them again, and all  would change to dull reality the grass would be only rustling in the  wind, and the pool rippling to the waving of the reeds the rattling  teacups would change to tinkling sheep-bells, and the Queen's shrill  cries to the voice of the shepherd boy and the sneeze of the baby, the  shriek of the Gryphon, and all the other queer noises, would change  (she knew) to the confused clamour of the busy farm-yard while the  lowing of the cattle in the distance would take the place of the Mock  Turtle's heavy sobs.\n",
      "\n"
     ]
    }
   ],
   "source": [
    "search_text(text, 'gryphon') "
   ]
  },
  {
   "cell_type": "code",
   "execution_count": 30,
   "id": "23032aec",
   "metadata": {},
   "outputs": [],
   "source": [
    "add_edges = [('Gryphon', 'Alice'), ('Gryphon', 'Queen of Hearts'), ('Gryphon', 'Mock Turtle')] \n",
    "\n",
    "G.add_edges_from(add_edges) "
   ]
  },
  {
   "cell_type": "code",
   "execution_count": 31,
   "id": "609c74f0",
   "metadata": {},
   "outputs": [
    {
     "data": {
      "image/svg+xml": [
       "<svg height=\"540\" width=\"845.0\" xmlns=\"http://www.w3.org/2000/svg\"><path d=\"M 429 381 371 317\" stroke=\"gray\" stroke-width=\"1\"/><path d=\"M 429 381 463 314\" stroke=\"gray\" stroke-width=\"1\"/><path d=\"M 429 381 470 355\" stroke=\"gray\" stroke-width=\"1\"/><path d=\"M 429 381 371 465\" stroke=\"gray\" stroke-width=\"1\"/><path d=\"M 371 317 429 381\" stroke=\"gray\" stroke-width=\"1\"/><path d=\"M 371 317 579 310\" stroke=\"gray\" stroke-width=\"1\"/><path d=\"M 371 317 507 298\" stroke=\"gray\" stroke-width=\"1\"/><path d=\"M 371 317 392 187\" stroke=\"gray\" stroke-width=\"1\"/><path d=\"M 371 317 485 246\" stroke=\"gray\" stroke-width=\"1\"/><path d=\"M 371 317 463 314\" stroke=\"gray\" stroke-width=\"1\"/><path d=\"M 371 317 374 434\" stroke=\"gray\" stroke-width=\"1\"/><path d=\"M 371 317 432 407\" stroke=\"gray\" stroke-width=\"1\"/><path d=\"M 371 317 470 355\" stroke=\"gray\" stroke-width=\"1\"/><path d=\"M 371 317 425 244\" stroke=\"gray\" stroke-width=\"1\"/><path d=\"M 371 317 393 394\" stroke=\"gray\" stroke-width=\"1\"/><path d=\"M 371 317 496 269\" stroke=\"gray\" stroke-width=\"1\"/><path d=\"M 371 317 183 314\" stroke=\"gray\" stroke-width=\"1\"/><path d=\"M 371 317 323 377\" stroke=\"gray\" stroke-width=\"1\"/><path d=\"M 371 317 200 361\" stroke=\"gray\" stroke-width=\"1\"/><path d=\"M 371 317 282 389\" stroke=\"gray\" stroke-width=\"1\"/><path d=\"M 371 317 267 249\" stroke=\"gray\" stroke-width=\"1\"/><path d=\"M 371 317 281 302\" stroke=\"gray\" stroke-width=\"1\"/><path d=\"M 371 317 290 261\" stroke=\"gray\" stroke-width=\"1\"/><path d=\"M 371 317 513 359\" stroke=\"gray\" stroke-width=\"1\"/><path d=\"M 371 317 327 295\" stroke=\"gray\" stroke-width=\"1\"/><path d=\"M 371 317 211 282\" stroke=\"gray\" stroke-width=\"1\"/><path d=\"M 371 317 195 281\" stroke=\"gray\" stroke-width=\"1\"/><path d=\"M 371 317 305 274\" stroke=\"gray\" stroke-width=\"1\"/><path d=\"M 720 298 579 310\" stroke=\"gray\" stroke-width=\"1\"/><path d=\"M 579 310 371 317\" stroke=\"gray\" stroke-width=\"1\"/><path d=\"M 579 310 720 298\" stroke=\"gray\" stroke-width=\"1\"/><path d=\"M 507 298 371 317\" stroke=\"gray\" stroke-width=\"1\"/><path d=\"M 392 187 371 317\" stroke=\"gray\" stroke-width=\"1\"/><path d=\"M 392 187 385 87\" stroke=\"gray\" stroke-width=\"1\"/><path d=\"M 485 246 371 317\" stroke=\"gray\" stroke-width=\"1\"/><path d=\"M 485 246 602 252\" stroke=\"gray\" stroke-width=\"1\"/><path d=\"M 485 246 474 165\" stroke=\"gray\" stroke-width=\"1\"/><path d=\"M 485 246 463 314\" stroke=\"gray\" stroke-width=\"1\"/><path d=\"M 602 252 485 246\" stroke=\"gray\" stroke-width=\"1\"/><path d=\"M 385 87 392 187\" stroke=\"gray\" stroke-width=\"1\"/><path d=\"M 385 87 353 20\" stroke=\"gray\" stroke-width=\"1\"/><path d=\"M 353 20 385 87\" stroke=\"gray\" stroke-width=\"1\"/><path d=\"M 474 165 485 246\" stroke=\"gray\" stroke-width=\"1\"/><path d=\"M 463 314 429 381\" stroke=\"gray\" stroke-width=\"1\"/><path d=\"M 463 314 371 317\" stroke=\"gray\" stroke-width=\"1\"/><path d=\"M 463 314 485 246\" stroke=\"gray\" stroke-width=\"1\"/><path d=\"M 374 434 371 317\" stroke=\"gray\" stroke-width=\"1\"/><path d=\"M 374 434 432 407\" stroke=\"gray\" stroke-width=\"1\"/><path d=\"M 374 434 338 520\" stroke=\"gray\" stroke-width=\"1\"/><path d=\"M 432 407 371 317\" stroke=\"gray\" stroke-width=\"1\"/><path d=\"M 432 407 374 434\" stroke=\"gray\" stroke-width=\"1\"/><path d=\"M 338 520 374 434\" stroke=\"gray\" stroke-width=\"1\"/><path d=\"M 470 355 429 381\" stroke=\"gray\" stroke-width=\"1\"/><path d=\"M 470 355 371 317\" stroke=\"gray\" stroke-width=\"1\"/><path d=\"M 371 465 429 381\" stroke=\"gray\" stroke-width=\"1\"/><path d=\"M 425 244 371 317\" stroke=\"gray\" stroke-width=\"1\"/><path d=\"M 393 394 371 317\" stroke=\"gray\" stroke-width=\"1\"/><path d=\"M 496 269 371 317\" stroke=\"gray\" stroke-width=\"1\"/><path d=\"M 183 314 371 317\" stroke=\"gray\" stroke-width=\"1\"/><path d=\"M 183 314 20 311\" stroke=\"gray\" stroke-width=\"1\"/><path d=\"M 183 314 281 302\" stroke=\"gray\" stroke-width=\"1\"/><path d=\"M 183 314 224 341\" stroke=\"gray\" stroke-width=\"1\"/><path d=\"M 20 311 183 314\" stroke=\"gray\" stroke-width=\"1\"/><path d=\"M 323 377 371 317\" stroke=\"gray\" stroke-width=\"1\"/><path d=\"M 323 377 282 389\" stroke=\"gray\" stroke-width=\"1\"/><path d=\"M 323 377 224 341\" stroke=\"gray\" stroke-width=\"1\"/><path d=\"M 200 361 371 317\" stroke=\"gray\" stroke-width=\"1\"/><path d=\"M 200 361 282 389\" stroke=\"gray\" stroke-width=\"1\"/><path d=\"M 200 361 62 393\" stroke=\"gray\" stroke-width=\"1\"/><path d=\"M 200 361 103 425\" stroke=\"gray\" stroke-width=\"1\"/><path d=\"M 200 361 284 377\" stroke=\"gray\" stroke-width=\"1\"/><path d=\"M 200 361 211 282\" stroke=\"gray\" stroke-width=\"1\"/><path d=\"M 200 361 195 281\" stroke=\"gray\" stroke-width=\"1\"/><path d=\"M 282 389 371 317\" stroke=\"gray\" stroke-width=\"1\"/><path d=\"M 282 389 323 377\" stroke=\"gray\" stroke-width=\"1\"/><path d=\"M 282 389 200 361\" stroke=\"gray\" stroke-width=\"1\"/><path d=\"M 62 393 200 361\" stroke=\"gray\" stroke-width=\"1\"/><path d=\"M 103 425 200 361\" stroke=\"gray\" stroke-width=\"1\"/><path d=\"M 284 377 200 361\" stroke=\"gray\" stroke-width=\"1\"/><path d=\"M 267 249 371 317\" stroke=\"gray\" stroke-width=\"1\"/><path d=\"M 267 249 181 236\" stroke=\"gray\" stroke-width=\"1\"/><path d=\"M 267 249 211 282\" stroke=\"gray\" stroke-width=\"1\"/><path d=\"M 267 249 195 281\" stroke=\"gray\" stroke-width=\"1\"/><path d=\"M 181 236 267 249\" stroke=\"gray\" stroke-width=\"1\"/><path d=\"M 181 236 211 282\" stroke=\"gray\" stroke-width=\"1\"/><path d=\"M 181 236 195 281\" stroke=\"gray\" stroke-width=\"1\"/><path d=\"M 281 302 371 317\" stroke=\"gray\" stroke-width=\"1\"/><path d=\"M 281 302 183 314\" stroke=\"gray\" stroke-width=\"1\"/><path d=\"M 290 261 371 317\" stroke=\"gray\" stroke-width=\"1\"/><path d=\"M 513 359 371 317\" stroke=\"gray\" stroke-width=\"1\"/><path d=\"M 327 295 371 317\" stroke=\"gray\" stroke-width=\"1\"/><path d=\"M 327 295 211 282\" stroke=\"gray\" stroke-width=\"1\"/><path d=\"M 327 295 305 274\" stroke=\"gray\" stroke-width=\"1\"/><path d=\"M 224 341 183 314\" stroke=\"gray\" stroke-width=\"1\"/><path d=\"M 224 341 323 377\" stroke=\"gray\" stroke-width=\"1\"/><path d=\"M 224 341 211 282\" stroke=\"gray\" stroke-width=\"1\"/><path d=\"M 224 341 195 281\" stroke=\"gray\" stroke-width=\"1\"/><path d=\"M 211 282 371 317\" stroke=\"gray\" stroke-width=\"1\"/><path d=\"M 211 282 200 361\" stroke=\"gray\" stroke-width=\"1\"/><path d=\"M 211 282 267 249\" stroke=\"gray\" stroke-width=\"1\"/><path d=\"M 211 282 181 236\" stroke=\"gray\" stroke-width=\"1\"/><path d=\"M 211 282 327 295\" stroke=\"gray\" stroke-width=\"1\"/><path d=\"M 211 282 224 341\" stroke=\"gray\" stroke-width=\"1\"/><path d=\"M 211 282 170 215\" stroke=\"gray\" stroke-width=\"1\"/><path d=\"M 211 282 243 313\" stroke=\"gray\" stroke-width=\"1\"/><path d=\"M 211 282 100 261\" stroke=\"gray\" stroke-width=\"1\"/><path d=\"M 211 282 117 238\" stroke=\"gray\" stroke-width=\"1\"/><path d=\"M 211 282 219 218\" stroke=\"gray\" stroke-width=\"1\"/><path d=\"M 211 282 182 328\" stroke=\"gray\" stroke-width=\"1\"/><path d=\"M 211 282 195 281\" stroke=\"gray\" stroke-width=\"1\"/><path d=\"M 211 282 113 316\" stroke=\"gray\" stroke-width=\"1\"/><path d=\"M 211 282 305 274\" stroke=\"gray\" stroke-width=\"1\"/><path d=\"M 211 282 97 288\" stroke=\"gray\" stroke-width=\"1\"/><path d=\"M 170 215 211 282\" stroke=\"gray\" stroke-width=\"1\"/><path d=\"M 170 215 195 281\" stroke=\"gray\" stroke-width=\"1\"/><path d=\"M 243 313 211 282\" stroke=\"gray\" stroke-width=\"1\"/><path d=\"M 243 313 195 281\" stroke=\"gray\" stroke-width=\"1\"/><path d=\"M 100 261 211 282\" stroke=\"gray\" stroke-width=\"1\"/><path d=\"M 100 261 195 281\" stroke=\"gray\" stroke-width=\"1\"/><path d=\"M 117 238 211 282\" stroke=\"gray\" stroke-width=\"1\"/><path d=\"M 117 238 195 281\" stroke=\"gray\" stroke-width=\"1\"/><path d=\"M 219 218 211 282\" stroke=\"gray\" stroke-width=\"1\"/><path d=\"M 219 218 195 281\" stroke=\"gray\" stroke-width=\"1\"/><path d=\"M 182 328 211 282\" stroke=\"gray\" stroke-width=\"1\"/><path d=\"M 182 328 195 281\" stroke=\"gray\" stroke-width=\"1\"/><path d=\"M 195 281 371 317\" stroke=\"gray\" stroke-width=\"1\"/><path d=\"M 195 281 200 361\" stroke=\"gray\" stroke-width=\"1\"/><path d=\"M 195 281 267 249\" stroke=\"gray\" stroke-width=\"1\"/><path d=\"M 195 281 181 236\" stroke=\"gray\" stroke-width=\"1\"/><path d=\"M 195 281 224 341\" stroke=\"gray\" stroke-width=\"1\"/><path d=\"M 195 281 211 282\" stroke=\"gray\" stroke-width=\"1\"/><path d=\"M 195 281 170 215\" stroke=\"gray\" stroke-width=\"1\"/><path d=\"M 195 281 243 313\" stroke=\"gray\" stroke-width=\"1\"/><path d=\"M 195 281 100 261\" stroke=\"gray\" stroke-width=\"1\"/><path d=\"M 195 281 117 238\" stroke=\"gray\" stroke-width=\"1\"/><path d=\"M 195 281 219 218\" stroke=\"gray\" stroke-width=\"1\"/><path d=\"M 195 281 182 328\" stroke=\"gray\" stroke-width=\"1\"/><path d=\"M 195 281 113 316\" stroke=\"gray\" stroke-width=\"1\"/><path d=\"M 195 281 305 274\" stroke=\"gray\" stroke-width=\"1\"/><path d=\"M 195 281 97 288\" stroke=\"gray\" stroke-width=\"1\"/><path d=\"M 113 316 211 282\" stroke=\"gray\" stroke-width=\"1\"/><path d=\"M 113 316 195 281\" stroke=\"gray\" stroke-width=\"1\"/><path d=\"M 305 274 371 317\" stroke=\"gray\" stroke-width=\"1\"/><path d=\"M 305 274 327 295\" stroke=\"gray\" stroke-width=\"1\"/><path d=\"M 305 274 211 282\" stroke=\"gray\" stroke-width=\"1\"/><path d=\"M 305 274 195 281\" stroke=\"gray\" stroke-width=\"1\"/><path d=\"M 97 288 211 282\" stroke=\"gray\" stroke-width=\"1\"/><path d=\"M 97 288 195 281\" stroke=\"gray\" stroke-width=\"1\"/><circle cx=\"429\" cy=\"381\" r=\"5.0\" style=\"fill:rgb(99, 131, 234);stroke:black;stroke-width:1.0\"/><circle cx=\"371\" cy=\"317\" r=\"5.0\" style=\"fill:rgb(179, 3, 38);stroke:black;stroke-width:1.0\"/><circle cx=\"720\" cy=\"298\" r=\"5.0\" style=\"fill:rgb(60, 79, 195);stroke:black;stroke-width:1.0\"/><circle cx=\"579\" cy=\"310\" r=\"5.0\" style=\"fill:rgb(76, 102, 214);stroke:black;stroke-width:1.0\"/><circle cx=\"507\" cy=\"298\" r=\"5.0\" style=\"fill:rgb(58, 76, 192);stroke:black;stroke-width:1.0\"/><circle cx=\"392\" cy=\"187\" r=\"5.0\" style=\"fill:rgb(76, 102, 214);stroke:black;stroke-width:1.0\"/><circle cx=\"485\" cy=\"246\" r=\"5.0\" style=\"fill:rgb(105, 139, 239);stroke:black;stroke-width:1.0\"/><circle cx=\"602\" cy=\"252\" r=\"5.0\" style=\"fill:rgb(58, 76, 192);stroke:black;stroke-width:1.0\"/><circle cx=\"385\" cy=\"87\" r=\"5.0\" style=\"fill:rgb(82, 110, 220);stroke:black;stroke-width:1.0\"/><circle cx=\"353\" cy=\"20\" r=\"5.0\" style=\"fill:rgb(64, 84, 199);stroke:black;stroke-width:1.0\"/><circle cx=\"474\" cy=\"165\" r=\"5.0\" style=\"fill:rgb(58, 76, 192);stroke:black;stroke-width:1.0\"/><circle cx=\"463\" cy=\"314\" r=\"5.0\" style=\"fill:rgb(86, 115, 224);stroke:black;stroke-width:1.0\"/><circle cx=\"374\" cy=\"434\" r=\"5.0\" style=\"fill:rgb(88, 118, 226);stroke:black;stroke-width:1.0\"/><circle cx=\"432\" cy=\"407\" r=\"5.0\" style=\"fill:rgb(70, 93, 207);stroke:black;stroke-width:1.0\"/><circle cx=\"338\" cy=\"520\" r=\"5.0\" style=\"fill:rgb(58, 76, 192);stroke:black;stroke-width:1.0\"/><circle cx=\"470\" cy=\"355\" r=\"5.0\" style=\"fill:rgb(70, 93, 207);stroke:black;stroke-width:1.0\"/><circle cx=\"371\" cy=\"465\" r=\"5.0\" style=\"fill:rgb(58, 76, 192);stroke:black;stroke-width:1.0\"/><circle cx=\"425\" cy=\"244\" r=\"5.0\" style=\"fill:rgb(58, 76, 192);stroke:black;stroke-width:1.0\"/><circle cx=\"393\" cy=\"394\" r=\"5.0\" style=\"fill:rgb(58, 76, 192);stroke:black;stroke-width:1.0\"/><circle cx=\"496\" cy=\"269\" r=\"5.0\" style=\"fill:rgb(58, 76, 192);stroke:black;stroke-width:1.0\"/><circle cx=\"183\" cy=\"314\" r=\"5.0\" style=\"fill:rgb(96, 128, 232);stroke:black;stroke-width:1.0\"/><circle cx=\"20\" cy=\"311\" r=\"5.0\" style=\"fill:rgb(58, 76, 192);stroke:black;stroke-width:1.0\"/><circle cx=\"323\" cy=\"377\" r=\"5.0\" style=\"fill:rgb(80, 107, 218);stroke:black;stroke-width:1.0\"/><circle cx=\"200\" cy=\"361\" r=\"5.0\" style=\"fill:rgb(141, 175, 253);stroke:black;stroke-width:1.0\"/><circle cx=\"282\" cy=\"389\" r=\"5.0\" style=\"fill:rgb(80, 107, 218);stroke:black;stroke-width:1.0\"/><circle cx=\"62\" cy=\"393\" r=\"5.0\" style=\"fill:rgb(58, 76, 192);stroke:black;stroke-width:1.0\"/><circle cx=\"103\" cy=\"425\" r=\"5.0\" style=\"fill:rgb(58, 76, 192);stroke:black;stroke-width:1.0\"/><circle cx=\"284\" cy=\"377\" r=\"5.0\" style=\"fill:rgb(58, 76, 192);stroke:black;stroke-width:1.0\"/><circle cx=\"267\" cy=\"249\" r=\"5.0\" style=\"fill:rgb(86, 115, 224);stroke:black;stroke-width:1.0\"/><circle cx=\"181\" cy=\"236\" r=\"5.0\" style=\"fill:rgb(72, 96, 209);stroke:black;stroke-width:1.0\"/><circle cx=\"281\" cy=\"302\" r=\"5.0\" style=\"fill:rgb(70, 93, 207);stroke:black;stroke-width:1.0\"/><circle cx=\"290\" cy=\"261\" r=\"5.0\" style=\"fill:rgb(58, 76, 192);stroke:black;stroke-width:1.0\"/><circle cx=\"513\" cy=\"359\" r=\"5.0\" style=\"fill:rgb(58, 76, 192);stroke:black;stroke-width:1.0\"/><circle cx=\"327\" cy=\"295\" r=\"5.0\" style=\"fill:rgb(76, 102, 214);stroke:black;stroke-width:1.0\"/><circle cx=\"224\" cy=\"341\" r=\"5.0\" style=\"fill:rgb(88, 118, 226);stroke:black;stroke-width:1.0\"/><circle cx=\"211\" cy=\"282\" r=\"5.0\" style=\"fill:rgb(224, 218, 215);stroke:black;stroke-width:1.0\"/><circle cx=\"170\" cy=\"215\" r=\"5.0\" style=\"fill:rgb(64, 84, 199);stroke:black;stroke-width:1.0\"/><circle cx=\"243\" cy=\"313\" r=\"5.0\" style=\"fill:rgb(64, 84, 199);stroke:black;stroke-width:1.0\"/><circle cx=\"100\" cy=\"261\" r=\"5.0\" style=\"fill:rgb(64, 84, 199);stroke:black;stroke-width:1.0\"/><circle cx=\"117\" cy=\"238\" r=\"5.0\" style=\"fill:rgb(64, 84, 199);stroke:black;stroke-width:1.0\"/><circle cx=\"219\" cy=\"218\" r=\"5.0\" style=\"fill:rgb(64, 84, 199);stroke:black;stroke-width:1.0\"/><circle cx=\"182\" cy=\"328\" r=\"5.0\" style=\"fill:rgb(64, 84, 199);stroke:black;stroke-width:1.0\"/><circle cx=\"195\" cy=\"281\" r=\"5.0\" style=\"fill:rgb(214, 219, 228);stroke:black;stroke-width:1.0\"/><circle cx=\"113\" cy=\"316\" r=\"5.0\" style=\"fill:rgb(64, 84, 199);stroke:black;stroke-width:1.0\"/><circle cx=\"305\" cy=\"274\" r=\"5.0\" style=\"fill:rgb(86, 115, 224);stroke:black;stroke-width:1.0\"/><circle cx=\"97\" cy=\"288\" r=\"5.0\" style=\"fill:rgb(64, 84, 199);stroke:black;stroke-width:1.0\"/><text font-size=\"10\" x=\"437\" y=\"386\">Rabbit</text><text font-size=\"10\" x=\"379\" y=\"322\">Alice</text><text font-size=\"10\" x=\"728\" y=\"303\">Ada</text><text font-size=\"10\" x=\"587\" y=\"315\">Mabel</text><text font-size=\"10\" x=\"515\" y=\"303\">William the Conqueror</text><text font-size=\"10\" x=\"400\" y=\"192\">Mouse</text><text font-size=\"10\" x=\"493\" y=\"251\">Lory</text><text font-size=\"10\" x=\"610\" y=\"257\">Eaglet</text><text font-size=\"10\" x=\"393\" y=\"92\">William</text><text font-size=\"10\" x=\"361\" y=\"25\">Edgar Atheling</text><text font-size=\"10\" x=\"482\" y=\"170\">Crab</text><text font-size=\"10\" x=\"471\" y=\"319\">Dinah</text><text font-size=\"10\" x=\"382\" y=\"439\">the White Rabbit</text><text font-size=\"10\" x=\"440\" y=\"412\">Bill</text><text font-size=\"10\" x=\"346\" y=\"525\">The Rabbit Sends</text><text font-size=\"10\" x=\"478\" y=\"360\">Mary Ann</text><text font-size=\"10\" x=\"379\" y=\"470\">Pat</text><text font-size=\"10\" x=\"433\" y=\"249\">Caterpillar</text><text font-size=\"10\" x=\"401\" y=\"399\">Pigeon</text><text font-size=\"10\" x=\"504\" y=\"274\">Fish-Footman</text><text font-size=\"10\" x=\"191\" y=\"319\">Duchess</text><text font-size=\"10\" x=\"28\" y=\"316\">Cheshire</text><text font-size=\"10\" x=\"331\" y=\"382\">Hare</text><text font-size=\"10\" x=\"208\" y=\"366\">Dormouse</text><text font-size=\"10\" x=\"290\" y=\"394\">Hatter</text><text font-size=\"10\" x=\"70\" y=\"398\">Tillie</text><text font-size=\"10\" x=\"111\" y=\"430\">Elsie</text><text font-size=\"10\" x=\"292\" y=\"382\">Lacie</text><text font-size=\"10\" x=\"275\" y=\"254\">Kings</text><text font-size=\"10\" x=\"189\" y=\"241\">Queens</text><text font-size=\"10\" x=\"289\" y=\"307\">Cat</text><text font-size=\"10\" x=\"298\" y=\"266\">Cheshire Cat</text><text font-size=\"10\" x=\"521\" y=\"364\">Lobster Quadrille</text><text font-size=\"10\" x=\"335\" y=\"300\">Gryphon</text><text font-size=\"10\" x=\"232\" y=\"346\">Lizard</text><text font-size=\"10\" x=\"219\" y=\"287\">Queen of Hearts</text><text font-size=\"10\" x=\"178\" y=\"220\">Frog-Footman</text><text font-size=\"10\" x=\"251\" y=\"318\">March Hare</text><text font-size=\"10\" x=\"108\" y=\"266\">Mad Hatter</text><text font-size=\"10\" x=\"125\" y=\"243\">Card Gardener #1</text><text font-size=\"10\" x=\"227\" y=\"223\">Card Gardener #2</text><text font-size=\"10\" x=\"190\" y=\"333\">Card Gardener #3</text><text font-size=\"10\" x=\"203\" y=\"286\">King of Hearts</text><text font-size=\"10\" x=\"121\" y=\"321\">Knave of Hearts</text><text font-size=\"10\" x=\"313\" y=\"279\">Mock Turtle</text><text font-size=\"10\" x=\"105\" y=\"293\">White Rabbit</text></svg>"
      ],
      "text/plain": [
       "<IPython.core.display.SVG object>"
      ]
     },
     "execution_count": 31,
     "metadata": {},
     "output_type": "execute_result"
    }
   ],
   "source": [
    "draw_graph(G, show_names=True, node_size=5, edge_width=1) "
   ]
  },
  {
   "cell_type": "markdown",
   "id": "7c93b157",
   "metadata": {},
   "source": [
    "# renaming nodes"
   ]
  },
  {
   "cell_type": "code",
   "execution_count": 32,
   "id": "78b1808c",
   "metadata": {},
   "outputs": [],
   "source": [
    "relabel_mapping = {'Cheshire':'Cheshire Cat', 'Hatter':'Mad Hatter', 'Rabbit':'White Rabbit',  \n",
    "                   'William':'Father William', 'the White Rabbit':'White Rabbit', 'The Rabbit Sends':'White Rabbit',  \n",
    "                   'Bill':'Lizard Bill', 'Lizard':'Lizard Bill', 'Cat':'Cheshire Cat', 'Hare':'March Hare'} \n",
    "\n",
    "G = nx.relabel_nodes(G, relabel_mapping) "
   ]
  },
  {
   "cell_type": "code",
   "execution_count": 33,
   "id": "8c16c289",
   "metadata": {},
   "outputs": [
    {
     "data": {
      "text/plain": [
       "'Ada, Alice, Card Gardener #1, Card Gardener #2, Card Gardener #3, Caterpillar, Cheshire Cat, Crab, Dinah, Dormouse, Duchess, Eaglet, Edgar Atheling, Elsie, Father William, Fish-Footman, Frog-Footman, Gryphon, King of Hearts, Kings, Knave of Hearts, Lacie, Lizard Bill, Lobster Quadrille, Lory, Mabel, Mad Hatter, March Hare, Mary Ann, Mock Turtle, Mouse, Pat, Pigeon, Queen of Hearts, Queens, Tillie, White Rabbit, William the Conqueror'"
      ]
     },
     "execution_count": 33,
     "metadata": {},
     "output_type": "execute_result"
    }
   ],
   "source": [
    "show_nodes(G) "
   ]
  },
  {
   "cell_type": "code",
   "execution_count": 34,
   "id": "9ed6d63e",
   "metadata": {},
   "outputs": [
    {
     "data": {
      "image/svg+xml": [
       "<svg height=\"540\" width=\"845.0\" xmlns=\"http://www.w3.org/2000/svg\"><path d=\"M 465 376 465 376\" stroke=\"gray\" stroke-width=\"1\"/><path d=\"M 465 376 422 325\" stroke=\"gray\" stroke-width=\"1\"/><path d=\"M 465 376 455 242\" stroke=\"gray\" stroke-width=\"1\"/><path d=\"M 465 376 395 308\" stroke=\"gray\" stroke-width=\"1\"/><path d=\"M 465 376 507 426\" stroke=\"gray\" stroke-width=\"1\"/><path d=\"M 465 376 452 520\" stroke=\"gray\" stroke-width=\"1\"/><path d=\"M 465 376 481 281\" stroke=\"gray\" stroke-width=\"1\"/><path d=\"M 465 376 476 294\" stroke=\"gray\" stroke-width=\"1\"/><path d=\"M 422 325 465 376\" stroke=\"gray\" stroke-width=\"1\"/><path d=\"M 422 325 268 296\" stroke=\"gray\" stroke-width=\"1\"/><path d=\"M 422 325 585 359\" stroke=\"gray\" stroke-width=\"1\"/><path d=\"M 422 325 213 338\" stroke=\"gray\" stroke-width=\"1\"/><path d=\"M 422 325 415 138\" stroke=\"gray\" stroke-width=\"1\"/><path d=\"M 422 325 455 242\" stroke=\"gray\" stroke-width=\"1\"/><path d=\"M 422 325 395 308\" stroke=\"gray\" stroke-width=\"1\"/><path d=\"M 422 325 507 426\" stroke=\"gray\" stroke-width=\"1\"/><path d=\"M 422 325 365 454\" stroke=\"gray\" stroke-width=\"1\"/><path d=\"M 422 325 561 404\" stroke=\"gray\" stroke-width=\"1\"/><path d=\"M 422 325 475 461\" stroke=\"gray\" stroke-width=\"1\"/><path d=\"M 422 325 310 293\" stroke=\"gray\" stroke-width=\"1\"/><path d=\"M 422 325 271 341\" stroke=\"gray\" stroke-width=\"1\"/><path d=\"M 422 325 403 265\" stroke=\"gray\" stroke-width=\"1\"/><path d=\"M 422 325 585 265\" stroke=\"gray\" stroke-width=\"1\"/><path d=\"M 422 325 469 263\" stroke=\"gray\" stroke-width=\"1\"/><path d=\"M 422 325 472 350\" stroke=\"gray\" stroke-width=\"1\"/><path d=\"M 422 325 310 422\" stroke=\"gray\" stroke-width=\"1\"/><path d=\"M 422 325 501 226\" stroke=\"gray\" stroke-width=\"1\"/><path d=\"M 422 325 481 281\" stroke=\"gray\" stroke-width=\"1\"/><path d=\"M 422 325 476 294\" stroke=\"gray\" stroke-width=\"1\"/><path d=\"M 422 325 447 218\" stroke=\"gray\" stroke-width=\"1\"/><path d=\"M 191 227 268 296\" stroke=\"gray\" stroke-width=\"1\"/><path d=\"M 268 296 422 325\" stroke=\"gray\" stroke-width=\"1\"/><path d=\"M 268 296 191 227\" stroke=\"gray\" stroke-width=\"1\"/><path d=\"M 585 359 422 325\" stroke=\"gray\" stroke-width=\"1\"/><path d=\"M 213 338 422 325\" stroke=\"gray\" stroke-width=\"1\"/><path d=\"M 213 338 79 372\" stroke=\"gray\" stroke-width=\"1\"/><path d=\"M 415 138 422 325\" stroke=\"gray\" stroke-width=\"1\"/><path d=\"M 415 138 460 20\" stroke=\"gray\" stroke-width=\"1\"/><path d=\"M 415 138 341 36\" stroke=\"gray\" stroke-width=\"1\"/><path d=\"M 415 138 455 242\" stroke=\"gray\" stroke-width=\"1\"/><path d=\"M 460 20 415 138\" stroke=\"gray\" stroke-width=\"1\"/><path d=\"M 79 372 213 338\" stroke=\"gray\" stroke-width=\"1\"/><path d=\"M 79 372 20 436\" stroke=\"gray\" stroke-width=\"1\"/><path d=\"M 20 436 79 372\" stroke=\"gray\" stroke-width=\"1\"/><path d=\"M 341 36 415 138\" stroke=\"gray\" stroke-width=\"1\"/><path d=\"M 455 242 465 376\" stroke=\"gray\" stroke-width=\"1\"/><path d=\"M 455 242 422 325\" stroke=\"gray\" stroke-width=\"1\"/><path d=\"M 455 242 415 138\" stroke=\"gray\" stroke-width=\"1\"/><path d=\"M 395 308 465 376\" stroke=\"gray\" stroke-width=\"1\"/><path d=\"M 395 308 422 325\" stroke=\"gray\" stroke-width=\"1\"/><path d=\"M 395 308 310 293\" stroke=\"gray\" stroke-width=\"1\"/><path d=\"M 395 308 403 265\" stroke=\"gray\" stroke-width=\"1\"/><path d=\"M 395 308 481 281\" stroke=\"gray\" stroke-width=\"1\"/><path d=\"M 395 308 476 294\" stroke=\"gray\" stroke-width=\"1\"/><path d=\"M 507 426 465 376\" stroke=\"gray\" stroke-width=\"1\"/><path d=\"M 507 426 422 325\" stroke=\"gray\" stroke-width=\"1\"/><path d=\"M 452 520 465 376\" stroke=\"gray\" stroke-width=\"1\"/><path d=\"M 365 454 422 325\" stroke=\"gray\" stroke-width=\"1\"/><path d=\"M 561 404 422 325\" stroke=\"gray\" stroke-width=\"1\"/><path d=\"M 475 461 422 325\" stroke=\"gray\" stroke-width=\"1\"/><path d=\"M 310 293 422 325\" stroke=\"gray\" stroke-width=\"1\"/><path d=\"M 310 293 395 308\" stroke=\"gray\" stroke-width=\"1\"/><path d=\"M 310 293 271 341\" stroke=\"gray\" stroke-width=\"1\"/><path d=\"M 271 341 422 325\" stroke=\"gray\" stroke-width=\"1\"/><path d=\"M 271 341 310 293\" stroke=\"gray\" stroke-width=\"1\"/><path d=\"M 403 265 422 325\" stroke=\"gray\" stroke-width=\"1\"/><path d=\"M 403 265 395 308\" stroke=\"gray\" stroke-width=\"1\"/><path d=\"M 403 265 469 263\" stroke=\"gray\" stroke-width=\"1\"/><path d=\"M 403 265 481 281\" stroke=\"gray\" stroke-width=\"1\"/><path d=\"M 403 265 476 294\" stroke=\"gray\" stroke-width=\"1\"/><path d=\"M 585 265 422 325\" stroke=\"gray\" stroke-width=\"1\"/><path d=\"M 585 265 469 263\" stroke=\"gray\" stroke-width=\"1\"/><path d=\"M 585 265 700 347\" stroke=\"gray\" stroke-width=\"1\"/><path d=\"M 585 265 633 144\" stroke=\"gray\" stroke-width=\"1\"/><path d=\"M 585 265 720 221\" stroke=\"gray\" stroke-width=\"1\"/><path d=\"M 585 265 481 281\" stroke=\"gray\" stroke-width=\"1\"/><path d=\"M 585 265 476 294\" stroke=\"gray\" stroke-width=\"1\"/><path d=\"M 469 263 422 325\" stroke=\"gray\" stroke-width=\"1\"/><path d=\"M 469 263 403 265\" stroke=\"gray\" stroke-width=\"1\"/><path d=\"M 469 263 585 265\" stroke=\"gray\" stroke-width=\"1\"/><path d=\"M 469 263 481 281\" stroke=\"gray\" stroke-width=\"1\"/><path d=\"M 469 263 476 294\" stroke=\"gray\" stroke-width=\"1\"/><path d=\"M 700 347 585 265\" stroke=\"gray\" stroke-width=\"1\"/><path d=\"M 633 144 585 265\" stroke=\"gray\" stroke-width=\"1\"/><path d=\"M 720 221 585 265\" stroke=\"gray\" stroke-width=\"1\"/><path d=\"M 472 350 422 325\" stroke=\"gray\" stroke-width=\"1\"/><path d=\"M 472 350 428 373\" stroke=\"gray\" stroke-width=\"1\"/><path d=\"M 472 350 481 281\" stroke=\"gray\" stroke-width=\"1\"/><path d=\"M 472 350 476 294\" stroke=\"gray\" stroke-width=\"1\"/><path d=\"M 428 373 472 350\" stroke=\"gray\" stroke-width=\"1\"/><path d=\"M 428 373 481 281\" stroke=\"gray\" stroke-width=\"1\"/><path d=\"M 428 373 476 294\" stroke=\"gray\" stroke-width=\"1\"/><path d=\"M 310 422 422 325\" stroke=\"gray\" stroke-width=\"1\"/><path d=\"M 501 226 422 325\" stroke=\"gray\" stroke-width=\"1\"/><path d=\"M 501 226 481 281\" stroke=\"gray\" stroke-width=\"1\"/><path d=\"M 501 226 447 218\" stroke=\"gray\" stroke-width=\"1\"/><path d=\"M 481 281 465 376\" stroke=\"gray\" stroke-width=\"1\"/><path d=\"M 481 281 422 325\" stroke=\"gray\" stroke-width=\"1\"/><path d=\"M 481 281 395 308\" stroke=\"gray\" stroke-width=\"1\"/><path d=\"M 481 281 403 265\" stroke=\"gray\" stroke-width=\"1\"/><path d=\"M 481 281 585 265\" stroke=\"gray\" stroke-width=\"1\"/><path d=\"M 481 281 469 263\" stroke=\"gray\" stroke-width=\"1\"/><path d=\"M 481 281 472 350\" stroke=\"gray\" stroke-width=\"1\"/><path d=\"M 481 281 428 373\" stroke=\"gray\" stroke-width=\"1\"/><path d=\"M 481 281 501 226\" stroke=\"gray\" stroke-width=\"1\"/><path d=\"M 481 281 528 192\" stroke=\"gray\" stroke-width=\"1\"/><path d=\"M 481 281 391 214\" stroke=\"gray\" stroke-width=\"1\"/><path d=\"M 481 281 578 308\" stroke=\"gray\" stroke-width=\"1\"/><path d=\"M 481 281 374 331\" stroke=\"gray\" stroke-width=\"1\"/><path d=\"M 481 281 476 294\" stroke=\"gray\" stroke-width=\"1\"/><path d=\"M 481 281 574 231\" stroke=\"gray\" stroke-width=\"1\"/><path d=\"M 481 281 447 218\" stroke=\"gray\" stroke-width=\"1\"/><path d=\"M 528 192 481 281\" stroke=\"gray\" stroke-width=\"1\"/><path d=\"M 528 192 476 294\" stroke=\"gray\" stroke-width=\"1\"/><path d=\"M 391 214 481 281\" stroke=\"gray\" stroke-width=\"1\"/><path d=\"M 391 214 476 294\" stroke=\"gray\" stroke-width=\"1\"/><path d=\"M 578 308 481 281\" stroke=\"gray\" stroke-width=\"1\"/><path d=\"M 578 308 476 294\" stroke=\"gray\" stroke-width=\"1\"/><path d=\"M 374 331 481 281\" stroke=\"gray\" stroke-width=\"1\"/><path d=\"M 374 331 476 294\" stroke=\"gray\" stroke-width=\"1\"/><path d=\"M 476 294 465 376\" stroke=\"gray\" stroke-width=\"1\"/><path d=\"M 476 294 422 325\" stroke=\"gray\" stroke-width=\"1\"/><path d=\"M 476 294 395 308\" stroke=\"gray\" stroke-width=\"1\"/><path d=\"M 476 294 403 265\" stroke=\"gray\" stroke-width=\"1\"/><path d=\"M 476 294 585 265\" stroke=\"gray\" stroke-width=\"1\"/><path d=\"M 476 294 469 263\" stroke=\"gray\" stroke-width=\"1\"/><path d=\"M 476 294 472 350\" stroke=\"gray\" stroke-width=\"1\"/><path d=\"M 476 294 428 373\" stroke=\"gray\" stroke-width=\"1\"/><path d=\"M 476 294 481 281\" stroke=\"gray\" stroke-width=\"1\"/><path d=\"M 476 294 528 192\" stroke=\"gray\" stroke-width=\"1\"/><path d=\"M 476 294 391 214\" stroke=\"gray\" stroke-width=\"1\"/><path d=\"M 476 294 578 308\" stroke=\"gray\" stroke-width=\"1\"/><path d=\"M 476 294 374 331\" stroke=\"gray\" stroke-width=\"1\"/><path d=\"M 476 294 574 231\" stroke=\"gray\" stroke-width=\"1\"/><path d=\"M 476 294 447 218\" stroke=\"gray\" stroke-width=\"1\"/><path d=\"M 574 231 481 281\" stroke=\"gray\" stroke-width=\"1\"/><path d=\"M 574 231 476 294\" stroke=\"gray\" stroke-width=\"1\"/><path d=\"M 447 218 422 325\" stroke=\"gray\" stroke-width=\"1\"/><path d=\"M 447 218 501 226\" stroke=\"gray\" stroke-width=\"1\"/><path d=\"M 447 218 481 281\" stroke=\"gray\" stroke-width=\"1\"/><path d=\"M 447 218 476 294\" stroke=\"gray\" stroke-width=\"1\"/><circle cx=\"465\" cy=\"376\" r=\"5.0\" style=\"fill:rgb(155, 187, 254);stroke:black;stroke-width:1.0\"/><circle cx=\"422\" cy=\"325\" r=\"5.0\" style=\"fill:rgb(179, 3, 38);stroke:black;stroke-width:1.0\"/><circle cx=\"191\" cy=\"227\" r=\"5.0\" style=\"fill:rgb(64, 84, 199);stroke:black;stroke-width:1.0\"/><circle cx=\"268\" cy=\"296\" r=\"5.0\" style=\"fill:rgb(82, 110, 220);stroke:black;stroke-width:1.0\"/><circle cx=\"585\" cy=\"359\" r=\"5.0\" style=\"fill:rgb(58, 76, 192);stroke:black;stroke-width:1.0\"/><circle cx=\"213\" cy=\"338\" r=\"5.0\" style=\"fill:rgb(82, 110, 220);stroke:black;stroke-width:1.0\"/><circle cx=\"415\" cy=\"138\" r=\"5.0\" style=\"fill:rgb(116, 151, 245);stroke:black;stroke-width:1.0\"/><circle cx=\"460\" cy=\"20\" r=\"5.0\" style=\"fill:rgb(60, 79, 195);stroke:black;stroke-width:1.0\"/><circle cx=\"79\" cy=\"372\" r=\"5.0\" style=\"fill:rgb(88, 118, 226);stroke:black;stroke-width:1.0\"/><circle cx=\"20\" cy=\"436\" r=\"5.0\" style=\"fill:rgb(70, 93, 207);stroke:black;stroke-width:1.0\"/><circle cx=\"341\" cy=\"36\" r=\"5.0\" style=\"fill:rgb(60, 79, 195);stroke:black;stroke-width:1.0\"/><circle cx=\"455\" cy=\"242\" r=\"5.0\" style=\"fill:rgb(86, 115, 224);stroke:black;stroke-width:1.0\"/><circle cx=\"395\" cy=\"308\" r=\"5.0\" style=\"fill:rgb(120, 155, 247);stroke:black;stroke-width:1.0\"/><circle cx=\"507\" cy=\"426\" r=\"5.0\" style=\"fill:rgb(70, 93, 207);stroke:black;stroke-width:1.0\"/><circle cx=\"452\" cy=\"520\" r=\"5.0\" style=\"fill:rgb(58, 76, 192);stroke:black;stroke-width:1.0\"/><circle cx=\"365\" cy=\"454\" r=\"5.0\" style=\"fill:rgb(58, 76, 192);stroke:black;stroke-width:1.0\"/><circle cx=\"561\" cy=\"404\" r=\"5.0\" style=\"fill:rgb(58, 76, 192);stroke:black;stroke-width:1.0\"/><circle cx=\"475\" cy=\"461\" r=\"5.0\" style=\"fill:rgb(58, 76, 192);stroke:black;stroke-width:1.0\"/><circle cx=\"310\" cy=\"293\" r=\"5.0\" style=\"fill:rgb(82, 110, 220);stroke:black;stroke-width:1.0\"/><circle cx=\"271\" cy=\"341\" r=\"5.0\" style=\"fill:rgb(70, 93, 207);stroke:black;stroke-width:1.0\"/><circle cx=\"403\" cy=\"265\" r=\"5.0\" style=\"fill:rgb(103, 136, 237);stroke:black;stroke-width:1.0\"/><circle cx=\"585\" cy=\"265\" r=\"5.0\" style=\"fill:rgb(155, 187, 254);stroke:black;stroke-width:1.0\"/><circle cx=\"469\" cy=\"263\" r=\"5.0\" style=\"fill:rgb(105, 139, 239);stroke:black;stroke-width:1.0\"/><circle cx=\"700\" cy=\"347\" r=\"5.0\" style=\"fill:rgb(58, 76, 192);stroke:black;stroke-width:1.0\"/><circle cx=\"633\" cy=\"144\" r=\"5.0\" style=\"fill:rgb(58, 76, 192);stroke:black;stroke-width:1.0\"/><circle cx=\"720\" cy=\"221\" r=\"5.0\" style=\"fill:rgb(58, 76, 192);stroke:black;stroke-width:1.0\"/><circle cx=\"472\" cy=\"350\" r=\"5.0\" style=\"fill:rgb(92, 123, 229);stroke:black;stroke-width:1.0\"/><circle cx=\"428\" cy=\"373\" r=\"5.0\" style=\"fill:rgb(76, 102, 214);stroke:black;stroke-width:1.0\"/><circle cx=\"310\" cy=\"422\" r=\"5.0\" style=\"fill:rgb(58, 76, 192);stroke:black;stroke-width:1.0\"/><circle cx=\"501\" cy=\"226\" r=\"5.0\" style=\"fill:rgb(80, 107, 218);stroke:black;stroke-width:1.0\"/><circle cx=\"481\" cy=\"281\" r=\"5.0\" style=\"fill:rgb(239, 206, 188);stroke:black;stroke-width:1.0\"/><circle cx=\"528\" cy=\"192\" r=\"5.0\" style=\"fill:rgb(66, 88, 202);stroke:black;stroke-width:1.0\"/><circle cx=\"391\" cy=\"214\" r=\"5.0\" style=\"fill:rgb(66, 88, 202);stroke:black;stroke-width:1.0\"/><circle cx=\"578\" cy=\"308\" r=\"5.0\" style=\"fill:rgb(66, 88, 202);stroke:black;stroke-width:1.0\"/><circle cx=\"374\" cy=\"331\" r=\"5.0\" style=\"fill:rgb(66, 88, 202);stroke:black;stroke-width:1.0\"/><circle cx=\"476\" cy=\"294\" r=\"5.0\" style=\"fill:rgb(231, 214, 204);stroke:black;stroke-width:1.0\"/><circle cx=\"574\" cy=\"231\" r=\"5.0\" style=\"fill:rgb(66, 88, 202);stroke:black;stroke-width:1.0\"/><circle cx=\"447\" cy=\"218\" r=\"5.0\" style=\"fill:rgb(92, 123, 229);stroke:black;stroke-width:1.0\"/><text font-size=\"10\" x=\"473\" y=\"381\">White Rabbit</text><text font-size=\"10\" x=\"430\" y=\"330\">Alice</text><text font-size=\"10\" x=\"199\" y=\"232\">Ada</text><text font-size=\"10\" x=\"276\" y=\"301\">Mabel</text><text font-size=\"10\" x=\"593\" y=\"364\">William the Conqueror</text><text font-size=\"10\" x=\"221\" y=\"343\">Mouse</text><text font-size=\"10\" x=\"423\" y=\"143\">Lory</text><text font-size=\"10\" x=\"468\" y=\"25\">Eaglet</text><text font-size=\"10\" x=\"87\" y=\"377\">Father William</text><text font-size=\"10\" x=\"28\" y=\"441\">Edgar Atheling</text><text font-size=\"10\" x=\"349\" y=\"41\">Crab</text><text font-size=\"10\" x=\"463\" y=\"247\">Dinah</text><text font-size=\"10\" x=\"403\" y=\"313\">Lizard Bill</text><text font-size=\"10\" x=\"515\" y=\"431\">Mary Ann</text><text font-size=\"10\" x=\"460\" y=\"525\">Pat</text><text font-size=\"10\" x=\"373\" y=\"459\">Caterpillar</text><text font-size=\"10\" x=\"569\" y=\"409\">Pigeon</text><text font-size=\"10\" x=\"483\" y=\"466\">Fish-Footman</text><text font-size=\"10\" x=\"318\" y=\"298\">Duchess</text><text font-size=\"10\" x=\"279\" y=\"346\">Cheshire Cat</text><text font-size=\"10\" x=\"411\" y=\"270\">March Hare</text><text font-size=\"10\" x=\"593\" y=\"270\">Dormouse</text><text font-size=\"10\" x=\"477\" y=\"268\">Mad Hatter</text><text font-size=\"10\" x=\"708\" y=\"352\">Tillie</text><text font-size=\"10\" x=\"641\" y=\"149\">Elsie</text><text font-size=\"10\" x=\"728\" y=\"226\">Lacie</text><text font-size=\"10\" x=\"480\" y=\"355\">Kings</text><text font-size=\"10\" x=\"436\" y=\"378\">Queens</text><text font-size=\"10\" x=\"318\" y=\"427\">Lobster Quadrille</text><text font-size=\"10\" x=\"509\" y=\"231\">Gryphon</text><text font-size=\"10\" x=\"489\" y=\"286\">Queen of Hearts</text><text font-size=\"10\" x=\"536\" y=\"197\">Frog-Footman</text><text font-size=\"10\" x=\"399\" y=\"219\">Card Gardener #1</text><text font-size=\"10\" x=\"586\" y=\"313\">Card Gardener #2</text><text font-size=\"10\" x=\"382\" y=\"336\">Card Gardener #3</text><text font-size=\"10\" x=\"484\" y=\"299\">King of Hearts</text><text font-size=\"10\" x=\"582\" y=\"236\">Knave of Hearts</text><text font-size=\"10\" x=\"455\" y=\"223\">Mock Turtle</text></svg>"
      ],
      "text/plain": [
       "<IPython.core.display.SVG object>"
      ]
     },
     "execution_count": 34,
     "metadata": {},
     "output_type": "execute_result"
    }
   ],
   "source": [
    "draw_graph(G, show_names=True, node_size=5, edge_width=1) "
   ]
  },
  {
   "cell_type": "markdown",
   "id": "184fc37d",
   "metadata": {},
   "source": [
    "# removing edges"
   ]
  },
  {
   "cell_type": "code",
   "execution_count": 35,
   "id": "17c0332d",
   "metadata": {},
   "outputs": [],
   "source": [
    "G.remove_edge('Dormouse', 'Tillie') "
   ]
  },
  {
   "cell_type": "code",
   "execution_count": 36,
   "id": "7294aff5",
   "metadata": {},
   "outputs": [],
   "source": [
    "drop_edges = [('Dormouse', 'Tillie'), ('Dormouse', 'Elsie'), ('Dormouse', 'Lacie')] \n",
    "\n",
    "G.remove_edges_from(drop_edges) "
   ]
  },
  {
   "cell_type": "code",
   "execution_count": 37,
   "id": "c8e1a87c",
   "metadata": {},
   "outputs": [
    {
     "data": {
      "image/svg+xml": [
       "<svg height=\"540\" width=\"845.0\" xmlns=\"http://www.w3.org/2000/svg\"><path d=\"M 371 215 371 215\" stroke=\"gray\" stroke-width=\"1\"/><path d=\"M 371 215 395 211\" stroke=\"gray\" stroke-width=\"1\"/><path d=\"M 371 215 376 162\" stroke=\"gray\" stroke-width=\"1\"/><path d=\"M 371 215 362 245\" stroke=\"gray\" stroke-width=\"1\"/><path d=\"M 371 215 423 251\" stroke=\"gray\" stroke-width=\"1\"/><path d=\"M 371 215 465 177\" stroke=\"gray\" stroke-width=\"1\"/><path d=\"M 371 215 288 245\" stroke=\"gray\" stroke-width=\"1\"/><path d=\"M 371 215 287 253\" stroke=\"gray\" stroke-width=\"1\"/><path d=\"M 395 211 371 215\" stroke=\"gray\" stroke-width=\"1\"/><path d=\"M 395 211 530 180\" stroke=\"gray\" stroke-width=\"1\"/><path d=\"M 395 211 328 158\" stroke=\"gray\" stroke-width=\"1\"/><path d=\"M 395 211 535 252\" stroke=\"gray\" stroke-width=\"1\"/><path d=\"M 395 211 372 116\" stroke=\"gray\" stroke-width=\"1\"/><path d=\"M 395 211 376 162\" stroke=\"gray\" stroke-width=\"1\"/><path d=\"M 395 211 362 245\" stroke=\"gray\" stroke-width=\"1\"/><path d=\"M 395 211 423 251\" stroke=\"gray\" stroke-width=\"1\"/><path d=\"M 395 211 493 212\" stroke=\"gray\" stroke-width=\"1\"/><path d=\"M 395 211 414 148\" stroke=\"gray\" stroke-width=\"1\"/><path d=\"M 395 211 445 162\" stroke=\"gray\" stroke-width=\"1\"/><path d=\"M 395 211 437 238\" stroke=\"gray\" stroke-width=\"1\"/><path d=\"M 395 211 477 246\" stroke=\"gray\" stroke-width=\"1\"/><path d=\"M 395 211 330 245\" stroke=\"gray\" stroke-width=\"1\"/><path d=\"M 395 211 285 209\" stroke=\"gray\" stroke-width=\"1\"/><path d=\"M 395 211 298 225\" stroke=\"gray\" stroke-width=\"1\"/><path d=\"M 395 211 336 270\" stroke=\"gray\" stroke-width=\"1\"/><path d=\"M 395 211 434 281\" stroke=\"gray\" stroke-width=\"1\"/><path d=\"M 395 211 326 197\" stroke=\"gray\" stroke-width=\"1\"/><path d=\"M 395 211 288 245\" stroke=\"gray\" stroke-width=\"1\"/><path d=\"M 395 211 287 253\" stroke=\"gray\" stroke-width=\"1\"/><path d=\"M 395 211 319 217\" stroke=\"gray\" stroke-width=\"1\"/><path d=\"M 622 158 530 180\" stroke=\"gray\" stroke-width=\"1\"/><path d=\"M 530 180 395 211\" stroke=\"gray\" stroke-width=\"1\"/><path d=\"M 530 180 622 158\" stroke=\"gray\" stroke-width=\"1\"/><path d=\"M 328 158 395 211\" stroke=\"gray\" stroke-width=\"1\"/><path d=\"M 535 252 395 211\" stroke=\"gray\" stroke-width=\"1\"/><path d=\"M 535 252 642 277\" stroke=\"gray\" stroke-width=\"1\"/><path d=\"M 372 116 395 211\" stroke=\"gray\" stroke-width=\"1\"/><path d=\"M 372 116 386 56\" stroke=\"gray\" stroke-width=\"1\"/><path d=\"M 372 116 335 58\" stroke=\"gray\" stroke-width=\"1\"/><path d=\"M 372 116 376 162\" stroke=\"gray\" stroke-width=\"1\"/><path d=\"M 386 56 372 116\" stroke=\"gray\" stroke-width=\"1\"/><path d=\"M 642 277 535 252\" stroke=\"gray\" stroke-width=\"1\"/><path d=\"M 642 277 720 286\" stroke=\"gray\" stroke-width=\"1\"/><path d=\"M 720 286 642 277\" stroke=\"gray\" stroke-width=\"1\"/><path d=\"M 335 58 372 116\" stroke=\"gray\" stroke-width=\"1\"/><path d=\"M 376 162 371 215\" stroke=\"gray\" stroke-width=\"1\"/><path d=\"M 376 162 395 211\" stroke=\"gray\" stroke-width=\"1\"/><path d=\"M 376 162 372 116\" stroke=\"gray\" stroke-width=\"1\"/><path d=\"M 362 245 371 215\" stroke=\"gray\" stroke-width=\"1\"/><path d=\"M 362 245 395 211\" stroke=\"gray\" stroke-width=\"1\"/><path d=\"M 362 245 437 238\" stroke=\"gray\" stroke-width=\"1\"/><path d=\"M 362 245 330 245\" stroke=\"gray\" stroke-width=\"1\"/><path d=\"M 362 245 288 245\" stroke=\"gray\" stroke-width=\"1\"/><path d=\"M 362 245 287 253\" stroke=\"gray\" stroke-width=\"1\"/><path d=\"M 423 251 371 215\" stroke=\"gray\" stroke-width=\"1\"/><path d=\"M 423 251 395 211\" stroke=\"gray\" stroke-width=\"1\"/><path d=\"M 465 177 371 215\" stroke=\"gray\" stroke-width=\"1\"/><path d=\"M 493 212 395 211\" stroke=\"gray\" stroke-width=\"1\"/><path d=\"M 414 148 395 211\" stroke=\"gray\" stroke-width=\"1\"/><path d=\"M 445 162 395 211\" stroke=\"gray\" stroke-width=\"1\"/><path d=\"M 437 238 395 211\" stroke=\"gray\" stroke-width=\"1\"/><path d=\"M 437 238 362 245\" stroke=\"gray\" stroke-width=\"1\"/><path d=\"M 437 238 477 246\" stroke=\"gray\" stroke-width=\"1\"/><path d=\"M 477 246 395 211\" stroke=\"gray\" stroke-width=\"1\"/><path d=\"M 477 246 437 238\" stroke=\"gray\" stroke-width=\"1\"/><path d=\"M 330 245 395 211\" stroke=\"gray\" stroke-width=\"1\"/><path d=\"M 330 245 362 245\" stroke=\"gray\" stroke-width=\"1\"/><path d=\"M 330 245 298 225\" stroke=\"gray\" stroke-width=\"1\"/><path d=\"M 330 245 288 245\" stroke=\"gray\" stroke-width=\"1\"/><path d=\"M 330 245 287 253\" stroke=\"gray\" stroke-width=\"1\"/><path d=\"M 285 209 395 211\" stroke=\"gray\" stroke-width=\"1\"/><path d=\"M 285 209 298 225\" stroke=\"gray\" stroke-width=\"1\"/><path d=\"M 285 209 288 245\" stroke=\"gray\" stroke-width=\"1\"/><path d=\"M 285 209 287 253\" stroke=\"gray\" stroke-width=\"1\"/><path d=\"M 298 225 395 211\" stroke=\"gray\" stroke-width=\"1\"/><path d=\"M 298 225 330 245\" stroke=\"gray\" stroke-width=\"1\"/><path d=\"M 298 225 285 209\" stroke=\"gray\" stroke-width=\"1\"/><path d=\"M 298 225 288 245\" stroke=\"gray\" stroke-width=\"1\"/><path d=\"M 298 225 287 253\" stroke=\"gray\" stroke-width=\"1\"/><path d=\"M 336 270 395 211\" stroke=\"gray\" stroke-width=\"1\"/><path d=\"M 336 270 297 294\" stroke=\"gray\" stroke-width=\"1\"/><path d=\"M 336 270 288 245\" stroke=\"gray\" stroke-width=\"1\"/><path d=\"M 336 270 287 253\" stroke=\"gray\" stroke-width=\"1\"/><path d=\"M 297 294 336 270\" stroke=\"gray\" stroke-width=\"1\"/><path d=\"M 297 294 288 245\" stroke=\"gray\" stroke-width=\"1\"/><path d=\"M 297 294 287 253\" stroke=\"gray\" stroke-width=\"1\"/><path d=\"M 434 281 395 211\" stroke=\"gray\" stroke-width=\"1\"/><path d=\"M 326 197 395 211\" stroke=\"gray\" stroke-width=\"1\"/><path d=\"M 326 197 288 245\" stroke=\"gray\" stroke-width=\"1\"/><path d=\"M 326 197 319 217\" stroke=\"gray\" stroke-width=\"1\"/><path d=\"M 288 245 371 215\" stroke=\"gray\" stroke-width=\"1\"/><path d=\"M 288 245 395 211\" stroke=\"gray\" stroke-width=\"1\"/><path d=\"M 288 245 362 245\" stroke=\"gray\" stroke-width=\"1\"/><path d=\"M 288 245 330 245\" stroke=\"gray\" stroke-width=\"1\"/><path d=\"M 288 245 285 209\" stroke=\"gray\" stroke-width=\"1\"/><path d=\"M 288 245 298 225\" stroke=\"gray\" stroke-width=\"1\"/><path d=\"M 288 245 336 270\" stroke=\"gray\" stroke-width=\"1\"/><path d=\"M 288 245 297 294\" stroke=\"gray\" stroke-width=\"1\"/><path d=\"M 288 245 326 197\" stroke=\"gray\" stroke-width=\"1\"/><path d=\"M 288 245 257 297\" stroke=\"gray\" stroke-width=\"1\"/><path d=\"M 288 245 229 286\" stroke=\"gray\" stroke-width=\"1\"/><path d=\"M 288 245 210 269\" stroke=\"gray\" stroke-width=\"1\"/><path d=\"M 288 245 203 250\" stroke=\"gray\" stroke-width=\"1\"/><path d=\"M 288 245 287 253\" stroke=\"gray\" stroke-width=\"1\"/><path d=\"M 288 245 211 229\" stroke=\"gray\" stroke-width=\"1\"/><path d=\"M 288 245 319 217\" stroke=\"gray\" stroke-width=\"1\"/><path d=\"M 257 297 288 245\" stroke=\"gray\" stroke-width=\"1\"/><path d=\"M 257 297 287 253\" stroke=\"gray\" stroke-width=\"1\"/><path d=\"M 229 286 288 245\" stroke=\"gray\" stroke-width=\"1\"/><path d=\"M 229 286 287 253\" stroke=\"gray\" stroke-width=\"1\"/><path d=\"M 210 269 288 245\" stroke=\"gray\" stroke-width=\"1\"/><path d=\"M 210 269 287 253\" stroke=\"gray\" stroke-width=\"1\"/><path d=\"M 203 250 288 245\" stroke=\"gray\" stroke-width=\"1\"/><path d=\"M 203 250 287 253\" stroke=\"gray\" stroke-width=\"1\"/><path d=\"M 287 253 371 215\" stroke=\"gray\" stroke-width=\"1\"/><path d=\"M 287 253 395 211\" stroke=\"gray\" stroke-width=\"1\"/><path d=\"M 287 253 362 245\" stroke=\"gray\" stroke-width=\"1\"/><path d=\"M 287 253 330 245\" stroke=\"gray\" stroke-width=\"1\"/><path d=\"M 287 253 285 209\" stroke=\"gray\" stroke-width=\"1\"/><path d=\"M 287 253 298 225\" stroke=\"gray\" stroke-width=\"1\"/><path d=\"M 287 253 336 270\" stroke=\"gray\" stroke-width=\"1\"/><path d=\"M 287 253 297 294\" stroke=\"gray\" stroke-width=\"1\"/><path d=\"M 287 253 288 245\" stroke=\"gray\" stroke-width=\"1\"/><path d=\"M 287 253 257 297\" stroke=\"gray\" stroke-width=\"1\"/><path d=\"M 287 253 229 286\" stroke=\"gray\" stroke-width=\"1\"/><path d=\"M 287 253 210 269\" stroke=\"gray\" stroke-width=\"1\"/><path d=\"M 287 253 203 250\" stroke=\"gray\" stroke-width=\"1\"/><path d=\"M 287 253 211 229\" stroke=\"gray\" stroke-width=\"1\"/><path d=\"M 287 253 319 217\" stroke=\"gray\" stroke-width=\"1\"/><path d=\"M 211 229 288 245\" stroke=\"gray\" stroke-width=\"1\"/><path d=\"M 211 229 287 253\" stroke=\"gray\" stroke-width=\"1\"/><path d=\"M 319 217 395 211\" stroke=\"gray\" stroke-width=\"1\"/><path d=\"M 319 217 326 197\" stroke=\"gray\" stroke-width=\"1\"/><path d=\"M 319 217 288 245\" stroke=\"gray\" stroke-width=\"1\"/><path d=\"M 319 217 287 253\" stroke=\"gray\" stroke-width=\"1\"/><circle cx=\"371\" cy=\"215\" r=\"5.0\" style=\"fill:rgb(155, 187, 254);stroke:black;stroke-width:1.0\"/><circle cx=\"395\" cy=\"211\" r=\"5.0\" style=\"fill:rgb(179, 3, 38);stroke:black;stroke-width:1.0\"/><circle cx=\"622\" cy=\"158\" r=\"5.0\" style=\"fill:rgb(64, 84, 199);stroke:black;stroke-width:1.0\"/><circle cx=\"530\" cy=\"180\" r=\"5.0\" style=\"fill:rgb(82, 110, 220);stroke:black;stroke-width:1.0\"/><circle cx=\"328\" cy=\"158\" r=\"5.0\" style=\"fill:rgb(58, 76, 192);stroke:black;stroke-width:1.0\"/><circle cx=\"535\" cy=\"252\" r=\"5.0\" style=\"fill:rgb(82, 110, 220);stroke:black;stroke-width:1.0\"/><circle cx=\"372\" cy=\"116\" r=\"5.0\" style=\"fill:rgb(120, 155, 247);stroke:black;stroke-width:1.0\"/><circle cx=\"386\" cy=\"56\" r=\"5.0\" style=\"fill:rgb(60, 79, 195);stroke:black;stroke-width:1.0\"/><circle cx=\"642\" cy=\"277\" r=\"5.0\" style=\"fill:rgb(92, 123, 229);stroke:black;stroke-width:1.0\"/><circle cx=\"720\" cy=\"286\" r=\"5.0\" style=\"fill:rgb(70, 93, 207);stroke:black;stroke-width:1.0\"/><circle cx=\"335\" cy=\"58\" r=\"5.0\" style=\"fill:rgb(60, 79, 195);stroke:black;stroke-width:1.0\"/><circle cx=\"376\" cy=\"162\" r=\"5.0\" style=\"fill:rgb(86, 115, 224);stroke:black;stroke-width:1.0\"/><circle cx=\"362\" cy=\"245\" r=\"5.0\" style=\"fill:rgb(120, 155, 247);stroke:black;stroke-width:1.0\"/><circle cx=\"423\" cy=\"251\" r=\"5.0\" style=\"fill:rgb(70, 93, 207);stroke:black;stroke-width:1.0\"/><circle cx=\"465\" cy=\"177\" r=\"5.0\" style=\"fill:rgb(58, 76, 192);stroke:black;stroke-width:1.0\"/><circle cx=\"493\" cy=\"212\" r=\"5.0\" style=\"fill:rgb(58, 76, 192);stroke:black;stroke-width:1.0\"/><circle cx=\"414\" cy=\"148\" r=\"5.0\" style=\"fill:rgb(58, 76, 192);stroke:black;stroke-width:1.0\"/><circle cx=\"445\" cy=\"162\" r=\"5.0\" style=\"fill:rgb(58, 76, 192);stroke:black;stroke-width:1.0\"/><circle cx=\"437\" cy=\"238\" r=\"5.0\" style=\"fill:rgb(82, 110, 220);stroke:black;stroke-width:1.0\"/><circle cx=\"477\" cy=\"246\" r=\"5.0\" style=\"fill:rgb(70, 93, 207);stroke:black;stroke-width:1.0\"/><circle cx=\"330\" cy=\"245\" r=\"5.0\" style=\"fill:rgb(103, 136, 237);stroke:black;stroke-width:1.0\"/><circle cx=\"285\" cy=\"209\" r=\"5.0\" style=\"fill:rgb(88, 118, 226);stroke:black;stroke-width:1.0\"/><circle cx=\"298\" cy=\"225\" r=\"5.0\" style=\"fill:rgb(103, 136, 237);stroke:black;stroke-width:1.0\"/><circle cx=\"20\" cy=\"20\" r=\"5.0\" style=\"fill:rgb(96, 128, 232);stroke:black;stroke-width:1.0\"/><circle cx=\"619\" cy=\"511\" r=\"5.0\" style=\"fill:rgb(96, 128, 232);stroke:black;stroke-width:1.0\"/><circle cx=\"84\" cy=\"520\" r=\"5.0\" style=\"fill:rgb(96, 128, 232);stroke:black;stroke-width:1.0\"/><circle cx=\"336\" cy=\"270\" r=\"5.0\" style=\"fill:rgb(92, 123, 229);stroke:black;stroke-width:1.0\"/><circle cx=\"297\" cy=\"294\" r=\"5.0\" style=\"fill:rgb(76, 102, 214);stroke:black;stroke-width:1.0\"/><circle cx=\"434\" cy=\"281\" r=\"5.0\" style=\"fill:rgb(58, 76, 192);stroke:black;stroke-width:1.0\"/><circle cx=\"326\" cy=\"197\" r=\"5.0\" style=\"fill:rgb(80, 107, 218);stroke:black;stroke-width:1.0\"/><circle cx=\"288\" cy=\"245\" r=\"5.0\" style=\"fill:rgb(239, 206, 188);stroke:black;stroke-width:1.0\"/><circle cx=\"257\" cy=\"297\" r=\"5.0\" style=\"fill:rgb(66, 88, 202);stroke:black;stroke-width:1.0\"/><circle cx=\"229\" cy=\"286\" r=\"5.0\" style=\"fill:rgb(66, 88, 202);stroke:black;stroke-width:1.0\"/><circle cx=\"210\" cy=\"269\" r=\"5.0\" style=\"fill:rgb(66, 88, 202);stroke:black;stroke-width:1.0\"/><circle cx=\"203\" cy=\"250\" r=\"5.0\" style=\"fill:rgb(66, 88, 202);stroke:black;stroke-width:1.0\"/><circle cx=\"287\" cy=\"253\" r=\"5.0\" style=\"fill:rgb(231, 214, 204);stroke:black;stroke-width:1.0\"/><circle cx=\"211\" cy=\"229\" r=\"5.0\" style=\"fill:rgb(66, 88, 202);stroke:black;stroke-width:1.0\"/><circle cx=\"319\" cy=\"217\" r=\"5.0\" style=\"fill:rgb(92, 123, 229);stroke:black;stroke-width:1.0\"/><text font-size=\"10\" x=\"379\" y=\"220\">White Rabbit</text><text font-size=\"10\" x=\"403\" y=\"216\">Alice</text><text font-size=\"10\" x=\"630\" y=\"163\">Ada</text><text font-size=\"10\" x=\"538\" y=\"185\">Mabel</text><text font-size=\"10\" x=\"336\" y=\"163\">William the Conqueror</text><text font-size=\"10\" x=\"543\" y=\"257\">Mouse</text><text font-size=\"10\" x=\"380\" y=\"121\">Lory</text><text font-size=\"10\" x=\"394\" y=\"61\">Eaglet</text><text font-size=\"10\" x=\"650\" y=\"282\">Father William</text><text font-size=\"10\" x=\"728\" y=\"291\">Edgar Atheling</text><text font-size=\"10\" x=\"343\" y=\"63\">Crab</text><text font-size=\"10\" x=\"384\" y=\"167\">Dinah</text><text font-size=\"10\" x=\"370\" y=\"250\">Lizard Bill</text><text font-size=\"10\" x=\"431\" y=\"256\">Mary Ann</text><text font-size=\"10\" x=\"473\" y=\"182\">Pat</text><text font-size=\"10\" x=\"501\" y=\"217\">Caterpillar</text><text font-size=\"10\" x=\"422\" y=\"153\">Pigeon</text><text font-size=\"10\" x=\"453\" y=\"167\">Fish-Footman</text><text font-size=\"10\" x=\"445\" y=\"243\">Duchess</text><text font-size=\"10\" x=\"485\" y=\"251\">Cheshire Cat</text><text font-size=\"10\" x=\"338\" y=\"250\">March Hare</text><text font-size=\"10\" x=\"293\" y=\"214\">Dormouse</text><text font-size=\"10\" x=\"306\" y=\"230\">Mad Hatter</text><text font-size=\"10\" x=\"28\" y=\"25\">Tillie</text><text font-size=\"10\" x=\"627\" y=\"516\">Elsie</text><text font-size=\"10\" x=\"92\" y=\"525\">Lacie</text><text font-size=\"10\" x=\"344\" y=\"275\">Kings</text><text font-size=\"10\" x=\"305\" y=\"299\">Queens</text><text font-size=\"10\" x=\"442\" y=\"286\">Lobster Quadrille</text><text font-size=\"10\" x=\"334\" y=\"202\">Gryphon</text><text font-size=\"10\" x=\"296\" y=\"250\">Queen of Hearts</text><text font-size=\"10\" x=\"265\" y=\"302\">Frog-Footman</text><text font-size=\"10\" x=\"237\" y=\"291\">Card Gardener #1</text><text font-size=\"10\" x=\"218\" y=\"274\">Card Gardener #2</text><text font-size=\"10\" x=\"211\" y=\"255\">Card Gardener #3</text><text font-size=\"10\" x=\"295\" y=\"258\">King of Hearts</text><text font-size=\"10\" x=\"219\" y=\"234\">Knave of Hearts</text><text font-size=\"10\" x=\"327\" y=\"222\">Mock Turtle</text></svg>"
      ],
      "text/plain": [
       "<IPython.core.display.SVG object>"
      ]
     },
     "execution_count": 37,
     "metadata": {},
     "output_type": "execute_result"
    }
   ],
   "source": [
    "draw_graph(G, show_names=True, node_size=5, edge_width=1) "
   ]
  },
  {
   "cell_type": "code",
   "execution_count": 38,
   "id": "8f5a9fd3",
   "metadata": {},
   "outputs": [],
   "source": [
    "add_edges = [('Dormouse', 'Elsie'), ('Dormouse', 'Lacie'), ('Dormouse', 'Tillie')] "
   ]
  },
  {
   "cell_type": "code",
   "execution_count": 39,
   "id": "369eea15",
   "metadata": {},
   "outputs": [],
   "source": [
    "add_edges = [('Dormouse', 'Elsie'), ('Dormouse', 'Lacie'), ('Dormouse', 'Tillie')] \n",
    "\n",
    "G.add_edges_from(add_edges) "
   ]
  },
  {
   "cell_type": "code",
   "execution_count": 40,
   "id": "4a91a3b1",
   "metadata": {},
   "outputs": [
    {
     "data": {
      "image/svg+xml": [
       "<svg height=\"540\" width=\"845.0\" xmlns=\"http://www.w3.org/2000/svg\"><path d=\"M 453 335 453 335\" stroke=\"gray\" stroke-width=\"1\"/><path d=\"M 453 335 377 294\" stroke=\"gray\" stroke-width=\"1\"/><path d=\"M 453 335 373 391\" stroke=\"gray\" stroke-width=\"1\"/><path d=\"M 453 335 401 340\" stroke=\"gray\" stroke-width=\"1\"/><path d=\"M 453 335 467 259\" stroke=\"gray\" stroke-width=\"1\"/><path d=\"M 453 335 649 368\" stroke=\"gray\" stroke-width=\"1\"/><path d=\"M 453 335 293 324\" stroke=\"gray\" stroke-width=\"1\"/><path d=\"M 453 335 302 336\" stroke=\"gray\" stroke-width=\"1\"/><path d=\"M 377 294 453 335\" stroke=\"gray\" stroke-width=\"1\"/><path d=\"M 377 294 529 414\" stroke=\"gray\" stroke-width=\"1\"/><path d=\"M 377 294 288 206\" stroke=\"gray\" stroke-width=\"1\"/><path d=\"M 377 294 235 163\" stroke=\"gray\" stroke-width=\"1\"/><path d=\"M 377 294 238 431\" stroke=\"gray\" stroke-width=\"1\"/><path d=\"M 377 294 373 391\" stroke=\"gray\" stroke-width=\"1\"/><path d=\"M 377 294 401 340\" stroke=\"gray\" stroke-width=\"1\"/><path d=\"M 377 294 467 259\" stroke=\"gray\" stroke-width=\"1\"/><path d=\"M 377 294 369 191\" stroke=\"gray\" stroke-width=\"1\"/><path d=\"M 377 294 443 193\" stroke=\"gray\" stroke-width=\"1\"/><path d=\"M 377 294 512 217\" stroke=\"gray\" stroke-width=\"1\"/><path d=\"M 377 294 495 358\" stroke=\"gray\" stroke-width=\"1\"/><path d=\"M 377 294 553 345\" stroke=\"gray\" stroke-width=\"1\"/><path d=\"M 377 294 357 347\" stroke=\"gray\" stroke-width=\"1\"/><path d=\"M 377 294 516 280\" stroke=\"gray\" stroke-width=\"1\"/><path d=\"M 377 294 402 305\" stroke=\"gray\" stroke-width=\"1\"/><path d=\"M 377 294 217 315\" stroke=\"gray\" stroke-width=\"1\"/><path d=\"M 377 294 576 267\" stroke=\"gray\" stroke-width=\"1\"/><path d=\"M 377 294 209 262\" stroke=\"gray\" stroke-width=\"1\"/><path d=\"M 377 294 293 324\" stroke=\"gray\" stroke-width=\"1\"/><path d=\"M 377 294 302 336\" stroke=\"gray\" stroke-width=\"1\"/><path d=\"M 377 294 252 290\" stroke=\"gray\" stroke-width=\"1\"/><path d=\"M 628 496 529 414\" stroke=\"gray\" stroke-width=\"1\"/><path d=\"M 529 414 377 294\" stroke=\"gray\" stroke-width=\"1\"/><path d=\"M 529 414 628 496\" stroke=\"gray\" stroke-width=\"1\"/><path d=\"M 288 206 377 294\" stroke=\"gray\" stroke-width=\"1\"/><path d=\"M 235 163 377 294\" stroke=\"gray\" stroke-width=\"1\"/><path d=\"M 235 163 119 72\" stroke=\"gray\" stroke-width=\"1\"/><path d=\"M 238 431 377 294\" stroke=\"gray\" stroke-width=\"1\"/><path d=\"M 238 431 162 520\" stroke=\"gray\" stroke-width=\"1\"/><path d=\"M 238 431 70 476\" stroke=\"gray\" stroke-width=\"1\"/><path d=\"M 238 431 373 391\" stroke=\"gray\" stroke-width=\"1\"/><path d=\"M 162 520 238 431\" stroke=\"gray\" stroke-width=\"1\"/><path d=\"M 119 72 235 163\" stroke=\"gray\" stroke-width=\"1\"/><path d=\"M 119 72 20 20\" stroke=\"gray\" stroke-width=\"1\"/><path d=\"M 20 20 119 72\" stroke=\"gray\" stroke-width=\"1\"/><path d=\"M 70 476 238 431\" stroke=\"gray\" stroke-width=\"1\"/><path d=\"M 373 391 453 335\" stroke=\"gray\" stroke-width=\"1\"/><path d=\"M 373 391 377 294\" stroke=\"gray\" stroke-width=\"1\"/><path d=\"M 373 391 238 431\" stroke=\"gray\" stroke-width=\"1\"/><path d=\"M 401 340 453 335\" stroke=\"gray\" stroke-width=\"1\"/><path d=\"M 401 340 377 294\" stroke=\"gray\" stroke-width=\"1\"/><path d=\"M 401 340 495 358\" stroke=\"gray\" stroke-width=\"1\"/><path d=\"M 401 340 357 347\" stroke=\"gray\" stroke-width=\"1\"/><path d=\"M 401 340 293 324\" stroke=\"gray\" stroke-width=\"1\"/><path d=\"M 401 340 302 336\" stroke=\"gray\" stroke-width=\"1\"/><path d=\"M 467 259 453 335\" stroke=\"gray\" stroke-width=\"1\"/><path d=\"M 467 259 377 294\" stroke=\"gray\" stroke-width=\"1\"/><path d=\"M 649 368 453 335\" stroke=\"gray\" stroke-width=\"1\"/><path d=\"M 369 191 377 294\" stroke=\"gray\" stroke-width=\"1\"/><path d=\"M 443 193 377 294\" stroke=\"gray\" stroke-width=\"1\"/><path d=\"M 512 217 377 294\" stroke=\"gray\" stroke-width=\"1\"/><path d=\"M 495 358 377 294\" stroke=\"gray\" stroke-width=\"1\"/><path d=\"M 495 358 401 340\" stroke=\"gray\" stroke-width=\"1\"/><path d=\"M 495 358 553 345\" stroke=\"gray\" stroke-width=\"1\"/><path d=\"M 553 345 377 294\" stroke=\"gray\" stroke-width=\"1\"/><path d=\"M 553 345 495 358\" stroke=\"gray\" stroke-width=\"1\"/><path d=\"M 357 347 377 294\" stroke=\"gray\" stroke-width=\"1\"/><path d=\"M 357 347 401 340\" stroke=\"gray\" stroke-width=\"1\"/><path d=\"M 357 347 402 305\" stroke=\"gray\" stroke-width=\"1\"/><path d=\"M 357 347 293 324\" stroke=\"gray\" stroke-width=\"1\"/><path d=\"M 357 347 302 336\" stroke=\"gray\" stroke-width=\"1\"/><path d=\"M 516 280 377 294\" stroke=\"gray\" stroke-width=\"1\"/><path d=\"M 516 280 402 305\" stroke=\"gray\" stroke-width=\"1\"/><path d=\"M 516 280 706 240\" stroke=\"gray\" stroke-width=\"1\"/><path d=\"M 516 280 720 280\" stroke=\"gray\" stroke-width=\"1\"/><path d=\"M 516 280 655 201\" stroke=\"gray\" stroke-width=\"1\"/><path d=\"M 516 280 293 324\" stroke=\"gray\" stroke-width=\"1\"/><path d=\"M 516 280 302 336\" stroke=\"gray\" stroke-width=\"1\"/><path d=\"M 402 305 377 294\" stroke=\"gray\" stroke-width=\"1\"/><path d=\"M 402 305 357 347\" stroke=\"gray\" stroke-width=\"1\"/><path d=\"M 402 305 516 280\" stroke=\"gray\" stroke-width=\"1\"/><path d=\"M 402 305 293 324\" stroke=\"gray\" stroke-width=\"1\"/><path d=\"M 402 305 302 336\" stroke=\"gray\" stroke-width=\"1\"/><path d=\"M 706 240 516 280\" stroke=\"gray\" stroke-width=\"1\"/><path d=\"M 720 280 516 280\" stroke=\"gray\" stroke-width=\"1\"/><path d=\"M 655 201 516 280\" stroke=\"gray\" stroke-width=\"1\"/><path d=\"M 217 315 377 294\" stroke=\"gray\" stroke-width=\"1\"/><path d=\"M 217 315 147 323\" stroke=\"gray\" stroke-width=\"1\"/><path d=\"M 217 315 293 324\" stroke=\"gray\" stroke-width=\"1\"/><path d=\"M 217 315 302 336\" stroke=\"gray\" stroke-width=\"1\"/><path d=\"M 147 323 217 315\" stroke=\"gray\" stroke-width=\"1\"/><path d=\"M 147 323 293 324\" stroke=\"gray\" stroke-width=\"1\"/><path d=\"M 147 323 302 336\" stroke=\"gray\" stroke-width=\"1\"/><path d=\"M 576 267 377 294\" stroke=\"gray\" stroke-width=\"1\"/><path d=\"M 209 262 377 294\" stroke=\"gray\" stroke-width=\"1\"/><path d=\"M 209 262 293 324\" stroke=\"gray\" stroke-width=\"1\"/><path d=\"M 209 262 252 290\" stroke=\"gray\" stroke-width=\"1\"/><path d=\"M 293 324 453 335\" stroke=\"gray\" stroke-width=\"1\"/><path d=\"M 293 324 377 294\" stroke=\"gray\" stroke-width=\"1\"/><path d=\"M 293 324 401 340\" stroke=\"gray\" stroke-width=\"1\"/><path d=\"M 293 324 357 347\" stroke=\"gray\" stroke-width=\"1\"/><path d=\"M 293 324 516 280\" stroke=\"gray\" stroke-width=\"1\"/><path d=\"M 293 324 402 305\" stroke=\"gray\" stroke-width=\"1\"/><path d=\"M 293 324 217 315\" stroke=\"gray\" stroke-width=\"1\"/><path d=\"M 293 324 147 323\" stroke=\"gray\" stroke-width=\"1\"/><path d=\"M 293 324 209 262\" stroke=\"gray\" stroke-width=\"1\"/><path d=\"M 293 324 229 389\" stroke=\"gray\" stroke-width=\"1\"/><path d=\"M 293 324 176 379\" stroke=\"gray\" stroke-width=\"1\"/><path d=\"M 293 324 294 405\" stroke=\"gray\" stroke-width=\"1\"/><path d=\"M 293 324 243 268\" stroke=\"gray\" stroke-width=\"1\"/><path d=\"M 293 324 302 336\" stroke=\"gray\" stroke-width=\"1\"/><path d=\"M 293 324 146 355\" stroke=\"gray\" stroke-width=\"1\"/><path d=\"M 293 324 252 290\" stroke=\"gray\" stroke-width=\"1\"/><path d=\"M 229 389 293 324\" stroke=\"gray\" stroke-width=\"1\"/><path d=\"M 229 389 302 336\" stroke=\"gray\" stroke-width=\"1\"/><path d=\"M 176 379 293 324\" stroke=\"gray\" stroke-width=\"1\"/><path d=\"M 176 379 302 336\" stroke=\"gray\" stroke-width=\"1\"/><path d=\"M 294 405 293 324\" stroke=\"gray\" stroke-width=\"1\"/><path d=\"M 294 405 302 336\" stroke=\"gray\" stroke-width=\"1\"/><path d=\"M 243 268 293 324\" stroke=\"gray\" stroke-width=\"1\"/><path d=\"M 243 268 302 336\" stroke=\"gray\" stroke-width=\"1\"/><path d=\"M 302 336 453 335\" stroke=\"gray\" stroke-width=\"1\"/><path d=\"M 302 336 377 294\" stroke=\"gray\" stroke-width=\"1\"/><path d=\"M 302 336 401 340\" stroke=\"gray\" stroke-width=\"1\"/><path d=\"M 302 336 357 347\" stroke=\"gray\" stroke-width=\"1\"/><path d=\"M 302 336 516 280\" stroke=\"gray\" stroke-width=\"1\"/><path d=\"M 302 336 402 305\" stroke=\"gray\" stroke-width=\"1\"/><path d=\"M 302 336 217 315\" stroke=\"gray\" stroke-width=\"1\"/><path d=\"M 302 336 147 323\" stroke=\"gray\" stroke-width=\"1\"/><path d=\"M 302 336 293 324\" stroke=\"gray\" stroke-width=\"1\"/><path d=\"M 302 336 229 389\" stroke=\"gray\" stroke-width=\"1\"/><path d=\"M 302 336 176 379\" stroke=\"gray\" stroke-width=\"1\"/><path d=\"M 302 336 294 405\" stroke=\"gray\" stroke-width=\"1\"/><path d=\"M 302 336 243 268\" stroke=\"gray\" stroke-width=\"1\"/><path d=\"M 302 336 146 355\" stroke=\"gray\" stroke-width=\"1\"/><path d=\"M 302 336 252 290\" stroke=\"gray\" stroke-width=\"1\"/><path d=\"M 146 355 293 324\" stroke=\"gray\" stroke-width=\"1\"/><path d=\"M 146 355 302 336\" stroke=\"gray\" stroke-width=\"1\"/><path d=\"M 252 290 377 294\" stroke=\"gray\" stroke-width=\"1\"/><path d=\"M 252 290 209 262\" stroke=\"gray\" stroke-width=\"1\"/><path d=\"M 252 290 293 324\" stroke=\"gray\" stroke-width=\"1\"/><path d=\"M 252 290 302 336\" stroke=\"gray\" stroke-width=\"1\"/><circle cx=\"453\" cy=\"335\" r=\"5.0\" style=\"fill:rgb(155, 187, 254);stroke:black;stroke-width:1.0\"/><circle cx=\"377\" cy=\"294\" r=\"5.0\" style=\"fill:rgb(179, 3, 38);stroke:black;stroke-width:1.0\"/><circle cx=\"628\" cy=\"496\" r=\"5.0\" style=\"fill:rgb(64, 84, 199);stroke:black;stroke-width:1.0\"/><circle cx=\"529\" cy=\"414\" r=\"5.0\" style=\"fill:rgb(82, 110, 220);stroke:black;stroke-width:1.0\"/><circle cx=\"288\" cy=\"206\" r=\"5.0\" style=\"fill:rgb(58, 76, 192);stroke:black;stroke-width:1.0\"/><circle cx=\"235\" cy=\"163\" r=\"5.0\" style=\"fill:rgb(82, 110, 220);stroke:black;stroke-width:1.0\"/><circle cx=\"238\" cy=\"431\" r=\"5.0\" style=\"fill:rgb(116, 151, 245);stroke:black;stroke-width:1.0\"/><circle cx=\"162\" cy=\"520\" r=\"5.0\" style=\"fill:rgb(60, 79, 195);stroke:black;stroke-width:1.0\"/><circle cx=\"119\" cy=\"72\" r=\"5.0\" style=\"fill:rgb(88, 118, 226);stroke:black;stroke-width:1.0\"/><circle cx=\"20\" cy=\"20\" r=\"5.0\" style=\"fill:rgb(70, 93, 207);stroke:black;stroke-width:1.0\"/><circle cx=\"70\" cy=\"476\" r=\"5.0\" style=\"fill:rgb(60, 79, 195);stroke:black;stroke-width:1.0\"/><circle cx=\"373\" cy=\"391\" r=\"5.0\" style=\"fill:rgb(86, 115, 224);stroke:black;stroke-width:1.0\"/><circle cx=\"401\" cy=\"340\" r=\"5.0\" style=\"fill:rgb(120, 155, 247);stroke:black;stroke-width:1.0\"/><circle cx=\"467\" cy=\"259\" r=\"5.0\" style=\"fill:rgb(70, 93, 207);stroke:black;stroke-width:1.0\"/><circle cx=\"649\" cy=\"368\" r=\"5.0\" style=\"fill:rgb(58, 76, 192);stroke:black;stroke-width:1.0\"/><circle cx=\"369\" cy=\"191\" r=\"5.0\" style=\"fill:rgb(58, 76, 192);stroke:black;stroke-width:1.0\"/><circle cx=\"443\" cy=\"193\" r=\"5.0\" style=\"fill:rgb(58, 76, 192);stroke:black;stroke-width:1.0\"/><circle cx=\"512\" cy=\"217\" r=\"5.0\" style=\"fill:rgb(58, 76, 192);stroke:black;stroke-width:1.0\"/><circle cx=\"495\" cy=\"358\" r=\"5.0\" style=\"fill:rgb(82, 110, 220);stroke:black;stroke-width:1.0\"/><circle cx=\"553\" cy=\"345\" r=\"5.0\" style=\"fill:rgb(70, 93, 207);stroke:black;stroke-width:1.0\"/><circle cx=\"357\" cy=\"347\" r=\"5.0\" style=\"fill:rgb(103, 136, 237);stroke:black;stroke-width:1.0\"/><circle cx=\"516\" cy=\"280\" r=\"5.0\" style=\"fill:rgb(155, 187, 254);stroke:black;stroke-width:1.0\"/><circle cx=\"402\" cy=\"305\" r=\"5.0\" style=\"fill:rgb(105, 139, 239);stroke:black;stroke-width:1.0\"/><circle cx=\"706\" cy=\"240\" r=\"5.0\" style=\"fill:rgb(58, 76, 192);stroke:black;stroke-width:1.0\"/><circle cx=\"720\" cy=\"280\" r=\"5.0\" style=\"fill:rgb(58, 76, 192);stroke:black;stroke-width:1.0\"/><circle cx=\"655\" cy=\"201\" r=\"5.0\" style=\"fill:rgb(58, 76, 192);stroke:black;stroke-width:1.0\"/><circle cx=\"217\" cy=\"315\" r=\"5.0\" style=\"fill:rgb(92, 123, 229);stroke:black;stroke-width:1.0\"/><circle cx=\"147\" cy=\"323\" r=\"5.0\" style=\"fill:rgb(76, 102, 214);stroke:black;stroke-width:1.0\"/><circle cx=\"576\" cy=\"267\" r=\"5.0\" style=\"fill:rgb(58, 76, 192);stroke:black;stroke-width:1.0\"/><circle cx=\"209\" cy=\"262\" r=\"5.0\" style=\"fill:rgb(80, 107, 218);stroke:black;stroke-width:1.0\"/><circle cx=\"293\" cy=\"324\" r=\"5.0\" style=\"fill:rgb(239, 206, 188);stroke:black;stroke-width:1.0\"/><circle cx=\"229\" cy=\"389\" r=\"5.0\" style=\"fill:rgb(66, 88, 202);stroke:black;stroke-width:1.0\"/><circle cx=\"176\" cy=\"379\" r=\"5.0\" style=\"fill:rgb(66, 88, 202);stroke:black;stroke-width:1.0\"/><circle cx=\"294\" cy=\"405\" r=\"5.0\" style=\"fill:rgb(66, 88, 202);stroke:black;stroke-width:1.0\"/><circle cx=\"243\" cy=\"268\" r=\"5.0\" style=\"fill:rgb(66, 88, 202);stroke:black;stroke-width:1.0\"/><circle cx=\"302\" cy=\"336\" r=\"5.0\" style=\"fill:rgb(231, 214, 204);stroke:black;stroke-width:1.0\"/><circle cx=\"146\" cy=\"355\" r=\"5.0\" style=\"fill:rgb(66, 88, 202);stroke:black;stroke-width:1.0\"/><circle cx=\"252\" cy=\"290\" r=\"5.0\" style=\"fill:rgb(92, 123, 229);stroke:black;stroke-width:1.0\"/><text font-size=\"10\" x=\"461\" y=\"340\">White Rabbit</text><text font-size=\"10\" x=\"385\" y=\"299\">Alice</text><text font-size=\"10\" x=\"636\" y=\"501\">Ada</text><text font-size=\"10\" x=\"537\" y=\"419\">Mabel</text><text font-size=\"10\" x=\"296\" y=\"211\">William the Conqueror</text><text font-size=\"10\" x=\"243\" y=\"168\">Mouse</text><text font-size=\"10\" x=\"246\" y=\"436\">Lory</text><text font-size=\"10\" x=\"170\" y=\"525\">Eaglet</text><text font-size=\"10\" x=\"127\" y=\"77\">Father William</text><text font-size=\"10\" x=\"28\" y=\"25\">Edgar Atheling</text><text font-size=\"10\" x=\"78\" y=\"481\">Crab</text><text font-size=\"10\" x=\"381\" y=\"396\">Dinah</text><text font-size=\"10\" x=\"409\" y=\"345\">Lizard Bill</text><text font-size=\"10\" x=\"475\" y=\"264\">Mary Ann</text><text font-size=\"10\" x=\"657\" y=\"373\">Pat</text><text font-size=\"10\" x=\"377\" y=\"196\">Caterpillar</text><text font-size=\"10\" x=\"451\" y=\"198\">Pigeon</text><text font-size=\"10\" x=\"520\" y=\"222\">Fish-Footman</text><text font-size=\"10\" x=\"503\" y=\"363\">Duchess</text><text font-size=\"10\" x=\"561\" y=\"350\">Cheshire Cat</text><text font-size=\"10\" x=\"365\" y=\"352\">March Hare</text><text font-size=\"10\" x=\"524\" y=\"285\">Dormouse</text><text font-size=\"10\" x=\"410\" y=\"310\">Mad Hatter</text><text font-size=\"10\" x=\"714\" y=\"245\">Tillie</text><text font-size=\"10\" x=\"728\" y=\"285\">Elsie</text><text font-size=\"10\" x=\"663\" y=\"206\">Lacie</text><text font-size=\"10\" x=\"225\" y=\"320\">Kings</text><text font-size=\"10\" x=\"155\" y=\"328\">Queens</text><text font-size=\"10\" x=\"584\" y=\"272\">Lobster Quadrille</text><text font-size=\"10\" x=\"217\" y=\"267\">Gryphon</text><text font-size=\"10\" x=\"301\" y=\"329\">Queen of Hearts</text><text font-size=\"10\" x=\"237\" y=\"394\">Frog-Footman</text><text font-size=\"10\" x=\"184\" y=\"384\">Card Gardener #1</text><text font-size=\"10\" x=\"302\" y=\"410\">Card Gardener #2</text><text font-size=\"10\" x=\"251\" y=\"273\">Card Gardener #3</text><text font-size=\"10\" x=\"310\" y=\"341\">King of Hearts</text><text font-size=\"10\" x=\"154\" y=\"360\">Knave of Hearts</text><text font-size=\"10\" x=\"260\" y=\"295\">Mock Turtle</text></svg>"
      ],
      "text/plain": [
       "<IPython.core.display.SVG object>"
      ]
     },
     "execution_count": 40,
     "metadata": {},
     "output_type": "execute_result"
    }
   ],
   "source": [
    "draw_graph(G, show_names=True, node_size=5, edge_width=1) "
   ]
  },
  {
   "cell_type": "code",
   "execution_count": 41,
   "id": "872d435f",
   "metadata": {},
   "outputs": [],
   "source": [
    "# attack simulation"
   ]
  },
  {
   "cell_type": "code",
   "execution_count": 42,
   "id": "8a2e5cfa",
   "metadata": {},
   "outputs": [],
   "source": [
    "drop_nodes = ['Alice', 'Dormouse', 'White Rabbit', 'Mad Hatter'] \n",
    "\n",
    "G.remove_nodes_from(drop_nodes) "
   ]
  },
  {
   "cell_type": "code",
   "execution_count": 43,
   "id": "74ceda84",
   "metadata": {},
   "outputs": [
    {
     "data": {
      "image/svg+xml": [
       "<svg height=\"540\" width=\"845.0\" xmlns=\"http://www.w3.org/2000/svg\"><path d=\"M 322 378 298 379\" stroke=\"gray\" stroke-width=\"1\"/><path d=\"M 298 379 322 378\" stroke=\"gray\" stroke-width=\"1\"/><path d=\"M 673 315 665 332\" stroke=\"gray\" stroke-width=\"1\"/><path d=\"M 45 256 66 270\" stroke=\"gray\" stroke-width=\"1\"/><path d=\"M 45 256 46 236\" stroke=\"gray\" stroke-width=\"1\"/><path d=\"M 45 256 20 265\" stroke=\"gray\" stroke-width=\"1\"/><path d=\"M 66 270 45 256\" stroke=\"gray\" stroke-width=\"1\"/><path d=\"M 665 332 673 315\" stroke=\"gray\" stroke-width=\"1\"/><path d=\"M 665 332 658 349\" stroke=\"gray\" stroke-width=\"1\"/><path d=\"M 658 349 665 332\" stroke=\"gray\" stroke-width=\"1\"/><path d=\"M 46 236 45 256\" stroke=\"gray\" stroke-width=\"1\"/><path d=\"M 20 265 45 256\" stroke=\"gray\" stroke-width=\"1\"/><path d=\"M 336 205 284 196\" stroke=\"gray\" stroke-width=\"1\"/><path d=\"M 336 205 352 213\" stroke=\"gray\" stroke-width=\"1\"/><path d=\"M 336 205 386 215\" stroke=\"gray\" stroke-width=\"1\"/><path d=\"M 336 205 381 210\" stroke=\"gray\" stroke-width=\"1\"/><path d=\"M 284 196 336 205\" stroke=\"gray\" stroke-width=\"1\"/><path d=\"M 284 196 247 188\" stroke=\"gray\" stroke-width=\"1\"/><path d=\"M 247 188 284 196\" stroke=\"gray\" stroke-width=\"1\"/><path d=\"M 352 213 336 205\" stroke=\"gray\" stroke-width=\"1\"/><path d=\"M 352 213 386 215\" stroke=\"gray\" stroke-width=\"1\"/><path d=\"M 352 213 381 210\" stroke=\"gray\" stroke-width=\"1\"/><path d=\"M 360 230 375 233\" stroke=\"gray\" stroke-width=\"1\"/><path d=\"M 360 230 386 215\" stroke=\"gray\" stroke-width=\"1\"/><path d=\"M 360 230 381 210\" stroke=\"gray\" stroke-width=\"1\"/><path d=\"M 375 233 360 230\" stroke=\"gray\" stroke-width=\"1\"/><path d=\"M 375 233 386 215\" stroke=\"gray\" stroke-width=\"1\"/><path d=\"M 375 233 381 210\" stroke=\"gray\" stroke-width=\"1\"/><path d=\"M 413 241 386 215\" stroke=\"gray\" stroke-width=\"1\"/><path d=\"M 413 241 400 232\" stroke=\"gray\" stroke-width=\"1\"/><path d=\"M 386 215 336 205\" stroke=\"gray\" stroke-width=\"1\"/><path d=\"M 386 215 352 213\" stroke=\"gray\" stroke-width=\"1\"/><path d=\"M 386 215 360 230\" stroke=\"gray\" stroke-width=\"1\"/><path d=\"M 386 215 375 233\" stroke=\"gray\" stroke-width=\"1\"/><path d=\"M 386 215 413 241\" stroke=\"gray\" stroke-width=\"1\"/><path d=\"M 386 215 389 190\" stroke=\"gray\" stroke-width=\"1\"/><path d=\"M 386 215 417 218\" stroke=\"gray\" stroke-width=\"1\"/><path d=\"M 386 215 418 205\" stroke=\"gray\" stroke-width=\"1\"/><path d=\"M 386 215 367 193\" stroke=\"gray\" stroke-width=\"1\"/><path d=\"M 386 215 381 210\" stroke=\"gray\" stroke-width=\"1\"/><path d=\"M 386 215 407 195\" stroke=\"gray\" stroke-width=\"1\"/><path d=\"M 386 215 400 232\" stroke=\"gray\" stroke-width=\"1\"/><path d=\"M 389 190 386 215\" stroke=\"gray\" stroke-width=\"1\"/><path d=\"M 389 190 381 210\" stroke=\"gray\" stroke-width=\"1\"/><path d=\"M 417 218 386 215\" stroke=\"gray\" stroke-width=\"1\"/><path d=\"M 417 218 381 210\" stroke=\"gray\" stroke-width=\"1\"/><path d=\"M 418 205 386 215\" stroke=\"gray\" stroke-width=\"1\"/><path d=\"M 418 205 381 210\" stroke=\"gray\" stroke-width=\"1\"/><path d=\"M 367 193 386 215\" stroke=\"gray\" stroke-width=\"1\"/><path d=\"M 367 193 381 210\" stroke=\"gray\" stroke-width=\"1\"/><path d=\"M 381 210 336 205\" stroke=\"gray\" stroke-width=\"1\"/><path d=\"M 381 210 352 213\" stroke=\"gray\" stroke-width=\"1\"/><path d=\"M 381 210 360 230\" stroke=\"gray\" stroke-width=\"1\"/><path d=\"M 381 210 375 233\" stroke=\"gray\" stroke-width=\"1\"/><path d=\"M 381 210 386 215\" stroke=\"gray\" stroke-width=\"1\"/><path d=\"M 381 210 389 190\" stroke=\"gray\" stroke-width=\"1\"/><path d=\"M 381 210 417 218\" stroke=\"gray\" stroke-width=\"1\"/><path d=\"M 381 210 418 205\" stroke=\"gray\" stroke-width=\"1\"/><path d=\"M 381 210 367 193\" stroke=\"gray\" stroke-width=\"1\"/><path d=\"M 381 210 407 195\" stroke=\"gray\" stroke-width=\"1\"/><path d=\"M 381 210 400 232\" stroke=\"gray\" stroke-width=\"1\"/><path d=\"M 407 195 386 215\" stroke=\"gray\" stroke-width=\"1\"/><path d=\"M 407 195 381 210\" stroke=\"gray\" stroke-width=\"1\"/><path d=\"M 400 232 413 241\" stroke=\"gray\" stroke-width=\"1\"/><path d=\"M 400 232 386 215\" stroke=\"gray\" stroke-width=\"1\"/><path d=\"M 400 232 381 210\" stroke=\"gray\" stroke-width=\"1\"/><circle cx=\"322\" cy=\"378\" r=\"5.0\" style=\"fill:rgb(120, 155, 247);stroke:black;stroke-width:1.0\"/><circle cx=\"298\" cy=\"379\" r=\"5.0\" style=\"fill:rgb(120, 155, 247);stroke:black;stroke-width:1.0\"/><circle cx=\"720\" cy=\"218\" r=\"5.0\" style=\"fill:rgb(120, 155, 247);stroke:black;stroke-width:1.0\"/><circle cx=\"673\" cy=\"315\" r=\"5.0\" style=\"fill:rgb(92, 123, 229);stroke:black;stroke-width:1.0\"/><circle cx=\"45\" cy=\"256\" r=\"5.0\" style=\"fill:rgb(224, 218, 215);stroke:black;stroke-width:1.0\"/><circle cx=\"66\" cy=\"270\" r=\"5.0\" style=\"fill:rgb(82, 110, 220);stroke:black;stroke-width:1.0\"/><circle cx=\"665\" cy=\"332\" r=\"5.0\" style=\"fill:rgb(176, 203, 251);stroke:black;stroke-width:1.0\"/><circle cx=\"658\" cy=\"349\" r=\"5.0\" style=\"fill:rgb(92, 123, 229);stroke:black;stroke-width:1.0\"/><circle cx=\"46\" cy=\"236\" r=\"5.0\" style=\"fill:rgb(82, 110, 220);stroke:black;stroke-width:1.0\"/><circle cx=\"20\" cy=\"265\" r=\"5.0\" style=\"fill:rgb(82, 110, 220);stroke:black;stroke-width:1.0\"/><circle cx=\"336\" cy=\"205\" r=\"5.0\" style=\"fill:rgb(145, 179, 254);stroke:black;stroke-width:1.0\"/><circle cx=\"174\" cy=\"520\" r=\"5.0\" style=\"fill:rgb(120, 155, 247);stroke:black;stroke-width:1.0\"/><circle cx=\"498\" cy=\"452\" r=\"5.0\" style=\"fill:rgb(120, 155, 247);stroke:black;stroke-width:1.0\"/><circle cx=\"494\" cy=\"512\" r=\"5.0\" style=\"fill:rgb(120, 155, 247);stroke:black;stroke-width:1.0\"/><circle cx=\"263\" cy=\"66\" r=\"5.0\" style=\"fill:rgb(120, 155, 247);stroke:black;stroke-width:1.0\"/><circle cx=\"354\" cy=\"433\" r=\"5.0\" style=\"fill:rgb(120, 155, 247);stroke:black;stroke-width:1.0\"/><circle cx=\"284\" cy=\"196\" r=\"5.0\" style=\"fill:rgb(96, 128, 232);stroke:black;stroke-width:1.0\"/><circle cx=\"247\" cy=\"188\" r=\"5.0\" style=\"fill:rgb(58, 76, 192);stroke:black;stroke-width:1.0\"/><circle cx=\"352\" cy=\"213\" r=\"5.0\" style=\"fill:rgb(96, 128, 232);stroke:black;stroke-width:1.0\"/><circle cx=\"323\" cy=\"514\" r=\"5.0\" style=\"fill:rgb(120, 155, 247);stroke:black;stroke-width:1.0\"/><circle cx=\"279\" cy=\"20\" r=\"5.0\" style=\"fill:rgb(120, 155, 247);stroke:black;stroke-width:1.0\"/><circle cx=\"687\" cy=\"426\" r=\"5.0\" style=\"fill:rgb(120, 155, 247);stroke:black;stroke-width:1.0\"/><circle cx=\"360\" cy=\"230\" r=\"5.0\" style=\"fill:rgb(92, 123, 229);stroke:black;stroke-width:1.0\"/><circle cx=\"375\" cy=\"233\" r=\"5.0\" style=\"fill:rgb(92, 123, 229);stroke:black;stroke-width:1.0\"/><circle cx=\"585\" cy=\"293\" r=\"5.0\" style=\"fill:rgb(120, 155, 247);stroke:black;stroke-width:1.0\"/><circle cx=\"413\" cy=\"241\" r=\"5.0\" style=\"fill:rgb(66, 88, 202);stroke:black;stroke-width:1.0\"/><circle cx=\"386\" cy=\"215\" r=\"5.0\" style=\"fill:rgb(179, 3, 38);stroke:black;stroke-width:1.0\"/><circle cx=\"389\" cy=\"190\" r=\"5.0\" style=\"fill:rgb(64, 84, 199);stroke:black;stroke-width:1.0\"/><circle cx=\"417\" cy=\"218\" r=\"5.0\" style=\"fill:rgb(64, 84, 199);stroke:black;stroke-width:1.0\"/><circle cx=\"418\" cy=\"205\" r=\"5.0\" style=\"fill:rgb(64, 84, 199);stroke:black;stroke-width:1.0\"/><circle cx=\"367\" cy=\"193\" r=\"5.0\" style=\"fill:rgb(64, 84, 199);stroke:black;stroke-width:1.0\"/><circle cx=\"381\" cy=\"210\" r=\"5.0\" style=\"fill:rgb(217, 88, 71);stroke:black;stroke-width:1.0\"/><circle cx=\"407\" cy=\"195\" r=\"5.0\" style=\"fill:rgb(64, 84, 199);stroke:black;stroke-width:1.0\"/><circle cx=\"400\" cy=\"232\" r=\"5.0\" style=\"fill:rgb(96, 128, 232);stroke:black;stroke-width:1.0\"/><text font-size=\"10\" x=\"330\" y=\"383\">Ada</text><text font-size=\"10\" x=\"306\" y=\"384\">Mabel</text><text font-size=\"10\" x=\"728\" y=\"223\">William the Conqueror</text><text font-size=\"10\" x=\"681\" y=\"320\">Mouse</text><text font-size=\"10\" x=\"53\" y=\"261\">Lory</text><text font-size=\"10\" x=\"74\" y=\"275\">Eaglet</text><text font-size=\"10\" x=\"673\" y=\"337\">Father William</text><text font-size=\"10\" x=\"666\" y=\"354\">Edgar Atheling</text><text font-size=\"10\" x=\"54\" y=\"241\">Crab</text><text font-size=\"10\" x=\"28\" y=\"270\">Dinah</text><text font-size=\"10\" x=\"344\" y=\"210\">Lizard Bill</text><text font-size=\"10\" x=\"182\" y=\"525\">Mary Ann</text><text font-size=\"10\" x=\"506\" y=\"457\">Pat</text><text font-size=\"10\" x=\"502\" y=\"517\">Caterpillar</text><text font-size=\"10\" x=\"271\" y=\"71\">Pigeon</text><text font-size=\"10\" x=\"362\" y=\"438\">Fish-Footman</text><text font-size=\"10\" x=\"292\" y=\"201\">Duchess</text><text font-size=\"10\" x=\"255\" y=\"193\">Cheshire Cat</text><text font-size=\"10\" x=\"360\" y=\"218\">March Hare</text><text font-size=\"10\" x=\"331\" y=\"519\">Tillie</text><text font-size=\"10\" x=\"287\" y=\"25\">Elsie</text><text font-size=\"10\" x=\"695\" y=\"431\">Lacie</text><text font-size=\"10\" x=\"368\" y=\"235\">Kings</text><text font-size=\"10\" x=\"383\" y=\"238\">Queens</text><text font-size=\"10\" x=\"593\" y=\"298\">Lobster Quadrille</text><text font-size=\"10\" x=\"421\" y=\"246\">Gryphon</text><text font-size=\"10\" x=\"394\" y=\"220\">Queen of Hearts</text><text font-size=\"10\" x=\"397\" y=\"195\">Frog-Footman</text><text font-size=\"10\" x=\"425\" y=\"223\">Card Gardener #1</text><text font-size=\"10\" x=\"426\" y=\"210\">Card Gardener #2</text><text font-size=\"10\" x=\"375\" y=\"198\">Card Gardener #3</text><text font-size=\"10\" x=\"389\" y=\"215\">King of Hearts</text><text font-size=\"10\" x=\"415\" y=\"200\">Knave of Hearts</text><text font-size=\"10\" x=\"408\" y=\"237\">Mock Turtle</text></svg>"
      ],
      "text/plain": [
       "<IPython.core.display.SVG object>"
      ]
     },
     "execution_count": 43,
     "metadata": {},
     "output_type": "execute_result"
    }
   ],
   "source": [
    "draw_graph(G, show_names=True, node_size=5, edge_width=1) "
   ]
  },
  {
   "cell_type": "code",
   "execution_count": 44,
   "id": "cae8aa7a",
   "metadata": {},
   "outputs": [
    {
     "data": {
      "image/svg+xml": [
       "<svg height=\"540\" width=\"820.0\" xmlns=\"http://www.w3.org/2000/svg\"><path d=\"M 312 255 461 370\" stroke=\"gray\" stroke-width=\"0.5\"/><path d=\"M 312 255 146 118\" stroke=\"gray\" stroke-width=\"0.5\"/><path d=\"M 312 255 430 396\" stroke=\"gray\" stroke-width=\"0.5\"/><path d=\"M 312 255 440 289\" stroke=\"gray\" stroke-width=\"0.5\"/><path d=\"M 306 462 264 520\" stroke=\"gray\" stroke-width=\"0.5\"/><path d=\"M 306 462 461 370\" stroke=\"gray\" stroke-width=\"0.5\"/><path d=\"M 306 462 430 396\" stroke=\"gray\" stroke-width=\"0.5\"/><path d=\"M 264 520 306 462\" stroke=\"gray\" stroke-width=\"0.5\"/><path d=\"M 264 520 430 396\" stroke=\"gray\" stroke-width=\"0.5\"/><path d=\"M 624 460 461 370\" stroke=\"gray\" stroke-width=\"0.5\"/><path d=\"M 624 460 430 396\" stroke=\"gray\" stroke-width=\"0.5\"/><path d=\"M 461 370 312 255\" stroke=\"gray\" stroke-width=\"0.5\"/><path d=\"M 461 370 306 462\" stroke=\"gray\" stroke-width=\"0.5\"/><path d=\"M 461 370 624 460\" stroke=\"gray\" stroke-width=\"0.5\"/><path d=\"M 461 370 623 328\" stroke=\"gray\" stroke-width=\"0.5\"/><path d=\"M 461 370 486 481\" stroke=\"gray\" stroke-width=\"0.5\"/><path d=\"M 461 370 241 341\" stroke=\"gray\" stroke-width=\"0.5\"/><path d=\"M 461 370 430 396\" stroke=\"gray\" stroke-width=\"0.5\"/><path d=\"M 461 370 652 397\" stroke=\"gray\" stroke-width=\"0.5\"/><path d=\"M 461 370 206 402\" stroke=\"gray\" stroke-width=\"0.5\"/><path d=\"M 461 370 440 289\" stroke=\"gray\" stroke-width=\"0.5\"/><path d=\"M 461 370 720 362\" stroke=\"gray\" stroke-width=\"0.5\"/><path d=\"M 623 328 461 370\" stroke=\"gray\" stroke-width=\"0.5\"/><path d=\"M 623 328 430 396\" stroke=\"gray\" stroke-width=\"0.5\"/><path d=\"M 623 328 652 397\" stroke=\"gray\" stroke-width=\"0.5\"/><path d=\"M 486 481 461 370\" stroke=\"gray\" stroke-width=\"0.5\"/><path d=\"M 486 481 430 396\" stroke=\"gray\" stroke-width=\"0.5\"/><path d=\"M 146 118 312 255\" stroke=\"gray\" stroke-width=\"0.5\"/><path d=\"M 146 118 20 20\" stroke=\"gray\" stroke-width=\"0.5\"/><path d=\"M 241 341 461 370\" stroke=\"gray\" stroke-width=\"0.5\"/><path d=\"M 241 341 430 396\" stroke=\"gray\" stroke-width=\"0.5\"/><path d=\"M 430 396 312 255\" stroke=\"gray\" stroke-width=\"0.5\"/><path d=\"M 430 396 306 462\" stroke=\"gray\" stroke-width=\"0.5\"/><path d=\"M 430 396 264 520\" stroke=\"gray\" stroke-width=\"0.5\"/><path d=\"M 430 396 624 460\" stroke=\"gray\" stroke-width=\"0.5\"/><path d=\"M 430 396 461 370\" stroke=\"gray\" stroke-width=\"0.5\"/><path d=\"M 430 396 623 328\" stroke=\"gray\" stroke-width=\"0.5\"/><path d=\"M 430 396 486 481\" stroke=\"gray\" stroke-width=\"0.5\"/><path d=\"M 430 396 241 341\" stroke=\"gray\" stroke-width=\"0.5\"/><path d=\"M 430 396 652 397\" stroke=\"gray\" stroke-width=\"0.5\"/><path d=\"M 430 396 206 402\" stroke=\"gray\" stroke-width=\"0.5\"/><path d=\"M 430 396 440 289\" stroke=\"gray\" stroke-width=\"0.5\"/><path d=\"M 430 396 720 362\" stroke=\"gray\" stroke-width=\"0.5\"/><path d=\"M 20 20 146 118\" stroke=\"gray\" stroke-width=\"0.5\"/><path d=\"M 652 397 461 370\" stroke=\"gray\" stroke-width=\"0.5\"/><path d=\"M 652 397 623 328\" stroke=\"gray\" stroke-width=\"0.5\"/><path d=\"M 652 397 430 396\" stroke=\"gray\" stroke-width=\"0.5\"/><path d=\"M 206 402 461 370\" stroke=\"gray\" stroke-width=\"0.5\"/><path d=\"M 206 402 430 396\" stroke=\"gray\" stroke-width=\"0.5\"/><path d=\"M 440 289 312 255\" stroke=\"gray\" stroke-width=\"0.5\"/><path d=\"M 440 289 461 370\" stroke=\"gray\" stroke-width=\"0.5\"/><path d=\"M 440 289 430 396\" stroke=\"gray\" stroke-width=\"0.5\"/><path d=\"M 720 362 461 370\" stroke=\"gray\" stroke-width=\"0.5\"/><path d=\"M 720 362 430 396\" stroke=\"gray\" stroke-width=\"0.5\"/><circle cx=\"312\" cy=\"255\" r=\"4.0\" style=\"fill:rgb(145, 179, 254);stroke:black;stroke-width:1.0\"/><circle cx=\"306\" cy=\"462\" r=\"4.0\" style=\"fill:rgb(99, 131, 234);stroke:black;stroke-width:1.0\"/><circle cx=\"264\" cy=\"520\" r=\"4.0\" style=\"fill:rgb(66, 88, 202);stroke:black;stroke-width:1.0\"/><circle cx=\"624\" cy=\"460\" r=\"4.0\" style=\"fill:rgb(64, 84, 199);stroke:black;stroke-width:1.0\"/><circle cx=\"461\" cy=\"370\" r=\"4.0\" style=\"fill:rgb(217, 88, 71);stroke:black;stroke-width:1.0\"/><circle cx=\"623\" cy=\"328\" r=\"4.0\" style=\"fill:rgb(92, 123, 229);stroke:black;stroke-width:1.0\"/><circle cx=\"486\" cy=\"481\" r=\"4.0\" style=\"fill:rgb(64, 84, 199);stroke:black;stroke-width:1.0\"/><circle cx=\"146\" cy=\"118\" r=\"4.0\" style=\"fill:rgb(96, 128, 232);stroke:black;stroke-width:1.0\"/><circle cx=\"241\" cy=\"341\" r=\"4.0\" style=\"fill:rgb(64, 84, 199);stroke:black;stroke-width:1.0\"/><circle cx=\"430\" cy=\"396\" r=\"4.0\" style=\"fill:rgb(179, 3, 38);stroke:black;stroke-width:1.0\"/><circle cx=\"20\" cy=\"20\" r=\"4.0\" style=\"fill:rgb(58, 76, 192);stroke:black;stroke-width:1.0\"/><circle cx=\"652\" cy=\"397\" r=\"4.0\" style=\"fill:rgb(92, 123, 229);stroke:black;stroke-width:1.0\"/><circle cx=\"206\" cy=\"402\" r=\"4.0\" style=\"fill:rgb(64, 84, 199);stroke:black;stroke-width:1.0\"/><circle cx=\"440\" cy=\"289\" r=\"4.0\" style=\"fill:rgb(96, 128, 232);stroke:black;stroke-width:1.0\"/><circle cx=\"720\" cy=\"362\" r=\"4.0\" style=\"fill:rgb(64, 84, 199);stroke:black;stroke-width:1.0\"/><text font-size=\"10\" x=\"319\" y=\"259\">Lizard Bill</text><text font-size=\"10\" x=\"313\" y=\"466\">Mock Turtle</text><text font-size=\"10\" x=\"271\" y=\"524\">Gryphon</text><text font-size=\"10\" x=\"631\" y=\"464\">Card Gardener #3</text><text font-size=\"10\" x=\"468\" y=\"374\">King of Hearts</text><text font-size=\"10\" x=\"630\" y=\"332\">Queens</text><text font-size=\"10\" x=\"493\" y=\"485\">Knave of Hearts</text><text font-size=\"10\" x=\"153\" y=\"122\">Duchess</text><text font-size=\"10\" x=\"248\" y=\"345\">Frog-Footman</text><text font-size=\"10\" x=\"437\" y=\"400\">Queen of Hearts</text><text font-size=\"10\" x=\"27\" y=\"24\">Cheshire Cat</text><text font-size=\"10\" x=\"659\" y=\"401\">Kings</text><text font-size=\"10\" x=\"213\" y=\"406\">Card Gardener #2</text><text font-size=\"10\" x=\"447\" y=\"293\">March Hare</text><text font-size=\"10\" x=\"727\" y=\"366\">Card Gardener #1</text></svg>"
      ],
      "text/plain": [
       "<IPython.core.display.SVG object>"
      ]
     },
     "execution_count": 44,
     "metadata": {},
     "output_type": "execute_result"
    }
   ],
   "source": [
    "components = list(nx.connected_components(G)) \n",
    "\n",
    "main_component = components[4] \n",
    "\n",
    "G_sub = G.subgraph(main_component) \n",
    "\n",
    "draw_graph(G_sub, show_names=True, node_size=4, edge_width=0.5) "
   ]
  },
  {
   "cell_type": "code",
   "execution_count": null,
   "id": "85abd852",
   "metadata": {},
   "outputs": [],
   "source": []
  }
 ],
 "metadata": {
  "kernelspec": {
   "display_name": "Python 3",
   "language": "python",
   "name": "python3"
  },
  "language_info": {
   "codemirror_mode": {
    "name": "ipython",
    "version": 3
   },
   "file_extension": ".py",
   "mimetype": "text/x-python",
   "name": "python",
   "nbconvert_exporter": "python",
   "pygments_lexer": "ipython3",
   "version": "3.7.13"
  }
 },
 "nbformat": 4,
 "nbformat_minor": 5
}
